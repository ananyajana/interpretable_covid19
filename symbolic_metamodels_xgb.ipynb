{
 "cells": [
  {
   "cell_type": "code",
   "execution_count": 1,
   "metadata": {},
   "outputs": [],
   "source": [
    "from pysymbolic.algorithms.symbolic_metamodeling import *\n",
    "import numpy as np\n",
    "import pandas as pd"
   ]
  },
  {
   "cell_type": "code",
   "execution_count": 2,
   "metadata": {},
   "outputs": [],
   "source": [
    "path = './'\n",
    "file_name = 'COVID_V7.xlsx'\n",
    "full_file_path = path + file_name"
   ]
  },
  {
   "cell_type": "code",
   "execution_count": 3,
   "metadata": {},
   "outputs": [
    {
     "name": "stdout",
     "output_type": "stream",
     "text": [
      "all_data len: 538\n",
      "all_data columns len: 26\n"
     ]
    }
   ],
   "source": [
    "#from preprocess import clean_data\n",
    "all_data = pd.read_excel(full_file_path, sheet_name='Sheet1')\n",
    "print('all_data len:', len(all_data.index))\n",
    "print('all_data columns len:', len(all_data.columns))"
   ]
  },
  {
   "cell_type": "code",
   "execution_count": 4,
   "metadata": {},
   "outputs": [],
   "source": [
    "col_type_dict = {'Age':True, 'SEX':True, 'BMI':False, 'Prior_Co1':True, 'Prior_Co2':True, 'Prior_Co3':True, 'Prior_Co6':True,\n",
    "       'Prior_Co24':True, 'Alco':True, 'Smoke':True, 'SYMP1':True, 'SYMP2':True, 'SYMP3':True, 'SYMP5':True,\n",
    "       'SYMP6':True, 'SYMP11':True, 'SYMP12':True, 'SYMP20':True, 'SPO':False, 'WBC':False, 'Hgb':False,\n",
    "       'Hct':False, 'MCV':False, 'Plate':False, 'Neutro':False, 'Lymp':False, 'DIMER':True, 'Glucose':True, 'BUN':True,\n",
    "       'CR':False, 'GFR_BIN':True, 'AKI':True, 'NA_I':True, 'K_I':False, 'BIC':False, 'ALB_I':False, 'TBILI':False, 'ALK_I':True,\n",
    "       'ALT_I':True, 'AST_I':True, 'Trop_BIN':True, 'CRP':False, 'CXR2':True, 'CXR6':True, 'CXR7':True, 'EKG':True,\n",
    "       'SEVER':True, 'RACE_E':True, 'LENG':True, 'LENG_ICU':True, 'Mech':True, 'DIED':True, 'ICU':True}"
   ]
  },
  {
   "cell_type": "code",
   "execution_count": 5,
   "metadata": {},
   "outputs": [
    {
     "data": {
      "text/plain": [
       "(array([472.,  13.,  15.,   7.,   7.,   0.,   1.,   4.,   1.,  18.]),\n",
       " array([ 0. ,  1.4,  2.8,  4.2,  5.6,  7. ,  8.4,  9.8, 11.2, 12.6, 14. ]),\n",
       " <a list of 10 Patch objects>)"
      ]
     },
     "execution_count": 5,
     "metadata": {},
     "output_type": "execute_result"
    },
    {
     "data": {
      "image/png": "[encoded data removed]",
      "text/plain": [
       "<Figure size 432x288 with 1 Axes>"
      ]
     },
     "metadata": {
      "needs_background": "light"
     },
     "output_type": "display_data"
    }
   ],
   "source": [
    "import matplotlib.pyplot as plt\n",
    "tgt_col='SEVER'\n",
    "died_col = 'DIED'\n",
    "icu_col = 'ICU'\n",
    "sever_col = 'SEVER'\n",
    "mech_col = 'Mech'\n",
    "leng_col = 'LENG'\n",
    "leng_icu_col = 'LENG_ICU'\n",
    "#spol_col = 'SPO'\n",
    "#result_cols = [died_col, icu_col, sever_col, mech_col, leng_col, leng_icu_col, spol_col]\n",
    "result_cols = [died_col, icu_col, sever_col, mech_col, leng_col, leng_icu_col]\n",
    "result_cols.remove(tgt_col)\n",
    "features = np.setdiff1d(all_data.columns,  result_cols).tolist()\n",
    "all_data = all_data[features]\n",
    "\n",
    "\n",
    "\n",
    "plt.xlabel('missing values')\n",
    "plt.ylabel('number of rows')\n",
    "plt.title('Histogram of missing values Vs number of rows' )\n",
    "plt.hist(all_data.isnull().sum(axis=1).tolist())\n"
   ]
  },
  {
   "cell_type": "code",
   "execution_count": 6,
   "metadata": {},
   "outputs": [
    {
     "name": "stdout",
     "output_type": "stream",
     "text": [
      "len df 146\n"
     ]
    }
   ],
   "source": [
    "thresh3_val = 0\n",
    "df = all_data[all_data.isnull().sum(axis=1) > thresh3_val ].index\n",
    "print('len df', len(df))\n",
    "all_data.drop(all_data.index[df], inplace=True)\n",
    "all_data.reset_index(drop=True, inplace=True)"
   ]
  },
  {
   "cell_type": "code",
   "execution_count": 7,
   "metadata": {},
   "outputs": [
    {
     "data": {
      "text/plain": [
       "0      422.0\n",
       "1      448.0\n",
       "2      385.0\n",
       "3      449.0\n",
       "4      544.0\n",
       "       ...  \n",
       "387    439.0\n",
       "388    444.0\n",
       "389    421.0\n",
       "390    453.0\n",
       "391    423.0\n",
       "Name: EKG, Length: 392, dtype: float64"
      ]
     },
     "execution_count": 7,
     "metadata": {},
     "output_type": "execute_result"
    }
   ],
   "source": [
    "all_data['EKG']"
   ]
  },
  {
   "cell_type": "code",
   "execution_count": 8,
   "metadata": {},
   "outputs": [],
   "source": [
    "all_data\n",
    "normalization_not_required = {'Age':False, 'SEX':True, 'BMI':False, 'Prior_Co1':True, 'Prior_Co2':True, 'Prior_Co3':True, 'Prior_Co6':True,\n",
    "       'Prior_Co24':True, 'Alco':True, 'Smoke':True, 'SYMP1':True, 'SYMP2':True, 'SYMP3':True, 'SYMP5':True,\n",
    "       'SYMP6':True, 'SYMP11':True, 'SYMP12':True, 'SYMP20':True, 'SPO':False, 'WBC':False, 'Hgb':False,\n",
    "       'Hct':False, 'MCV':False, 'Plate':False, 'Neutro':False, 'Lymp':False, 'DIMER':False, 'Glucose':False, 'BUN':False,\n",
    "       'CR':False, 'GFR_BIN':True, 'AKI':True, 'NA_I':False, 'K_I':False, 'BIC':False, 'ALB_I':False, 'TBILI':False, 'ALK_I':False,\n",
    "       'ALT_I':False, 'AST_I':False, 'Trop_BIN':True, 'CRP':False, 'CXR2':True, 'CXR6':True, 'CXR7':True, 'EKG':False,\n",
    "       'SEVER':True, 'RACE_E':False, 'LENG':True, 'LENG_ICU':True, 'Mech':True, 'DIED':True, 'ICU':True}"
   ]
  },
  {
   "cell_type": "code",
   "execution_count": 9,
   "metadata": {},
   "outputs": [],
   "source": [
    "from sklearn.preprocessing import MinMaxScaler\n",
    "# normalize the features\n",
    "scale_feas = []\n",
    "for col in all_data.columns:\n",
    "    if normalization_not_required[col] is False:\n",
    "        scale_feas.append(col)\n",
    "#print(scale_feas)\n",
    "all_data_temp = all_data.copy()\n",
    "features = all_data_temp[scale_feas]\n",
    "#scaler = StandardScaler().fit(features.values)\n",
    "scaler = MinMaxScaler().fit(features.values)\n",
    "features = scaler.transform(features.values)\n",
    "all_data[scale_feas] = features\n",
    "#print(all_data)"
   ]
  },
  {
   "cell_type": "code",
   "execution_count": 10,
   "metadata": {},
   "outputs": [
    {
     "data": {
      "text/html": [
       "<div>\n",
       "<style scoped>\n",
       "    .dataframe tbody tr th:only-of-type {\n",
       "        vertical-align: middle;\n",
       "    }\n",
       "\n",
       "    .dataframe tbody tr th {\n",
       "        vertical-align: top;\n",
       "    }\n",
       "\n",
       "    .dataframe thead th {\n",
       "        text-align: right;\n",
       "    }\n",
       "</style>\n",
       "<table border=\"1\" class=\"dataframe\">\n",
       "  <thead>\n",
       "    <tr style=\"text-align: right;\">\n",
       "      <th></th>\n",
       "      <th>AKI</th>\n",
       "      <th>ALB_I</th>\n",
       "      <th>ALK_I</th>\n",
       "      <th>AST_I</th>\n",
       "      <th>Age</th>\n",
       "      <th>BUN</th>\n",
       "      <th>CR</th>\n",
       "      <th>CXR2</th>\n",
       "      <th>DIMER</th>\n",
       "      <th>EKG</th>\n",
       "      <th>...</th>\n",
       "      <th>Glucose</th>\n",
       "      <th>Hct</th>\n",
       "      <th>MCV</th>\n",
       "      <th>NA_I</th>\n",
       "      <th>Prior_Co1</th>\n",
       "      <th>RACE_E</th>\n",
       "      <th>SEVER</th>\n",
       "      <th>SYMP20</th>\n",
       "      <th>TBILI</th>\n",
       "      <th>WBC</th>\n",
       "    </tr>\n",
       "  </thead>\n",
       "  <tbody>\n",
       "    <tr>\n",
       "      <th>0</th>\n",
       "      <td>1.0</td>\n",
       "      <td>0.101010</td>\n",
       "      <td>0.037202</td>\n",
       "      <td>0.008299</td>\n",
       "      <td>0.395062</td>\n",
       "      <td>0.350649</td>\n",
       "      <td>0.186335</td>\n",
       "      <td>1</td>\n",
       "      <td>0.013409</td>\n",
       "      <td>0.095002</td>\n",
       "      <td>...</td>\n",
       "      <td>0.029436</td>\n",
       "      <td>0.356061</td>\n",
       "      <td>0.511078</td>\n",
       "      <td>0.322034</td>\n",
       "      <td>1</td>\n",
       "      <td>1.000000</td>\n",
       "      <td>1</td>\n",
       "      <td>0</td>\n",
       "      <td>0.057143</td>\n",
       "      <td>0.128114</td>\n",
       "    </tr>\n",
       "    <tr>\n",
       "      <th>1</th>\n",
       "      <td>1.0</td>\n",
       "      <td>0.117845</td>\n",
       "      <td>0.089286</td>\n",
       "      <td>0.048409</td>\n",
       "      <td>0.666667</td>\n",
       "      <td>0.311688</td>\n",
       "      <td>0.099379</td>\n",
       "      <td>0</td>\n",
       "      <td>0.001759</td>\n",
       "      <td>0.100855</td>\n",
       "      <td>...</td>\n",
       "      <td>0.061325</td>\n",
       "      <td>0.553030</td>\n",
       "      <td>0.604136</td>\n",
       "      <td>0.237288</td>\n",
       "      <td>1</td>\n",
       "      <td>1.000000</td>\n",
       "      <td>1</td>\n",
       "      <td>0</td>\n",
       "      <td>0.085714</td>\n",
       "      <td>0.106762</td>\n",
       "    </tr>\n",
       "    <tr>\n",
       "      <th>2</th>\n",
       "      <td>1.0</td>\n",
       "      <td>0.094276</td>\n",
       "      <td>0.037202</td>\n",
       "      <td>0.134855</td>\n",
       "      <td>0.802469</td>\n",
       "      <td>0.142857</td>\n",
       "      <td>0.062112</td>\n",
       "      <td>1</td>\n",
       "      <td>0.009140</td>\n",
       "      <td>0.086673</td>\n",
       "      <td>...</td>\n",
       "      <td>0.026165</td>\n",
       "      <td>0.608586</td>\n",
       "      <td>0.562777</td>\n",
       "      <td>0.322034</td>\n",
       "      <td>1</td>\n",
       "      <td>1.000000</td>\n",
       "      <td>1</td>\n",
       "      <td>0</td>\n",
       "      <td>0.057143</td>\n",
       "      <td>0.252669</td>\n",
       "    </tr>\n",
       "    <tr>\n",
       "      <th>3</th>\n",
       "      <td>1.0</td>\n",
       "      <td>0.090909</td>\n",
       "      <td>0.043155</td>\n",
       "      <td>0.017981</td>\n",
       "      <td>0.777778</td>\n",
       "      <td>0.064935</td>\n",
       "      <td>0.043478</td>\n",
       "      <td>0</td>\n",
       "      <td>0.012345</td>\n",
       "      <td>0.101081</td>\n",
       "      <td>...</td>\n",
       "      <td>0.031889</td>\n",
       "      <td>0.530303</td>\n",
       "      <td>0.638109</td>\n",
       "      <td>0.203390</td>\n",
       "      <td>1</td>\n",
       "      <td>0.000000</td>\n",
       "      <td>1</td>\n",
       "      <td>0</td>\n",
       "      <td>0.142857</td>\n",
       "      <td>0.405694</td>\n",
       "    </tr>\n",
       "    <tr>\n",
       "      <th>4</th>\n",
       "      <td>1.0</td>\n",
       "      <td>0.114478</td>\n",
       "      <td>0.241071</td>\n",
       "      <td>0.168050</td>\n",
       "      <td>0.604938</td>\n",
       "      <td>0.032468</td>\n",
       "      <td>0.043478</td>\n",
       "      <td>1</td>\n",
       "      <td>0.005723</td>\n",
       "      <td>0.122467</td>\n",
       "      <td>...</td>\n",
       "      <td>0.024530</td>\n",
       "      <td>0.141414</td>\n",
       "      <td>0.379616</td>\n",
       "      <td>0.254237</td>\n",
       "      <td>0</td>\n",
       "      <td>1.000000</td>\n",
       "      <td>1</td>\n",
       "      <td>0</td>\n",
       "      <td>1.000000</td>\n",
       "      <td>0.060498</td>\n",
       "    </tr>\n",
       "    <tr>\n",
       "      <th>...</th>\n",
       "      <td>...</td>\n",
       "      <td>...</td>\n",
       "      <td>...</td>\n",
       "      <td>...</td>\n",
       "      <td>...</td>\n",
       "      <td>...</td>\n",
       "      <td>...</td>\n",
       "      <td>...</td>\n",
       "      <td>...</td>\n",
       "      <td>...</td>\n",
       "      <td>...</td>\n",
       "      <td>...</td>\n",
       "      <td>...</td>\n",
       "      <td>...</td>\n",
       "      <td>...</td>\n",
       "      <td>...</td>\n",
       "      <td>...</td>\n",
       "      <td>...</td>\n",
       "      <td>...</td>\n",
       "      <td>...</td>\n",
       "      <td>...</td>\n",
       "    </tr>\n",
       "    <tr>\n",
       "      <th>387</th>\n",
       "      <td>1.0</td>\n",
       "      <td>0.097643</td>\n",
       "      <td>0.110119</td>\n",
       "      <td>0.015214</td>\n",
       "      <td>0.543210</td>\n",
       "      <td>0.402597</td>\n",
       "      <td>0.298137</td>\n",
       "      <td>0</td>\n",
       "      <td>0.005833</td>\n",
       "      <td>0.098829</td>\n",
       "      <td>...</td>\n",
       "      <td>0.080131</td>\n",
       "      <td>0.381313</td>\n",
       "      <td>0.601182</td>\n",
       "      <td>0.288136</td>\n",
       "      <td>1</td>\n",
       "      <td>0.000000</td>\n",
       "      <td>0</td>\n",
       "      <td>0</td>\n",
       "      <td>0.028571</td>\n",
       "      <td>0.170819</td>\n",
       "    </tr>\n",
       "    <tr>\n",
       "      <th>388</th>\n",
       "      <td>0.0</td>\n",
       "      <td>0.107744</td>\n",
       "      <td>0.035714</td>\n",
       "      <td>0.035961</td>\n",
       "      <td>0.518519</td>\n",
       "      <td>0.019481</td>\n",
       "      <td>0.031056</td>\n",
       "      <td>1</td>\n",
       "      <td>0.003589</td>\n",
       "      <td>0.099955</td>\n",
       "      <td>...</td>\n",
       "      <td>0.053148</td>\n",
       "      <td>0.530303</td>\n",
       "      <td>0.567208</td>\n",
       "      <td>0.305085</td>\n",
       "      <td>1</td>\n",
       "      <td>0.666667</td>\n",
       "      <td>0</td>\n",
       "      <td>0</td>\n",
       "      <td>0.057143</td>\n",
       "      <td>0.185053</td>\n",
       "    </tr>\n",
       "    <tr>\n",
       "      <th>389</th>\n",
       "      <td>0.0</td>\n",
       "      <td>0.084175</td>\n",
       "      <td>0.071429</td>\n",
       "      <td>0.023513</td>\n",
       "      <td>0.901235</td>\n",
       "      <td>0.123377</td>\n",
       "      <td>0.062112</td>\n",
       "      <td>1</td>\n",
       "      <td>0.062618</td>\n",
       "      <td>0.094777</td>\n",
       "      <td>...</td>\n",
       "      <td>0.088307</td>\n",
       "      <td>0.454545</td>\n",
       "      <td>0.552437</td>\n",
       "      <td>0.288136</td>\n",
       "      <td>1</td>\n",
       "      <td>0.000000</td>\n",
       "      <td>0</td>\n",
       "      <td>0</td>\n",
       "      <td>0.085714</td>\n",
       "      <td>0.160142</td>\n",
       "    </tr>\n",
       "    <tr>\n",
       "      <th>390</th>\n",
       "      <td>0.0</td>\n",
       "      <td>0.101010</td>\n",
       "      <td>0.110119</td>\n",
       "      <td>0.004841</td>\n",
       "      <td>0.506173</td>\n",
       "      <td>0.045455</td>\n",
       "      <td>0.024845</td>\n",
       "      <td>1</td>\n",
       "      <td>0.001830</td>\n",
       "      <td>0.101981</td>\n",
       "      <td>...</td>\n",
       "      <td>0.225675</td>\n",
       "      <td>0.631313</td>\n",
       "      <td>0.542097</td>\n",
       "      <td>0.372881</td>\n",
       "      <td>0</td>\n",
       "      <td>0.000000</td>\n",
       "      <td>0</td>\n",
       "      <td>0</td>\n",
       "      <td>0.200000</td>\n",
       "      <td>0.252669</td>\n",
       "    </tr>\n",
       "    <tr>\n",
       "      <th>391</th>\n",
       "      <td>0.0</td>\n",
       "      <td>0.121212</td>\n",
       "      <td>0.066964</td>\n",
       "      <td>0.015906</td>\n",
       "      <td>0.641975</td>\n",
       "      <td>0.058442</td>\n",
       "      <td>0.055901</td>\n",
       "      <td>0</td>\n",
       "      <td>0.001259</td>\n",
       "      <td>0.095227</td>\n",
       "      <td>...</td>\n",
       "      <td>0.053966</td>\n",
       "      <td>0.520202</td>\n",
       "      <td>0.590842</td>\n",
       "      <td>0.271186</td>\n",
       "      <td>1</td>\n",
       "      <td>0.666667</td>\n",
       "      <td>0</td>\n",
       "      <td>0</td>\n",
       "      <td>0.057143</td>\n",
       "      <td>0.081851</td>\n",
       "    </tr>\n",
       "  </tbody>\n",
       "</table>\n",
       "<p>392 rows × 21 columns</p>\n",
       "</div>"
      ],
      "text/plain": [
       "     AKI     ALB_I     ALK_I     AST_I       Age       BUN        CR  CXR2  \\\n",
       "0    1.0  0.101010  0.037202  0.008299  0.395062  0.350649  0.186335     1   \n",
       "1    1.0  0.117845  0.089286  0.048409  0.666667  0.311688  0.099379     0   \n",
       "2    1.0  0.094276  0.037202  0.134855  0.802469  0.142857  0.062112     1   \n",
       "3    1.0  0.090909  0.043155  0.017981  0.777778  0.064935  0.043478     0   \n",
       "4    1.0  0.114478  0.241071  0.168050  0.604938  0.032468  0.043478     1   \n",
       "..   ...       ...       ...       ...       ...       ...       ...   ...   \n",
       "387  1.0  0.097643  0.110119  0.015214  0.543210  0.402597  0.298137     0   \n",
       "388  0.0  0.107744  0.035714  0.035961  0.518519  0.019481  0.031056     1   \n",
       "389  0.0  0.084175  0.071429  0.023513  0.901235  0.123377  0.062112     1   \n",
       "390  0.0  0.101010  0.110119  0.004841  0.506173  0.045455  0.024845     1   \n",
       "391  0.0  0.121212  0.066964  0.015906  0.641975  0.058442  0.055901     0   \n",
       "\n",
       "        DIMER       EKG  ...   Glucose       Hct       MCV      NA_I  \\\n",
       "0    0.013409  0.095002  ...  0.029436  0.356061  0.511078  0.322034   \n",
       "1    0.001759  0.100855  ...  0.061325  0.553030  0.604136  0.237288   \n",
       "2    0.009140  0.086673  ...  0.026165  0.608586  0.562777  0.322034   \n",
       "3    0.012345  0.101081  ...  0.031889  0.530303  0.638109  0.203390   \n",
       "4    0.005723  0.122467  ...  0.024530  0.141414  0.379616  0.254237   \n",
       "..        ...       ...  ...       ...       ...       ...       ...   \n",
       "387  0.005833  0.098829  ...  0.080131  0.381313  0.601182  0.288136   \n",
       "388  0.003589  0.099955  ...  0.053148  0.530303  0.567208  0.305085   \n",
       "389  0.062618  0.094777  ...  0.088307  0.454545  0.552437  0.288136   \n",
       "390  0.001830  0.101981  ...  0.225675  0.631313  0.542097  0.372881   \n",
       "391  0.001259  0.095227  ...  0.053966  0.520202  0.590842  0.271186   \n",
       "\n",
       "     Prior_Co1    RACE_E  SEVER  SYMP20     TBILI       WBC  \n",
       "0            1  1.000000      1       0  0.057143  0.128114  \n",
       "1            1  1.000000      1       0  0.085714  0.106762  \n",
       "2            1  1.000000      1       0  0.057143  0.252669  \n",
       "3            1  0.000000      1       0  0.142857  0.405694  \n",
       "4            0  1.000000      1       0  1.000000  0.060498  \n",
       "..         ...       ...    ...     ...       ...       ...  \n",
       "387          1  0.000000      0       0  0.028571  0.170819  \n",
       "388          1  0.666667      0       0  0.057143  0.185053  \n",
       "389          1  0.000000      0       0  0.085714  0.160142  \n",
       "390          0  0.000000      0       0  0.200000  0.252669  \n",
       "391          1  0.666667      0       0  0.057143  0.081851  \n",
       "\n",
       "[392 rows x 21 columns]"
      ]
     },
     "execution_count": 10,
     "metadata": {},
     "output_type": "execute_result"
    }
   ],
   "source": [
    "len(all_data.index)\n",
    "all_data"
   ]
  },
  {
   "cell_type": "code",
   "execution_count": 11,
   "metadata": {},
   "outputs": [
    {
     "data": {
      "text/plain": [
       "21"
      ]
     },
     "execution_count": 11,
     "metadata": {},
     "output_type": "execute_result"
    }
   ],
   "source": [
    "len(all_data.columns)"
   ]
  },
  {
   "cell_type": "code",
   "execution_count": 12,
   "metadata": {},
   "outputs": [],
   "source": [
    "writer = pd.ExcelWriter('COVID_V8.xlsx')\n",
    "all_data.to_excel(writer, sheet_name='Sheet1', index=False)\n",
    "writer.save()"
   ]
  },
  {
   "cell_type": "code",
   "execution_count": 13,
   "metadata": {},
   "outputs": [],
   "source": [
    "y = all_data[tgt_col].copy()\n",
    "all_data.drop(columns=[tgt_col], inplace=True)\n",
    "X = all_data.copy()"
   ]
  },
  {
   "cell_type": "code",
   "execution_count": 14,
   "metadata": {},
   "outputs": [],
   "source": [
    "from sklearn.model_selection import train_test_split\n",
    "seed = 42\n",
    "X_train, X_test, Y_train, Y_test = train_test_split(X, y, test_size=0.3, random_state=seed)"
   ]
  },
  {
   "cell_type": "code",
   "execution_count": 15,
   "metadata": {},
   "outputs": [
    {
     "data": {
      "text/plain": [
       "274"
      ]
     },
     "execution_count": 15,
     "metadata": {},
     "output_type": "execute_result"
    }
   ],
   "source": [
    "len(X_train)"
   ]
  },
  {
   "cell_type": "code",
   "execution_count": 16,
   "metadata": {},
   "outputs": [],
   "source": [
    "from sklearn.neural_network import MLPRegressor"
   ]
  },
  {
   "cell_type": "code",
   "execution_count": 17,
   "metadata": {},
   "outputs": [
    {
     "data": {
      "text/plain": [
       "MLPRegressor(activation='relu', alpha=0.0001, batch_size='auto', beta_1=0.9,\n",
       "             beta_2=0.999, early_stopping=False, epsilon=1e-08,\n",
       "             hidden_layer_sizes=(100,), learning_rate='constant',\n",
       "             learning_rate_init=0.001, max_fun=15000, max_iter=1000,\n",
       "             momentum=0.9, n_iter_no_change=10, nesterovs_momentum=True,\n",
       "             power_t=0.5, random_state=None, shuffle=True, solver='adam',\n",
       "             tol=0.0001, validation_fraction=0.1, verbose=False,\n",
       "             warm_start=False)"
      ]
     },
     "execution_count": 17,
     "metadata": {},
     "output_type": "execute_result"
    }
   ],
   "source": [
    "model = MLPRegressor(max_iter=1000)\n",
    "model.fit(X_train, Y_train)"
   ]
  },
  {
   "cell_type": "code",
   "execution_count": 18,
   "metadata": {},
   "outputs": [
    {
     "data": {
      "text/plain": [
       "XGBClassifier(base_score=0.5, booster='gbtree', colsample_bylevel=1,\n",
       "              colsample_bytree=1, gamma=0, learning_rate=0.1, max_delta_step=0,\n",
       "              max_depth=3, min_child_weight=1, missing=None, n_estimators=100,\n",
       "              n_jobs=1, nthread=None, objective='binary:logistic',\n",
       "              random_state=0, reg_alpha=0, reg_lambda=1, scale_pos_weight=1,\n",
       "              seed=None, silent=True, subsample=1)"
      ]
     },
     "execution_count": 18,
     "metadata": {},
     "output_type": "execute_result"
    }
   ],
   "source": [
    "\n",
    "import pandas as pd\n",
    "from sklearn.preprocessing import MinMaxScaler\n",
    "from xgboost import XGBClassifier\n",
    "from sklearn.linear_model import LogisticRegression\n",
    "\n",
    "from sklearn.metrics import roc_auc_score\n",
    "from sklearn.model_selection import train_test_split\n",
    "\n",
    "'''\n",
    "data          = pd.read_csv(\"data/absenteeism.csv\", delimiter=';')\n",
    "\n",
    "feature_names = ['Transportation expense', 'Distance from Residence to Work',\n",
    "                 'Service time', 'Age', 'Work load Average/day ', 'Hit target',\n",
    "                 'Disciplinary failure', 'Education', 'Son', 'Social drinker',\n",
    "                 'Social smoker', 'Pet', 'Weight', 'Height', 'Body mass index']\n",
    "\n",
    "scaler        = MinMaxScaler(feature_range=(0, 1))\n",
    "X             = scaler.fit_transform(data[feature_names])\n",
    "Y             = ((data['Absenteeism time in hours'] > 4) * 1) \n",
    "\n",
    "X_train, X_test, Y_train, Y_test = train_test_split(X, Y, test_size=0.33, random_state=42)\n",
    "'''\n",
    "model         = XGBClassifier()\n",
    "\n",
    "model.fit(X_train, Y_train)"
   ]
  },
  {
   "cell_type": "markdown",
   "metadata": {},
   "source": [
    "Let us examine the AUC-ROC performance of the fitted XGBoost model on the test data"
   ]
  },
  {
   "cell_type": "code",
   "execution_count": 19,
   "metadata": {},
   "outputs": [
    {
     "data": {
      "text/plain": [
       "0.8196778711484594"
      ]
     },
     "execution_count": 19,
     "metadata": {},
     "output_type": "execute_result"
    }
   ],
   "source": [
    "roc_auc_score(Y_test, model.predict_proba(X_test)[:, 1])"
   ]
  },
  {
   "cell_type": "markdown",
   "metadata": {},
   "source": [
    "Now let us create a symbolic metamodel instance. This takes the fitted model **model** and the training features **X_train** as follows"
   ]
  },
  {
   "cell_type": "code",
   "execution_count": 21,
   "metadata": {},
   "outputs": [
    {
     "name": "stdout",
     "output_type": "stream",
     "text": [
      "---- Tuning the basis functions ----\n"
     ]
    },
    {
     "data": {
      "application/vnd.jupyter.widget-view+json": {
       "model_id": "e8a93837fcab4a73aeff659878390afd",
       "version_major": 2,
       "version_minor": 0
      },
      "text/plain": [
       "HBox(children=(FloatProgress(value=0.0, max=20.0), HTML(value='')))"
      ]
     },
     "metadata": {},
     "output_type": "display_data"
    },
    {
     "name": "stdout",
     "output_type": "stream",
     "text": [
      "\n",
      "----  Optimizing the metamodel  ----\n"
     ]
    },
    {
     "data": {
      "application/vnd.jupyter.widget-view+json": {
       "model_id": "d3e7581036da4dd1a70ddea8a54892f0",
       "version_major": 2,
       "version_minor": 0
      },
      "text/plain": [
       "HBox(children=(FloatProgress(value=0.0, max=10.0), HTML(value='')))"
      ]
     },
     "metadata": {},
     "output_type": "display_data"
    },
    {
     "name": "stdout",
     "output_type": "stream",
     "text": [
      "\n"
     ]
    }
   ],
   "source": [
    "metamodel = symbolic_metamodel(model, X_train)\n",
    "\n",
    "metamodel.fit(num_iter=10, batch_size=X_train.shape[0], learning_rate=.01)"
   ]
  },
  {
   "cell_type": "markdown",
   "metadata": {},
   "source": [
    "Now let us see how this metamodel performs using the **evaluate** method..."
   ]
  },
  {
   "cell_type": "code",
   "execution_count": 22,
   "metadata": {},
   "outputs": [
    {
     "data": {
      "text/plain": [
       "0.7514005602240896"
      ]
     },
     "execution_count": 22,
     "metadata": {},
     "output_type": "execute_result"
    }
   ],
   "source": [
    "Y_metamodel = metamodel.evaluate(X_test)\n",
    "\n",
    "roc_auc_score(Y_test, Y_metamodel)"
   ]
  },
  {
   "cell_type": "markdown",
   "metadata": {},
   "source": [
    "It performs close to the original XGBoost model! Now let us see the exact symbolic equation of the model in terms of Meijer-G functions"
   ]
  },
  {
   "cell_type": "markdown",
   "metadata": {},
   "source": [
    "By invoking the **.fit()** method in the **symbolic_metamodel** class, we essentially transform the XGBoost model to a space of interpretable symbolic equations as shown in the Figure below, without much loss in predictive accuracy. "
   ]
  },
  {
   "cell_type": "markdown",
   "metadata": {},
   "source": [
    "<img src=\"images/FigB2.png\" width=\"320\"/>"
   ]
  },
  {
   "cell_type": "markdown",
   "metadata": {},
   "source": [
    "Now we show how to extract the exact and approximate equation $g(x)$ from the metamodel class..."
   ]
  },
  {
   "cell_type": "code",
   "execution_count": 23,
   "metadata": {},
   "outputs": [
    {
     "data": {
      "text/latex": [
       "$\\displaystyle \\frac{1}{e^{- 0.0196258473697001 \\operatorname{re}{\\left(X_{0}^{2.18235949200672} {{}_{2}F_{1}\\left(\\begin{matrix} 1.0, 1.0 \\\\ 2.25688993743311 \\end{matrix}\\middle| {0.220282755075316 X_{0} e^{i \\pi}} \\right)}\\right)} - 0.000123796473322882 \\operatorname{re}{\\left(X_{1}^{2.52250119536324} {{}_{2}F_{1}\\left(\\begin{matrix} 1.0, 1.0 \\\\ 2.64635542760424 \\end{matrix}\\middle| {0.154025686146726 X_{1} e^{i \\pi}} \\right)}\\right)} - 0.00943580270471118 \\operatorname{re}{\\left(X_{11}^{2.53947543012199} {{}_{2}F_{1}\\left(\\begin{matrix} 1.0, 1.0 \\\\ 2.64551548284271 \\end{matrix}\\middle| {0.431661491518968 X_{11} e^{i \\pi}} \\right)}\\right)} - 9.44861756089406 \\cdot 10^{-20} \\operatorname{re}{\\left(X_{12}^{2.35424912481973} {{}_{2}F_{1}\\left(\\begin{matrix} 1.0, 1.0 \\\\ 2.470441074678 \\end{matrix}\\middle| {6.33139680744989 \\cdot 10^{-5} X_{12} e^{i \\pi}} \\right)}\\right)} - 5.35698528802525 \\cdot 10^{-20} \\operatorname{re}{\\left(X_{13}^{2.35902642116813} {{}_{2}F_{1}\\left(\\begin{matrix} 1.0, 1.0 \\\\ 2.47575251848017 \\end{matrix}\\middle| {7.36800913778118 \\cdot 10^{-5} X_{13} e^{i \\pi}} \\right)}\\right)} + 4.21072208633872 \\cdot 10^{-10} \\operatorname{re}{\\left(X_{14}^{2.48641082107784} {{}_{2}F_{1}\\left(\\begin{matrix} 1.0, 1.0 \\\\ 2.61224958008481 \\end{matrix}\\middle| {0.0108194785470753 X_{14} e^{i \\pi}} \\right)}\\right)} - 6.03864688738545 \\cdot 10^{-22} \\operatorname{re}{\\left(X_{16}^{2.30098844426591} {{}_{2}F_{1}\\left(\\begin{matrix} 1.0, 1.0 \\\\ 2.4055904911827 \\end{matrix}\\middle| {1.48146417179392 \\cdot 10^{-5} X_{16} e^{i \\pi}} \\right)}\\right)} + 4.50892603136586 \\cdot 10^{-14} \\operatorname{re}{\\left(X_{17}^{2.213266977016} {{}_{2}F_{1}\\left(\\begin{matrix} 1.0, 1.0 \\\\ 2.29550426699466 \\end{matrix}\\middle| {0.00114076278868183 X_{17} e^{i \\pi}} \\right)}\\right)} + 0.0145388022003374 \\operatorname{re}{\\left(X_{18}^{2.56494836762346} {{}_{2}F_{1}\\left(\\begin{matrix} 1.0, 1.0 \\\\ 2.67393186281391 \\end{matrix}\\middle| {0.421077908736004 X_{18} e^{i \\pi}} \\right)}\\right)} - 6.58439818270179 \\cdot 10^{-11} \\operatorname{re}{\\left(X_{19}^{2.44645442995698} {{}_{2}F_{1}\\left(\\begin{matrix} 1.0, 1.0 \\\\ 2.56794426361775 \\end{matrix}\\middle| {0.00816322004077528 X_{19} e^{i \\pi}} \\right)}\\right)} - 0.00207041955510435 \\operatorname{re}{\\left(X_{2}^{2.54716295871726} {{}_{2}F_{1}\\left(\\begin{matrix} 1.0, 1.0 \\\\ 2.65079785242252 \\end{matrix}\\middle| {0.451525392518612 X_{2} e^{i \\pi}} \\right)}\\right)} + 0.351953518043434 \\operatorname{re}{\\left(X_{3}^{2.23929326122072} {{}_{2}F_{1}\\left(\\begin{matrix} 1.0, 1.0 \\\\ 2.30675535318277 \\end{matrix}\\middle| {0.53587402213076 X_{3} e^{i \\pi}} \\right)}\\right)} - 3.3575020774973 \\cdot 10^{-16} \\operatorname{re}{\\left(X_{4}^{2.37858999048948} {{}_{2}F_{1}\\left(\\begin{matrix} 1.0, 1.0 \\\\ 2.49542297575661 \\end{matrix}\\middle| {0.000387946717645074 X_{4} e^{i \\pi}} \\right)}\\right)} + 0.000120575786437361 \\operatorname{re}{\\left(X_{5}^{2.43617036743106} {{}_{2}F_{1}\\left(\\begin{matrix} 1.0, 1.0 \\\\ 2.55208584258573 \\end{matrix}\\middle| {0.147764206302891 X_{5} e^{i \\pi}} \\right)}\\right)} - 0.000459372478745229 \\operatorname{re}{\\left(X_{6}^{2.37296243330773} {{}_{2}F_{1}\\left(\\begin{matrix} 1.0, 1.0 \\\\ 2.48449929566548 \\end{matrix}\\middle| {0.1691276014142 X_{6} e^{i \\pi}} \\right)}\\right)} - 1.16542484892965 \\operatorname{re}{\\left(X_{8}^{2.25887952672415} {{}_{2}F_{1}\\left(\\begin{matrix} 1.0, 1.0 \\\\ 2.24686340108412 \\end{matrix}\\middle| {1.24628948678981 X_{8} e^{i \\pi}} \\right)}\\right)} + 0.000751885772730571 \\operatorname{re}{\\left(X_{9}^{2.57548245975546} {{}_{2}F_{1}\\left(\\begin{matrix} 1.0, 1.0 \\\\ 2.68214553427564 \\end{matrix}\\middle| {0.436843376915483 X_{9} e^{i \\pi}} \\right)}\\right)} - 8.01028702532719 \\operatorname{re}{\\left(\\left(X_{0} X_{1}\\right)^{1.39355563642964} {{}_{2}F_{1}\\left(\\begin{matrix} 1.0, 1.0 \\\\ 1.3730164235468 \\end{matrix}\\middle| {1.4918662526494 X_{0} X_{1} e^{i \\pi}} \\right)}\\right)} + 0.58668016069935 \\operatorname{re}{\\left(\\left(X_{0} X_{10}\\right)^{1.39601020992183} {{}_{2}F_{1}\\left(\\begin{matrix} 1.0, 1.0 \\\\ 1.3781726597882 \\end{matrix}\\middle| {1.48722177528566 X_{0} X_{10} e^{i \\pi}} \\right)}\\right)} - 2.52670879971031 \\operatorname{re}{\\left(\\left(X_{0} X_{11}\\right)^{1.39315756382535} {{}_{2}F_{1}\\left(\\begin{matrix} 1.0, 1.0 \\\\ 1.37252176846869 \\end{matrix}\\middle| {1.49201432235396 X_{0} X_{11} e^{i \\pi}} \\right)}\\right)} - 1.55511322639227 \\operatorname{re}{\\left(\\left(X_{0} X_{12}\\right)^{1.39821026243027} {{}_{2}F_{1}\\left(\\begin{matrix} 1.0, 1.0 \\\\ 1.38169295428245 \\end{matrix}\\middle| {1.48554493192418 X_{0} X_{12} e^{i \\pi}} \\right)}\\right)} - 1.72367608059092 \\operatorname{re}{\\left(\\left(X_{0} X_{13}\\right)^{1.39509154098125} {{}_{2}F_{1}\\left(\\begin{matrix} 1.0, 1.0 \\\\ 1.37581099871803 \\end{matrix}\\middle| {1.49054082767167 X_{0} X_{13} e^{i \\pi}} \\right)}\\right)} - 5.07119588070366 \\operatorname{re}{\\left(\\left(X_{0} X_{14}\\right)^{1.39464380102263} {{}_{2}F_{1}\\left(\\begin{matrix} 1.0, 1.0 \\\\ 1.37512907150905 \\end{matrix}\\middle| {1.4902288499103 X_{0} X_{14} e^{i \\pi}} \\right)}\\right)} + 0.682625192891451 \\operatorname{re}{\\left(\\left(X_{0} X_{15}\\right)^{1.39663769665304} {{}_{2}F_{1}\\left(\\begin{matrix} 1.0, 1.0 \\\\ 1.37956719634208 \\end{matrix}\\middle| {1.48591335066894 X_{0} X_{15} e^{i \\pi}} \\right)}\\right)} - 1.1112942133264 \\operatorname{re}{\\left(\\left(X_{0} X_{16}\\right)^{1.39381860567587} {{}_{2}F_{1}\\left(\\begin{matrix} 1.0, 1.0 \\\\ 1.37391999639325 \\end{matrix}\\middle| {1.49206415433985 X_{0} X_{16} e^{i \\pi}} \\right)}\\right)} + 0.67444798821742 \\operatorname{re}{\\left(\\left(X_{0} X_{17}\\right)^{1.39057831135809} {{}_{2}F_{1}\\left(\\begin{matrix} 1.0, 1.0 \\\\ 1.36658917584186 \\end{matrix}\\middle| {1.49765089905547 X_{0} X_{17} e^{i \\pi}} \\right)}\\right)} - 0.446378971586203 \\operatorname{re}{\\left(\\left(X_{0} X_{18}\\right)^{1.3938908668922} {{}_{2}F_{1}\\left(\\begin{matrix} 1.0, 1.0 \\\\ 1.37377886798325 \\end{matrix}\\middle| {1.49181431192624 X_{0} X_{18} e^{i \\pi}} \\right)}\\right)} + 1.38853816817386 \\operatorname{re}{\\left(\\left(X_{0} X_{19}\\right)^{1.39343485840949} {{}_{2}F_{1}\\left(\\begin{matrix} 1.0, 1.0 \\\\ 1.37339725852808 \\end{matrix}\\middle| {1.49171822826751 X_{0} X_{19} e^{i \\pi}} \\right)}\\right)} + 2.16082574828128 \\operatorname{re}{\\left(\\left(X_{0} X_{2}\\right)^{1.39353499134863} {{}_{2}F_{1}\\left(\\begin{matrix} 1.0, 1.0 \\\\ 1.37321527015412 \\end{matrix}\\middle| {1.49215322440757 X_{0} X_{2} e^{i \\pi}} \\right)}\\right)} + 0.912039958340167 \\operatorname{re}{\\left(\\left(X_{0} X_{3}\\right)^{1.39708381455667} {{}_{2}F_{1}\\left(\\begin{matrix} 1.0, 1.0 \\\\ 1.37953951226089 \\end{matrix}\\middle| {1.48634018080852 X_{0} X_{3} e^{i \\pi}} \\right)}\\right)} + 0.394968626979666 \\operatorname{re}{\\left(\\left(X_{0} X_{4}\\right)^{1.39901486688051} {{}_{2}F_{1}\\left(\\begin{matrix} 1.0, 1.0 \\\\ 1.38456495347464 \\end{matrix}\\middle| {1.48033624828548 X_{0} X_{4} e^{i \\pi}} \\right)}\\right)} + 2.05679572953953 \\operatorname{re}{\\left(\\left(X_{0} X_{5}\\right)^{1.39379514343923} {{}_{2}F_{1}\\left(\\begin{matrix} 1.0, 1.0 \\\\ 1.37371848184791 \\end{matrix}\\middle| {1.49090910963072 X_{0} X_{5} e^{i \\pi}} \\right)}\\right)} - 1.60935716674107 \\operatorname{re}{\\left(\\left(X_{0} X_{6}\\right)^{1.39208900551528} {{}_{2}F_{1}\\left(\\begin{matrix} 1.0, 1.0 \\\\ 1.37073703623361 \\end{matrix}\\middle| {1.49346556645539 X_{0} X_{6} e^{i \\pi}} \\right)}\\right)} - 0.649127042281815 \\operatorname{re}{\\left(\\left(X_{0} X_{7}\\right)^{1.39905949475156} {{}_{2}F_{1}\\left(\\begin{matrix} 1.0, 1.0 \\\\ 1.38469214696416 \\end{matrix}\\middle| {1.48133604266112 X_{0} X_{7} e^{i \\pi}} \\right)}\\right)} - 0.918684487226865 \\operatorname{re}{\\left(\\left(X_{0} X_{8}\\right)^{1.39280234527704} {{}_{2}F_{1}\\left(\\begin{matrix} 1.0, 1.0 \\\\ 1.37194413860341 \\end{matrix}\\middle| {1.49248638606961 X_{0} X_{8} e^{i \\pi}} \\right)}\\right)} - 6.87531429808793 \\operatorname{re}{\\left(\\left(X_{0} X_{9}\\right)^{1.39357675390894} {{}_{2}F_{1}\\left(\\begin{matrix} 1.0, 1.0 \\\\ 1.37302580504953 \\end{matrix}\\middle| {1.49183181111477 X_{0} X_{9} e^{i \\pi}} \\right)}\\right)} + 0.124144839095497 \\operatorname{re}{\\left(\\left(X_{1} X_{10}\\right)^{1.39313319701313} {{}_{2}F_{1}\\left(\\begin{matrix} 1.0, 1.0 \\\\ 1.37262984898058 \\end{matrix}\\middle| {1.49206608389415 X_{1} X_{10} e^{i \\pi}} \\right)}\\right)} - 1.69942456886191 \\operatorname{re}{\\left(\\left(X_{1} X_{11}\\right)^{1.39354062258707} {{}_{2}F_{1}\\left(\\begin{matrix} 1.0, 1.0 \\\\ 1.37298919326947 \\end{matrix}\\middle| {1.49182578613659 X_{1} X_{11} e^{i \\pi}} \\right)}\\right)} + 4.58576330472338 \\operatorname{re}{\\left(\\left(X_{1} X_{12}\\right)^{1.39282646207326} {{}_{2}F_{1}\\left(\\begin{matrix} 1.0, 1.0 \\\\ 1.37231044537383 \\end{matrix}\\middle| {1.49213631214637 X_{1} X_{12} e^{i \\pi}} \\right)}\\right)} + 3.23837761963682 \\operatorname{re}{\\left(\\left(X_{1} X_{13}\\right)^{1.39269763407865} {{}_{2}F_{1}\\left(\\begin{matrix} 1.0, 1.0 \\\\ 1.37205383351726 \\end{matrix}\\middle| {1.49224828353738 X_{1} X_{13} e^{i \\pi}} \\right)}\\right)} - 0.0948506497385816 \\operatorname{re}{\\left(\\left(X_{1} X_{14}\\right)^{1.39313978771511} {{}_{2}F_{1}\\left(\\begin{matrix} 1.0, 1.0 \\\\ 1.37255127851472 \\end{matrix}\\middle| {1.49195251564757 X_{1} X_{14} e^{i \\pi}} \\right)}\\right)} + 2.46253450621909 \\operatorname{re}{\\left(\\left(X_{1} X_{15}\\right)^{1.39327188096856} {{}_{2}F_{1}\\left(\\begin{matrix} 1.0, 1.0 \\\\ 1.37277398898207 \\end{matrix}\\middle| {1.49204027902679 X_{1} X_{15} e^{i \\pi}} \\right)}\\right)} + 6.53999252951729 \\operatorname{re}{\\left(\\left(X_{1} X_{16}\\right)^{1.3930719189896} {{}_{2}F_{1}\\left(\\begin{matrix} 1.0, 1.0 \\\\ 1.37256481428381 \\end{matrix}\\middle| {1.49206367313092 X_{1} X_{16} e^{i \\pi}} \\right)}\\right)} + 1.03336807730484 \\operatorname{re}{\\left(\\left(X_{1} X_{17}\\right)^{1.39359218240043} {{}_{2}F_{1}\\left(\\begin{matrix} 1.0, 1.0 \\\\ 1.3730509317679 \\end{matrix}\\middle| {1.49185332097612 X_{1} X_{17} e^{i \\pi}} \\right)}\\right)} - 0.711601332589569 \\operatorname{re}{\\left(\\left(X_{1} X_{18}\\right)^{1.39342934890013} {{}_{2}F_{1}\\left(\\begin{matrix} 1.0, 1.0 \\\\ 1.37288868399453 \\end{matrix}\\middle| {1.49189007188043 X_{1} X_{18} e^{i \\pi}} \\right)}\\right)} - 0.922595580889181 \\operatorname{re}{\\left(\\left(X_{1} X_{19}\\right)^{1.39214555097001} {{}_{2}F_{1}\\left(\\begin{matrix} 1.0, 1.0 \\\\ 1.37084267408274 \\end{matrix}\\middle| {1.49344076490647 X_{1} X_{19} e^{i \\pi}} \\right)}\\right)} - 0.894084480736553 \\operatorname{re}{\\left(\\left(X_{1} X_{2}\\right)^{1.39345624811964} {{}_{2}F_{1}\\left(\\begin{matrix} 1.0, 1.0 \\\\ 1.37290912630211 \\end{matrix}\\middle| {1.491860210048 X_{1} X_{2} e^{i \\pi}} \\right)}\\right)} - 1.66387763550447 \\operatorname{re}{\\left(\\left(X_{1} X_{3}\\right)^{1.39357389313196} {{}_{2}F_{1}\\left(\\begin{matrix} 1.0, 1.0 \\\\ 1.37303444115221 \\end{matrix}\\middle| {1.49186792583943 X_{1} X_{3} e^{i \\pi}} \\right)}\\right)} + 2.10069347515916 \\operatorname{re}{\\left(\\left(X_{1} X_{4}\\right)^{1.39263133504522} {{}_{2}F_{1}\\left(\\begin{matrix} 1.0, 1.0 \\\\ 1.37188249042503 \\end{matrix}\\middle| {1.49239613316127 X_{1} X_{4} e^{i \\pi}} \\right)}\\right)} - 2.62167601859589 \\operatorname{re}{\\left(\\left(X_{1} X_{5}\\right)^{1.39356679543692} {{}_{2}F_{1}\\left(\\begin{matrix} 1.0, 1.0 \\\\ 1.37301028830474 \\end{matrix}\\middle| {1.49181426974553 X_{1} X_{5} e^{i \\pi}} \\right)}\\right)} - 1.12103277782643 \\operatorname{re}{\\left(\\left(X_{1} X_{6}\\right)^{1.39354139089501} {{}_{2}F_{1}\\left(\\begin{matrix} 1.0, 1.0 \\\\ 1.37299112667671 \\end{matrix}\\middle| {1.49183256816873 X_{1} X_{6} e^{i \\pi}} \\right)}\\right)} + 4.96660993277683 \\operatorname{re}{\\left(\\left(X_{1} X_{7}\\right)^{1.39301957127154} {{}_{2}F_{1}\\left(\\begin{matrix} 1.0, 1.0 \\\\ 1.37253826799212 \\end{matrix}\\middle| {1.49215939367664 X_{1} X_{7} e^{i \\pi}} \\right)}\\right)} - 2.07742233519383 \\operatorname{re}{\\left(\\left(X_{1} X_{8}\\right)^{1.39358218408123} {{}_{2}F_{1}\\left(\\begin{matrix} 1.0, 1.0 \\\\ 1.37303242174043 \\end{matrix}\\middle| {1.49182749374748 X_{1} X_{8} e^{i \\pi}} \\right)}\\right)} - 1.31070204162863 \\operatorname{re}{\\left(\\left(X_{1} X_{9}\\right)^{1.39351215875992} {{}_{2}F_{1}\\left(\\begin{matrix} 1.0, 1.0 \\\\ 1.37296285662234 \\end{matrix}\\middle| {1.49184104085325 X_{1} X_{9} e^{i \\pi}} \\right)}\\right)} - 2.61057651341529 \\operatorname{re}{\\left(\\left(X_{10} X_{11}\\right)^{1.39327776228075} {{}_{2}F_{1}\\left(\\begin{matrix} 1.0, 1.0 \\\\ 1.3728160526674 \\end{matrix}\\middle| {1.49203313605902 X_{10} X_{11} e^{i \\pi}} \\right)}\\right)} + 1.33439861407204 \\operatorname{re}{\\left(\\left(X_{10} X_{12}\\right)^{1.391904975262} {{}_{2}F_{1}\\left(\\begin{matrix} 1.0, 1.0 \\\\ 1.37032831341807 \\end{matrix}\\middle| {1.49621544140381 X_{10} X_{12} e^{i \\pi}} \\right)}\\right)} + 0.46700398599825 \\operatorname{re}{\\left(\\left(X_{10} X_{13}\\right)^{1.39361005281579} {{}_{2}F_{1}\\left(\\begin{matrix} 1.0, 1.0 \\\\ 1.37355491854702 \\end{matrix}\\middle| {1.49366856484474 X_{10} X_{13} e^{i \\pi}} \\right)}\\right)} - 1.12056209250467 \\operatorname{re}{\\left(\\left(X_{10} X_{14}\\right)^{1.39310017485064} {{}_{2}F_{1}\\left(\\begin{matrix} 1.0, 1.0 \\\\ 1.37280624757097 \\end{matrix}\\middle| {1.49255991946298 X_{10} X_{14} e^{i \\pi}} \\right)}\\right)} - 1.48176607321283 \\operatorname{re}{\\left(\\left(X_{10} X_{15}\\right)^{1.39590316790469} {{}_{2}F_{1}\\left(\\begin{matrix} 1.0, 1.0 \\\\ 1.37794900372721 \\end{matrix}\\middle| {1.4874188915002 X_{10} X_{15} e^{i \\pi}} \\right)}\\right)} + 0.120030208017759 \\operatorname{re}{\\left(\\left(X_{10} X_{16}\\right)^{1.39585876744591} {{}_{2}F_{1}\\left(\\begin{matrix} 1.0, 1.0 \\\\ 1.37780206501508 \\end{matrix}\\middle| {1.48815859131025 X_{10} X_{16} e^{i \\pi}} \\right)}\\right)} - 1.36968176488365 \\operatorname{re}{\\left(\\left(X_{10} X_{17}\\right)^{1.39571202413158} {{}_{2}F_{1}\\left(\\begin{matrix} 1.0, 1.0 \\\\ 1.37753101642013 \\end{matrix}\\middle| {1.48780475615453 X_{10} X_{17} e^{i \\pi}} \\right)}\\right)} + 3.61023854466933 \\operatorname{re}{\\left(\\left(X_{10} X_{18}\\right)^{1.39324419740998} {{}_{2}F_{1}\\left(\\begin{matrix} 1.0, 1.0 \\\\ 1.37274047179843 \\end{matrix}\\middle| {1.49200978877215 X_{10} X_{18} e^{i \\pi}} \\right)}\\right)} - 0.0509426668166503 \\operatorname{re}{\\left(\\left(X_{10} X_{19}\\right)^{1.39456565820671} {{}_{2}F_{1}\\left(\\begin{matrix} 1.0, 1.0 \\\\ 1.37627152136838 \\end{matrix}\\middle| {1.48811353495545 X_{10} X_{19} e^{i \\pi}} \\right)}\\right)} - 0.914490589699315 \\operatorname{re}{\\left(\\left(X_{10} X_{2}\\right)^{1.39352942708782} {{}_{2}F_{1}\\left(\\begin{matrix} 1.0, 1.0 \\\\ 1.37306420041071 \\end{matrix}\\middle| {1.49199000791515 X_{10} X_{2} e^{i \\pi}} \\right)}\\right)} - 1.77091679028676 \\operatorname{re}{\\left(\\left(X_{10} X_{3}\\right)^{1.39350096877116} {{}_{2}F_{1}\\left(\\begin{matrix} 1.0, 1.0 \\\\ 1.37295751200443 \\end{matrix}\\middle| {1.49186564242791 X_{10} X_{3} e^{i \\pi}} \\right)}\\right)} - 0.0307709827793529 \\operatorname{re}{\\left(\\left(X_{10} X_{4}\\right)^{1.39418923572363} {{}_{2}F_{1}\\left(\\begin{matrix} 1.0, 1.0 \\\\ 1.37472649747219 \\end{matrix}\\middle| {1.49159283250376 X_{10} X_{4} e^{i \\pi}} \\right)}\\right)} - 4.00353364442121 \\operatorname{re}{\\left(\\left(X_{10} X_{5}\\right)^{1.39352880529503} {{}_{2}F_{1}\\left(\\begin{matrix} 1.0, 1.0 \\\\ 1.37300678084057 \\end{matrix}\\middle| {1.49190626153088 X_{10} X_{5} e^{i \\pi}} \\right)}\\right)} - 5.90323107582714 \\operatorname{re}{\\left(\\left(X_{10} X_{6}\\right)^{1.39338062019074} {{}_{2}F_{1}\\left(\\begin{matrix} 1.0, 1.0 \\\\ 1.37271474403571 \\end{matrix}\\middle| {1.49181495024548 X_{10} X_{6} e^{i \\pi}} \\right)}\\right)} + 1.40610815227262 \\operatorname{re}{\\left(\\left(X_{10} X_{7}\\right)^{1.40058309963728} {{}_{2}F_{1}\\left(\\begin{matrix} 1.0, 1.0 \\\\ 1.3879199359112 \\end{matrix}\\middle| {1.47845038662728 X_{10} X_{7} e^{i \\pi}} \\right)}\\right)} + 2.8271999591622 \\operatorname{re}{\\left(\\left(X_{10} X_{8}\\right)^{1.39351082142325} {{}_{2}F_{1}\\left(\\begin{matrix} 1.0, 1.0 \\\\ 1.37302186633237 \\end{matrix}\\middle| {1.49195332981192 X_{10} X_{8} e^{i \\pi}} \\right)}\\right)} + 0.803960758686424 \\operatorname{re}{\\left(\\left(X_{10} X_{9}\\right)^{1.39312139070744} {{}_{2}F_{1}\\left(\\begin{matrix} 1.0, 1.0 \\\\ 1.37261516485193 \\end{matrix}\\middle| {1.49206372274103 X_{10} X_{9} e^{i \\pi}} \\right)}\\right)} - 1.98777861097791 \\operatorname{re}{\\left(\\left(X_{11} X_{12}\\right)^{1.39291483601032} {{}_{2}F_{1}\\left(\\begin{matrix} 1.0, 1.0 \\\\ 1.37230974347867 \\end{matrix}\\middle| {1.49192518450085 X_{11} X_{12} e^{i \\pi}} \\right)}\\right)} - 4.90975255936911 \\operatorname{re}{\\left(\\left(X_{11} X_{13}\\right)^{1.39312096594152} {{}_{2}F_{1}\\left(\\begin{matrix} 1.0, 1.0 \\\\ 1.37252008031462 \\end{matrix}\\middle| {1.49186089657925 X_{11} X_{13} e^{i \\pi}} \\right)}\\right)} + 1.54723740238135 \\operatorname{re}{\\left(\\left(X_{11} X_{14}\\right)^{1.39330688731431} {{}_{2}F_{1}\\left(\\begin{matrix} 1.0, 1.0 \\\\ 1.37276665042888 \\end{matrix}\\middle| {1.49192347570158 X_{11} X_{14} e^{i \\pi}} \\right)}\\right)} + 2.50576878584488 \\operatorname{re}{\\left(\\left(X_{11} X_{15}\\right)^{1.39304291864708} {{}_{2}F_{1}\\left(\\begin{matrix} 1.0, 1.0 \\\\ 1.37250187793645 \\end{matrix}\\middle| {1.49215611580705 X_{11} X_{15} e^{i \\pi}} \\right)}\\right)} + 5.4593397148892 \\operatorname{re}{\\left(\\left(X_{11} X_{16}\\right)^{1.39289003973036} {{}_{2}F_{1}\\left(\\begin{matrix} 1.0, 1.0 \\\\ 1.37233604572867 \\end{matrix}\\middle| {1.49207302508972 X_{11} X_{16} e^{i \\pi}} \\right)}\\right)} + 3.786767349868 \\operatorname{re}{\\left(\\left(X_{11} X_{17}\\right)^{1.39351801295572} {{}_{2}F_{1}\\left(\\begin{matrix} 1.0, 1.0 \\\\ 1.37298094156906 \\end{matrix}\\middle| {1.49193827738237 X_{11} X_{17} e^{i \\pi}} \\right)}\\right)} + 0.748750965848977 \\operatorname{re}{\\left(\\left(X_{11} X_{18}\\right)^{1.39339524767439} {{}_{2}F_{1}\\left(\\begin{matrix} 1.0, 1.0 \\\\ 1.37285623001924 \\end{matrix}\\middle| {1.49190170069883 X_{11} X_{18} e^{i \\pi}} \\right)}\\right)} - 0.122391955411399 \\operatorname{re}{\\left(\\left(X_{11} X_{19}\\right)^{1.39322659193111} {{}_{2}F_{1}\\left(\\begin{matrix} 1.0, 1.0 \\\\ 1.37270445524447 \\end{matrix}\\middle| {1.49195639008182 X_{11} X_{19} e^{i \\pi}} \\right)}\\right)} - 3.42240566887272 \\operatorname{re}{\\left(\\left(X_{11} X_{2}\\right)^{1.39357114428752} {{}_{2}F_{1}\\left(\\begin{matrix} 1.0, 1.0 \\\\ 1.37302000743077 \\end{matrix}\\middle| {1.49182100994433 X_{11} X_{2} e^{i \\pi}} \\right)}\\right)} - 1.71276503619585 \\operatorname{re}{\\left(\\left(X_{11} X_{3}\\right)^{1.39358024988753} {{}_{2}F_{1}\\left(\\begin{matrix} 1.0, 1.0 \\\\ 1.37303395097263 \\end{matrix}\\middle| {1.49184426727674 X_{11} X_{3} e^{i \\pi}} \\right)}\\right)} + 0.146362952401508 \\operatorname{re}{\\left(\\left(X_{11} X_{4}\\right)^{1.39311727177772} {{}_{2}F_{1}\\left(\\begin{matrix} 1.0, 1.0 \\\\ 1.37255072238519 \\end{matrix}\\middle| {1.49195447893269 X_{11} X_{4} e^{i \\pi}} \\right)}\\right)} - 4.58255807484222 \\operatorname{re}{\\left(\\left(X_{11} X_{5}\\right)^{1.39358667188431} {{}_{2}F_{1}\\left(\\begin{matrix} 1.0, 1.0 \\\\ 1.37298313386356 \\end{matrix}\\middle| {1.49171164183204 X_{11} X_{5} e^{i \\pi}} \\right)}\\right)} - 1.34138584031652 \\operatorname{re}{\\left(\\left(X_{11} X_{6}\\right)^{1.39358909639708} {{}_{2}F_{1}\\left(\\begin{matrix} 1.0, 1.0 \\\\ 1.37303632234826 \\end{matrix}\\middle| {1.49181645019113 X_{11} X_{6} e^{i \\pi}} \\right)}\\right)} - 0.122470214026819 \\operatorname{re}{\\left(\\left(X_{11} X_{7}\\right)^{1.39307380842639} {{}_{2}F_{1}\\left(\\begin{matrix} 1.0, 1.0 \\\\ 1.37263562485652 \\end{matrix}\\middle| {1.49218139670602 X_{11} X_{7} e^{i \\pi}} \\right)}\\right)} - 0.713815915945023 \\operatorname{re}{\\left(\\left(X_{11} X_{8}\\right)^{1.39351951011153} {{}_{2}F_{1}\\left(\\begin{matrix} 1.0, 1.0 \\\\ 1.37297323623024 \\end{matrix}\\middle| {1.49185460091004 X_{11} X_{8} e^{i \\pi}} \\right)}\\right)} - 2.30180321409831 \\operatorname{re}{\\left(\\left(X_{11} X_{9}\\right)^{1.39357801456176} {{}_{2}F_{1}\\left(\\begin{matrix} 1.0, 1.0 \\\\ 1.37302762199556 \\end{matrix}\\middle| {1.49182482925598 X_{11} X_{9} e^{i \\pi}} \\right)}\\right)} + 2.1251651894811 \\operatorname{re}{\\left(\\left(X_{12} X_{13}\\right)^{1.39282093549111} {{}_{2}F_{1}\\left(\\begin{matrix} 1.0, 1.0 \\\\ 1.37257899903568 \\end{matrix}\\middle| {1.49353488540854 X_{12} X_{13} e^{i \\pi}} \\right)}\\right)} + 0.766041288814408 \\operatorname{re}{\\left(\\left(X_{12} X_{14}\\right)^{1.39328542344873} {{}_{2}F_{1}\\left(\\begin{matrix} 1.0, 1.0 \\\\ 1.37319074887416 \\end{matrix}\\middle| {1.4920110506475 X_{12} X_{14} e^{i \\pi}} \\right)}\\right)} - 4.07390171906026 \\operatorname{re}{\\left(\\left(X_{12} X_{15}\\right)^{1.39414051375085} {{}_{2}F_{1}\\left(\\begin{matrix} 1.0, 1.0 \\\\ 1.37369654216801 \\end{matrix}\\middle| {1.49320080224061 X_{12} X_{15} e^{i \\pi}} \\right)}\\right)} + 0.212932399079846 \\operatorname{re}{\\left(\\left(X_{12} X_{16}\\right)^{1.39108259770741} {{}_{2}F_{1}\\left(\\begin{matrix} 1.0, 1.0 \\\\ 1.36939874271097 \\end{matrix}\\middle| {1.4953145696993 X_{12} X_{16} e^{i \\pi}} \\right)}\\right)} - 6.59638899207816 \\operatorname{re}{\\left(\\left(X_{12} X_{17}\\right)^{1.3903689766802} {{}_{2}F_{1}\\left(\\begin{matrix} 1.0, 1.0 \\\\ 1.36631893553517 \\end{matrix}\\middle| {1.49838901822223 X_{12} X_{17} e^{i \\pi}} \\right)}\\right)} - 4.14714873375651 \\operatorname{re}{\\left(\\left(X_{12} X_{18}\\right)^{1.39329631406407} {{}_{2}F_{1}\\left(\\begin{matrix} 1.0, 1.0 \\\\ 1.37280400572002 \\end{matrix}\\middle| {1.49206093440494 X_{12} X_{18} e^{i \\pi}} \\right)}\\right)} - 0.313959927488521 \\operatorname{re}{\\left(\\left(X_{12} X_{19}\\right)^{1.39248223373362} {{}_{2}F_{1}\\left(\\begin{matrix} 1.0, 1.0 \\\\ 1.37240989718462 \\end{matrix}\\middle| {1.49293797202815 X_{12} X_{19} e^{i \\pi}} \\right)}\\right)} + 0.502870379896101 \\operatorname{re}{\\left(\\left(X_{12} X_{2}\\right)^{1.39307984512467} {{}_{2}F_{1}\\left(\\begin{matrix} 1.0, 1.0 \\\\ 1.37264204847602 \\end{matrix}\\middle| {1.4922342786597 X_{12} X_{2} e^{i \\pi}} \\right)}\\right)} - 4.24780797623146 \\operatorname{re}{\\left(\\left(X_{12} X_{3}\\right)^{1.39396271883581} {{}_{2}F_{1}\\left(\\begin{matrix} 1.0, 1.0 \\\\ 1.37351949228602 \\end{matrix}\\middle| {1.49188328430305 X_{12} X_{3} e^{i \\pi}} \\right)}\\right)} + 2.5947616388266 \\operatorname{re}{\\left(\\left(X_{12} X_{4}\\right)^{1.39512347723458} {{}_{2}F_{1}\\left(\\begin{matrix} 1.0, 1.0 \\\\ 1.37660171108405 \\end{matrix}\\middle| {1.49014093165113 X_{12} X_{4} e^{i \\pi}} \\right)}\\right)} + 1.51862732368425 \\operatorname{re}{\\left(\\left(X_{12} X_{5}\\right)^{1.39368406998122} {{}_{2}F_{1}\\left(\\begin{matrix} 1.0, 1.0 \\\\ 1.37338371659927 \\end{matrix}\\middle| {1.49180489687057 X_{12} X_{5} e^{i \\pi}} \\right)}\\right)} + 1.49937187436523 \\operatorname{re}{\\left(\\left(X_{12} X_{6}\\right)^{1.39303741055664} {{}_{2}F_{1}\\left(\\begin{matrix} 1.0, 1.0 \\\\ 1.37245975246296 \\end{matrix}\\middle| {1.49197119781919 X_{12} X_{6} e^{i \\pi}} \\right)}\\right)} - 0.0723696974769861 \\operatorname{re}{\\left(\\left(X_{12} X_{7}\\right)^{1.39135652080377} {{}_{2}F_{1}\\left(\\begin{matrix} 1.0, 1.0 \\\\ 1.36808306769709 \\end{matrix}\\middle| {1.49997325756274 X_{12} X_{7} e^{i \\pi}} \\right)}\\right)} + 0.858418694569209 \\operatorname{re}{\\left(\\left(X_{12} X_{8}\\right)^{1.39314649168208} {{}_{2}F_{1}\\left(\\begin{matrix} 1.0, 1.0 \\\\ 1.37254361725637 \\end{matrix}\\middle| {1.49209041423863 X_{12} X_{8} e^{i \\pi}} \\right)}\\right)} - 3.71206820344525 \\operatorname{re}{\\left(\\left(X_{12} X_{9}\\right)^{1.39323007031325} {{}_{2}F_{1}\\left(\\begin{matrix} 1.0, 1.0 \\\\ 1.3726958922783 \\end{matrix}\\middle| {1.49195307086617 X_{12} X_{9} e^{i \\pi}} \\right)}\\right)} + 0.588667682229057 \\operatorname{re}{\\left(\\left(X_{13} X_{14}\\right)^{1.3931711971192} {{}_{2}F_{1}\\left(\\begin{matrix} 1.0, 1.0 \\\\ 1.37289884740637 \\end{matrix}\\middle| {1.49209326533495 X_{13} X_{14} e^{i \\pi}} \\right)}\\right)} + 3.07839881280651 \\operatorname{re}{\\left(\\left(X_{13} X_{15}\\right)^{1.39276733156655} {{}_{2}F_{1}\\left(\\begin{matrix} 1.0, 1.0 \\\\ 1.37152675237841 \\end{matrix}\\middle| {1.49443620633691 X_{13} X_{15} e^{i \\pi}} \\right)}\\right)} + 0.766166262952406 \\operatorname{re}{\\left(\\left(X_{13} X_{16}\\right)^{1.39307899567388} {{}_{2}F_{1}\\left(\\begin{matrix} 1.0, 1.0 \\\\ 1.3736822822095 \\end{matrix}\\middle| {1.48997631776982 X_{13} X_{16} e^{i \\pi}} \\right)}\\right)} + 1.06900727087244 \\operatorname{re}{\\left(\\left(X_{13} X_{17}\\right)^{1.39432258890187} {{}_{2}F_{1}\\left(\\begin{matrix} 1.0, 1.0 \\\\ 1.37467370692135 \\end{matrix}\\middle| {1.48953653936683 X_{13} X_{17} e^{i \\pi}} \\right)}\\right)} + 2.06366086714449 \\operatorname{re}{\\left(\\left(X_{13} X_{18}\\right)^{1.39310655254324} {{}_{2}F_{1}\\left(\\begin{matrix} 1.0, 1.0 \\\\ 1.37266190832656 \\end{matrix}\\middle| {1.49224199258031 X_{13} X_{18} e^{i \\pi}} \\right)}\\right)} - 1.4393557000533 \\operatorname{re}{\\left(\\left(X_{13} X_{19}\\right)^{1.39230572753063} {{}_{2}F_{1}\\left(\\begin{matrix} 1.0, 1.0 \\\\ 1.37199289983659 \\end{matrix}\\middle| {1.49279408408273 X_{13} X_{19} e^{i \\pi}} \\right)}\\right)} - 1.7240105654249 \\operatorname{re}{\\left(\\left(X_{13} X_{2}\\right)^{1.3928416479661} {{}_{2}F_{1}\\left(\\begin{matrix} 1.0, 1.0 \\\\ 1.37219490736272 \\end{matrix}\\middle| {1.49235927126395 X_{13} X_{2} e^{i \\pi}} \\right)}\\right)} - 2.31190328618587 \\operatorname{re}{\\left(\\left(X_{13} X_{3}\\right)^{1.39436614644276} {{}_{2}F_{1}\\left(\\begin{matrix} 1.0, 1.0 \\\\ 1.37410342741951 \\end{matrix}\\middle| {1.49166951712542 X_{13} X_{3} e^{i \\pi}} \\right)}\\right)} + 1.90981427311428 \\operatorname{re}{\\left(\\left(X_{13} X_{4}\\right)^{1.39568808574109} {{}_{2}F_{1}\\left(\\begin{matrix} 1.0, 1.0 \\\\ 1.3777338954432 \\end{matrix}\\middle| {1.48812850811329 X_{13} X_{4} e^{i \\pi}} \\right)}\\right)} - 0.84461634445629 \\operatorname{re}{\\left(\\left(X_{13} X_{5}\\right)^{1.39355974565741} {{}_{2}F_{1}\\left(\\begin{matrix} 1.0, 1.0 \\\\ 1.37320855902652 \\end{matrix}\\middle| {1.49155540483452 X_{13} X_{5} e^{i \\pi}} \\right)}\\right)} + 2.63113624821791 \\operatorname{re}{\\left(\\left(X_{13} X_{6}\\right)^{1.39281178308004} {{}_{2}F_{1}\\left(\\begin{matrix} 1.0, 1.0 \\\\ 1.37212199458671 \\end{matrix}\\middle| {1.49217350027388 X_{13} X_{6} e^{i \\pi}} \\right)}\\right)} - 4.31949385525057 \\operatorname{re}{\\left(\\left(X_{13} X_{7}\\right)^{1.39311727245817} {{}_{2}F_{1}\\left(\\begin{matrix} 1.0, 1.0 \\\\ 1.37240646935927 \\end{matrix}\\middle| {1.49377909437249 X_{13} X_{7} e^{i \\pi}} \\right)}\\right)} + 0.739632055294301 \\operatorname{re}{\\left(\\left(X_{13} X_{8}\\right)^{1.39317292065019} {{}_{2}F_{1}\\left(\\begin{matrix} 1.0, 1.0 \\\\ 1.37259002980249 \\end{matrix}\\middle| {1.49202240640331 X_{13} X_{8} e^{i \\pi}} \\right)}\\right)} - 3.5350722844013 \\operatorname{re}{\\left(\\left(X_{13} X_{9}\\right)^{1.3933262409086} {{}_{2}F_{1}\\left(\\begin{matrix} 1.0, 1.0 \\\\ 1.37278470302341 \\end{matrix}\\middle| {1.49190707623734 X_{13} X_{9} e^{i \\pi}} \\right)}\\right)} + 2.54677028161995 \\operatorname{re}{\\left(\\left(X_{14} X_{15}\\right)^{1.3939382034553} {{}_{2}F_{1}\\left(\\begin{matrix} 1.0, 1.0 \\\\ 1.37368283489912 \\end{matrix}\\middle| {1.4921525539679 X_{14} X_{15} e^{i \\pi}} \\right)}\\right)} + 5.20683240868846 \\operatorname{re}{\\left(\\left(X_{14} X_{16}\\right)^{1.39356587033533} {{}_{2}F_{1}\\left(\\begin{matrix} 1.0, 1.0 \\\\ 1.3735686415535 \\end{matrix}\\middle| {1.49167773376215 X_{14} X_{16} e^{i \\pi}} \\right)}\\right)} - 2.16520107398823 \\operatorname{re}{\\left(\\left(X_{14} X_{17}\\right)^{1.39406803465133} {{}_{2}F_{1}\\left(\\begin{matrix} 1.0, 1.0 \\\\ 1.37406502663527 \\end{matrix}\\middle| {1.49016290290666 X_{14} X_{17} e^{i \\pi}} \\right)}\\right)} - 0.898683132860516 \\operatorname{re}{\\left(\\left(X_{14} X_{18}\\right)^{1.39328920168162} {{}_{2}F_{1}\\left(\\begin{matrix} 1.0, 1.0 \\\\ 1.37278396150567 \\end{matrix}\\middle| {1.49204132017154 X_{14} X_{18} e^{i \\pi}} \\right)}\\right)} + 8.43393049988434 \\operatorname{re}{\\left(\\left(X_{14} X_{19}\\right)^{1.39280037023777} {{}_{2}F_{1}\\left(\\begin{matrix} 1.0, 1.0 \\\\ 1.37248362103354 \\end{matrix}\\middle| {1.49254609205843 X_{14} X_{19} e^{i \\pi}} \\right)}\\right)} + 1.5098010385754 \\operatorname{re}{\\left(\\left(X_{14} X_{2}\\right)^{1.39319167926327} {{}_{2}F_{1}\\left(\\begin{matrix} 1.0, 1.0 \\\\ 1.37268770066506 \\end{matrix}\\middle| {1.4920600600599 X_{14} X_{2} e^{i \\pi}} \\right)}\\right)} - 3.14538281575448 \\operatorname{re}{\\left(\\left(X_{14} X_{3}\\right)^{1.39386322772703} {{}_{2}F_{1}\\left(\\begin{matrix} 1.0, 1.0 \\\\ 1.37338713820634 \\end{matrix}\\middle| {1.49189806717085 X_{14} X_{3} e^{i \\pi}} \\right)}\\right)} - 5.12076258291249 \\operatorname{re}{\\left(\\left(X_{14} X_{4}\\right)^{1.39400847875412} {{}_{2}F_{1}\\left(\\begin{matrix} 1.0, 1.0 \\\\ 1.37405611984884 \\end{matrix}\\middle| {1.49132360309614 X_{14} X_{4} e^{i \\pi}} \\right)}\\right)} + 5.20900425649393 \\operatorname{re}{\\left(\\left(X_{14} X_{5}\\right)^{1.39384107480911} {{}_{2}F_{1}\\left(\\begin{matrix} 1.0, 1.0 \\\\ 1.37364193148326 \\end{matrix}\\middle| {1.49153602496769 X_{14} X_{5} e^{i \\pi}} \\right)}\\right)} - 0.225327307513035 \\operatorname{re}{\\left(\\left(X_{14} X_{6}\\right)^{1.39331661890327} {{}_{2}F_{1}\\left(\\begin{matrix} 1.0, 1.0 \\\\ 1.37274963325142 \\end{matrix}\\middle| {1.49187227020185 X_{14} X_{6} e^{i \\pi}} \\right)}\\right)} + 3.58845610141352 \\operatorname{re}{\\left(\\left(X_{14} X_{7}\\right)^{1.39387594344868} {{}_{2}F_{1}\\left(\\begin{matrix} 1.0, 1.0 \\\\ 1.37423527469414 \\end{matrix}\\middle| {1.4906397952569 X_{14} X_{7} e^{i \\pi}} \\right)}\\right)} - 3.21933384212137 \\operatorname{re}{\\left(\\left(X_{14} X_{8}\\right)^{1.39344950484945} {{}_{2}F_{1}\\left(\\begin{matrix} 1.0, 1.0 \\\\ 1.37287830155317 \\end{matrix}\\middle| {1.49183857383192 X_{14} X_{8} e^{i \\pi}} \\right)}\\right)} - 2.49900556718074 \\operatorname{re}{\\left(\\left(X_{14} X_{9}\\right)^{1.39345868625854} {{}_{2}F_{1}\\left(\\begin{matrix} 1.0, 1.0 \\\\ 1.37291567981208 \\end{matrix}\\middle| {1.49187349194104 X_{14} X_{9} e^{i \\pi}} \\right)}\\right)} + 1.65417545691806 \\operatorname{re}{\\left(\\left(X_{15} X_{16}\\right)^{1.39222647630628} {{}_{2}F_{1}\\left(\\begin{matrix} 1.0, 1.0 \\\\ 1.37054748897153 \\end{matrix}\\middle| {1.49482814853366 X_{15} X_{16} e^{i \\pi}} \\right)}\\right)} + 1.68909028871669 \\operatorname{re}{\\left(\\left(X_{15} X_{17}\\right)^{1.39260011328282} {{}_{2}F_{1}\\left(\\begin{matrix} 1.0, 1.0 \\\\ 1.37090576471395 \\end{matrix}\\middle| {1.4937595968601 X_{15} X_{17} e^{i \\pi}} \\right)}\\right)} + 1.97068292787512 \\operatorname{re}{\\left(\\left(X_{15} X_{18}\\right)^{1.39349360261513} {{}_{2}F_{1}\\left(\\begin{matrix} 1.0, 1.0 \\\\ 1.37322232055384 \\end{matrix}\\middle| {1.49240099914708 X_{15} X_{18} e^{i \\pi}} \\right)}\\right)} + 0.992929679855195 \\operatorname{re}{\\left(\\left(X_{15} X_{19}\\right)^{1.3934401207507} {{}_{2}F_{1}\\left(\\begin{matrix} 1.0, 1.0 \\\\ 1.37361457637757 \\end{matrix}\\middle| {1.49126282755862 X_{15} X_{19} e^{i \\pi}} \\right)}\\right)} + 0.0494125740480397 \\operatorname{re}{\\left(\\left(X_{15} X_{2}\\right)^{1.39339906773779} {{}_{2}F_{1}\\left(\\begin{matrix} 1.0, 1.0 \\\\ 1.37302678738662 \\end{matrix}\\middle| {1.49210852343065 X_{15} X_{2} e^{i \\pi}} \\right)}\\right)} + 1.42621301180517 \\operatorname{re}{\\left(\\left(X_{15} X_{3}\\right)^{1.39704725191793} {{}_{2}F_{1}\\left(\\begin{matrix} 1.0, 1.0 \\\\ 1.37951407430994 \\end{matrix}\\middle| {1.48638324128904 X_{15} X_{3} e^{i \\pi}} \\right)}\\right)} - 0.523113236945394 \\operatorname{re}{\\left(\\left(X_{15} X_{4}\\right)^{1.39917922479915} {{}_{2}F_{1}\\left(\\begin{matrix} 1.0, 1.0 \\\\ 1.38539695660094 \\end{matrix}\\middle| {1.47864070588352 X_{15} X_{4} e^{i \\pi}} \\right)}\\right)} - 2.77740030777666 \\operatorname{re}{\\left(\\left(X_{15} X_{5}\\right)^{1.39312583701353} {{}_{2}F_{1}\\left(\\begin{matrix} 1.0, 1.0 \\\\ 1.37223281125023 \\end{matrix}\\middle| {1.4924323829571 X_{15} X_{5} e^{i \\pi}} \\right)}\\right)} + 3.3916964481812 \\operatorname{re}{\\left(\\left(X_{15} X_{6}\\right)^{1.39222507990151} {{}_{2}F_{1}\\left(\\begin{matrix} 1.0, 1.0 \\\\ 1.37094985296553 \\end{matrix}\\middle| {1.493419021334 X_{15} X_{6} e^{i \\pi}} \\right)}\\right)} - 0.358450162176772 \\operatorname{re}{\\left(\\left(X_{15} X_{7}\\right)^{1.3981154460044} {{}_{2}F_{1}\\left(\\begin{matrix} 1.0, 1.0 \\\\ 1.38268880369604 \\end{matrix}\\middle| {1.48313024564998 X_{15} X_{7} e^{i \\pi}} \\right)}\\right)} + 0.701852139568118 \\operatorname{re}{\\left(\\left(X_{15} X_{8}\\right)^{1.39282873500796} {{}_{2}F_{1}\\left(\\begin{matrix} 1.0, 1.0 \\\\ 1.37198988254184 \\end{matrix}\\middle| {1.49249795422204 X_{15} X_{8} e^{i \\pi}} \\right)}\\right)} - 4.28045916392962 \\operatorname{re}{\\left(\\left(X_{15} X_{9}\\right)^{1.3934809590921} {{}_{2}F_{1}\\left(\\begin{matrix} 1.0, 1.0 \\\\ 1.37293517525946 \\end{matrix}\\middle| {1.49186930239933 X_{15} X_{9} e^{i \\pi}} \\right)}\\right)} + 1.55089246550225 \\operatorname{re}{\\left(\\left(X_{16} X_{17}\\right)^{1.390239090409} {{}_{2}F_{1}\\left(\\begin{matrix} 1.0, 1.0 \\\\ 1.36589025325486 \\end{matrix}\\middle| {1.5002845920014 X_{16} X_{17} e^{i \\pi}} \\right)}\\right)} - 3.38332615506232 \\operatorname{re}{\\left(\\left(X_{16} X_{18}\\right)^{1.39375366310332} {{}_{2}F_{1}\\left(\\begin{matrix} 1.0, 1.0 \\\\ 1.37349536631614 \\end{matrix}\\middle| {1.49157975474795 X_{16} X_{18} e^{i \\pi}} \\right)}\\right)} - 2.22816825647152 \\operatorname{re}{\\left(\\left(X_{16} X_{19}\\right)^{1.39370242686959} {{}_{2}F_{1}\\left(\\begin{matrix} 1.0, 1.0 \\\\ 1.37437272546461 \\end{matrix}\\middle| {1.49055667625604 X_{16} X_{19} e^{i \\pi}} \\right)}\\right)} - 0.375701184872446 \\operatorname{re}{\\left(\\left(X_{16} X_{2}\\right)^{1.39284057279792} {{}_{2}F_{1}\\left(\\begin{matrix} 1.0, 1.0 \\\\ 1.3717770723189 \\end{matrix}\\middle| {1.49284631864472 X_{16} X_{2} e^{i \\pi}} \\right)}\\right)} - 0.228668411625109 \\operatorname{re}{\\left(\\left(X_{16} X_{3}\\right)^{1.39366150960994} {{}_{2}F_{1}\\left(\\begin{matrix} 1.0, 1.0 \\\\ 1.37317859376503 \\end{matrix}\\middle| {1.49189354027793 X_{16} X_{3} e^{i \\pi}} \\right)}\\right)} - 7.09277933011788 \\operatorname{re}{\\left(\\left(X_{16} X_{4}\\right)^{1.39259794888687} {{}_{2}F_{1}\\left(\\begin{matrix} 1.0, 1.0 \\\\ 1.37303712889629 \\end{matrix}\\middle| {1.49034031580065 X_{16} X_{4} e^{i \\pi}} \\right)}\\right)} + 1.98829432481988 \\operatorname{re}{\\left(\\left(X_{16} X_{5}\\right)^{1.39419987893426} {{}_{2}F_{1}\\left(\\begin{matrix} 1.0, 1.0 \\\\ 1.37450486798742 \\end{matrix}\\middle| {1.49058527740338 X_{16} X_{5} e^{i \\pi}} \\right)}\\right)} - 3.11229525603487 \\operatorname{re}{\\left(\\left(X_{16} X_{6}\\right)^{1.39317642187028} {{}_{2}F_{1}\\left(\\begin{matrix} 1.0, 1.0 \\\\ 1.37257149666322 \\end{matrix}\\middle| {1.49175508336531 X_{16} X_{6} e^{i \\pi}} \\right)}\\right)} + 2.67810970228388 \\operatorname{re}{\\left(\\left(X_{16} X_{7}\\right)^{1.38908221992056} {{}_{2}F_{1}\\left(\\begin{matrix} 1.0, 1.0 \\\\ 1.36401136414518 \\end{matrix}\\middle| {1.50368076757937 X_{16} X_{7} e^{i \\pi}} \\right)}\\right)} + 2.15810606965646 \\operatorname{re}{\\left(\\left(X_{16} X_{8}\\right)^{1.39338718902972} {{}_{2}F_{1}\\left(\\begin{matrix} 1.0, 1.0 \\\\ 1.37287229096002 \\end{matrix}\\middle| {1.49195853849758 X_{16} X_{8} e^{i \\pi}} \\right)}\\right)} - 0.0387883716625246 \\operatorname{re}{\\left(\\left(X_{16} X_{9}\\right)^{1.39326345562167} {{}_{2}F_{1}\\left(\\begin{matrix} 1.0, 1.0 \\\\ 1.37272859874754 \\end{matrix}\\middle| {1.49193829436397 X_{16} X_{9} e^{i \\pi}} \\right)}\\right)} - 0.490914562342516 \\operatorname{re}{\\left(\\left(X_{17} X_{18}\\right)^{1.39365027774381} {{}_{2}F_{1}\\left(\\begin{matrix} 1.0, 1.0 \\\\ 1.37318107979689 \\end{matrix}\\middle| {1.4919600621079 X_{17} X_{18} e^{i \\pi}} \\right)}\\right)} + 3.99168946584312 \\operatorname{re}{\\left(\\left(X_{17} X_{19}\\right)^{1.39525016894072} {{}_{2}F_{1}\\left(\\begin{matrix} 1.0, 1.0 \\\\ 1.37671083262848 \\end{matrix}\\middle| {1.48810402005937 X_{17} X_{19} e^{i \\pi}} \\right)}\\right)} + 0.56650204796928 \\operatorname{re}{\\left(\\left(X_{17} X_{2}\\right)^{1.39349871108691} {{}_{2}F_{1}\\left(\\begin{matrix} 1.0, 1.0 \\\\ 1.37300867966644 \\end{matrix}\\middle| {1.49197686902374 X_{17} X_{2} e^{i \\pi}} \\right)}\\right)} - 14.2505730709197 \\operatorname{re}{\\left(\\left(X_{17} X_{3}\\right)^{1.39418409262238} {{}_{2}F_{1}\\left(\\begin{matrix} 1.0, 1.0 \\\\ 1.3735794239328 \\end{matrix}\\middle| {1.49152810799102 X_{17} X_{3} e^{i \\pi}} \\right)}\\right)} + 1.20809789847522 \\operatorname{re}{\\left(\\left(X_{17} X_{4}\\right)^{1.39530458779692} {{}_{2}F_{1}\\left(\\begin{matrix} 1.0, 1.0 \\\\ 1.37697670789484 \\end{matrix}\\middle| {1.48703594523623 X_{17} X_{4} e^{i \\pi}} \\right)}\\right)} - 1.95480613988063 \\operatorname{re}{\\left(\\left(X_{17} X_{5}\\right)^{1.39352160888921} {{}_{2}F_{1}\\left(\\begin{matrix} 1.0, 1.0 \\\\ 1.37309124829351 \\end{matrix}\\middle| {1.4915845926814 X_{17} X_{5} e^{i \\pi}} \\right)}\\right)} - 5.84496799420883 \\operatorname{re}{\\left(\\left(X_{17} X_{6}\\right)^{1.39329407663994} {{}_{2}F_{1}\\left(\\begin{matrix} 1.0, 1.0 \\\\ 1.37259635126472 \\end{matrix}\\middle| {1.49204592851656 X_{17} X_{6} e^{i \\pi}} \\right)}\\right)} + 1.56936890315159 \\operatorname{re}{\\left(\\left(X_{17} X_{7}\\right)^{1.39000787559432} {{}_{2}F_{1}\\left(\\begin{matrix} 1.0, 1.0 \\\\ 1.36534975182769 \\end{matrix}\\middle| {1.4987877629648 X_{17} X_{7} e^{i \\pi}} \\right)}\\right)} - 2.51888957022892 \\operatorname{re}{\\left(\\left(X_{17} X_{8}\\right)^{1.39340540242255} {{}_{2}F_{1}\\left(\\begin{matrix} 1.0, 1.0 \\\\ 1.37280126135136 \\end{matrix}\\middle| {1.49185993533136 X_{17} X_{8} e^{i \\pi}} \\right)}\\right)} - 3.37595292395956 \\operatorname{re}{\\left(\\left(X_{17} X_{9}\\right)^{1.39370934484935} {{}_{2}F_{1}\\left(\\begin{matrix} 1.0, 1.0 \\\\ 1.37314392833964 \\end{matrix}\\middle| {1.49175796953816 X_{17} X_{9} e^{i \\pi}} \\right)}\\right)} + 3.00412512280782 \\operatorname{re}{\\left(\\left(X_{18} X_{19}\\right)^{1.39298479333238} {{}_{2}F_{1}\\left(\\begin{matrix} 1.0, 1.0 \\\\ 1.37248328912932 \\end{matrix}\\middle| {1.4921144247128 X_{18} X_{19} e^{i \\pi}} \\right)}\\right)} - 1.60420237394374 \\operatorname{re}{\\left(\\left(X_{18} X_{2}\\right)^{1.39346683957978} {{}_{2}F_{1}\\left(\\begin{matrix} 1.0, 1.0 \\\\ 1.37292759084248 \\end{matrix}\\middle| {1.4918839380705 X_{18} X_{2} e^{i \\pi}} \\right)}\\right)} + 4.0365941475552 \\operatorname{re}{\\left(\\left(X_{18} X_{3}\\right)^{1.3935304615194} {{}_{2}F_{1}\\left(\\begin{matrix} 1.0, 1.0 \\\\ 1.37308352256423 \\end{matrix}\\middle| {1.49202643426653 X_{18} X_{3} e^{i \\pi}} \\right)}\\right)} - 0.326969832721292 \\operatorname{re}{\\left(\\left(X_{18} X_{4}\\right)^{1.39335157953808} {{}_{2}F_{1}\\left(\\begin{matrix} 1.0, 1.0 \\\\ 1.37299025305779 \\end{matrix}\\middle| {1.49227624899476 X_{18} X_{4} e^{i \\pi}} \\right)}\\right)} - 1.46226723200713 \\operatorname{re}{\\left(\\left(X_{18} X_{5}\\right)^{1.39340025900336} {{}_{2}F_{1}\\left(\\begin{matrix} 1.0, 1.0 \\\\ 1.37287136725719 \\end{matrix}\\middle| {1.49193348211351 X_{18} X_{5} e^{i \\pi}} \\right)}\\right)} - 1.20252223102296 \\operatorname{re}{\\left(\\left(X_{18} X_{6}\\right)^{1.39348596256599} {{}_{2}F_{1}\\left(\\begin{matrix} 1.0, 1.0 \\\\ 1.37294391583513 \\end{matrix}\\middle| {1.49187510792348 X_{18} X_{6} e^{i \\pi}} \\right)}\\right)} + 2.66775786641125 \\operatorname{re}{\\left(\\left(X_{18} X_{7}\\right)^{1.39364110835849} {{}_{2}F_{1}\\left(\\begin{matrix} 1.0, 1.0 \\\\ 1.37342482688392 \\end{matrix}\\middle| {1.4916979774192 X_{18} X_{7} e^{i \\pi}} \\right)}\\right)} - 1.81923601166942 \\operatorname{re}{\\left(\\left(X_{18} X_{8}\\right)^{1.39351433391664} {{}_{2}F_{1}\\left(\\begin{matrix} 1.0, 1.0 \\\\ 1.37295035136234 \\end{matrix}\\middle| {1.4918304130522 X_{18} X_{8} e^{i \\pi}} \\right)}\\right)} - 1.55502328319716 \\operatorname{re}{\\left(\\left(X_{18} X_{9}\\right)^{1.39347448531083} {{}_{2}F_{1}\\left(\\begin{matrix} 1.0, 1.0 \\\\ 1.37293191145997 \\end{matrix}\\middle| {1.49187573053491 X_{18} X_{9} e^{i \\pi}} \\right)}\\right)} - 0.817275223604167 \\operatorname{re}{\\left(\\left(X_{19} X_{2}\\right)^{1.3932035768128} {{}_{2}F_{1}\\left(\\begin{matrix} 1.0, 1.0 \\\\ 1.3727112938956 \\end{matrix}\\middle| {1.49206125141914 X_{19} X_{2} e^{i \\pi}} \\right)}\\right)} + 3.787400817334 \\operatorname{re}{\\left(\\left(X_{19} X_{3}\\right)^{1.39368097767378} {{}_{2}F_{1}\\left(\\begin{matrix} 1.0, 1.0 \\\\ 1.37329040910743 \\end{matrix}\\middle| {1.49200377301364 X_{19} X_{3} e^{i \\pi}} \\right)}\\right)} - 6.75199047435979 \\operatorname{re}{\\left(\\left(X_{19} X_{4}\\right)^{1.39273803993461} {{}_{2}F_{1}\\left(\\begin{matrix} 1.0, 1.0 \\\\ 1.37249072161603 \\end{matrix}\\middle| {1.49239691946111 X_{19} X_{4} e^{i \\pi}} \\right)}\\right)} + 1.30532165644947 \\operatorname{re}{\\left(\\left(X_{19} X_{5}\\right)^{1.39319316039631} {{}_{2}F_{1}\\left(\\begin{matrix} 1.0, 1.0 \\\\ 1.37268915559334 \\end{matrix}\\middle| {1.49209301484851 X_{19} X_{5} e^{i \\pi}} \\right)}\\right)} - 0.35775088028219 \\operatorname{re}{\\left(\\left(X_{19} X_{6}\\right)^{1.3933284800969} {{}_{2}F_{1}\\left(\\begin{matrix} 1.0, 1.0 \\\\ 1.37277636159248 \\end{matrix}\\middle| {1.49188292196316 X_{19} X_{6} e^{i \\pi}} \\right)}\\right)} - 2.11373239136981 \\operatorname{re}{\\left(\\left(X_{19} X_{7}\\right)^{1.39415177478594} {{}_{2}F_{1}\\left(\\begin{matrix} 1.0, 1.0 \\\\ 1.375149761501 \\end{matrix}\\middle| {1.49072511239321 X_{19} X_{7} e^{i \\pi}} \\right)}\\right)} + 2.15325331126835 \\operatorname{re}{\\left(\\left(X_{19} X_{8}\\right)^{1.3932845017145} {{}_{2}F_{1}\\left(\\begin{matrix} 1.0, 1.0 \\\\ 1.37274357896875 \\end{matrix}\\middle| {1.49197964246163 X_{19} X_{8} e^{i \\pi}} \\right)}\\right)} - 2.28235074610797 \\operatorname{re}{\\left(\\left(X_{19} X_{9}\\right)^{1.39325893435503} {{}_{2}F_{1}\\left(\\begin{matrix} 1.0, 1.0 \\\\ 1.37272583243859 \\end{matrix}\\middle| {1.49194523330157 X_{19} X_{9} e^{i \\pi}} \\right)}\\right)} - 1.83763386939358 \\operatorname{re}{\\left(\\left(X_{2} X_{3}\\right)^{1.39356804812732} {{}_{2}F_{1}\\left(\\begin{matrix} 1.0, 1.0 \\\\ 1.37302538045203 \\end{matrix}\\middle| {1.49185829920618 X_{2} X_{3} e^{i \\pi}} \\right)}\\right)} - 1.45815552453374 \\operatorname{re}{\\left(\\left(X_{2} X_{4}\\right)^{1.39326207124765} {{}_{2}F_{1}\\left(\\begin{matrix} 1.0, 1.0 \\\\ 1.37278415674149 \\end{matrix}\\middle| {1.49217681139112 X_{2} X_{4} e^{i \\pi}} \\right)}\\right)} - 2.9169927900803 \\operatorname{re}{\\left(\\left(X_{2} X_{5}\\right)^{1.39350156247481} {{}_{2}F_{1}\\left(\\begin{matrix} 1.0, 1.0 \\\\ 1.37295445782921 \\end{matrix}\\middle| {1.49185883817138 X_{2} X_{5} e^{i \\pi}} \\right)}\\right)} - 1.57451129023444 \\operatorname{re}{\\left(\\left(X_{2} X_{6}\\right)^{1.39350789005309} {{}_{2}F_{1}\\left(\\begin{matrix} 1.0, 1.0 \\\\ 1.37293904881062 \\end{matrix}\\middle| {1.49182485500692 X_{2} X_{6} e^{i \\pi}} \\right)}\\right)} + 1.88275585415047 \\operatorname{re}{\\left(\\left(X_{2} X_{7}\\right)^{1.39299293985464} {{}_{2}F_{1}\\left(\\begin{matrix} 1.0, 1.0 \\\\ 1.37250814340372 \\end{matrix}\\middle| {1.49220625045839 X_{2} X_{7} e^{i \\pi}} \\right)}\\right)} - 1.64086760760387 \\operatorname{re}{\\left(\\left(X_{2} X_{8}\\right)^{1.39350747873392} {{}_{2}F_{1}\\left(\\begin{matrix} 1.0, 1.0 \\\\ 1.37295111089138 \\end{matrix}\\middle| {1.4918321742885 X_{2} X_{8} e^{i \\pi}} \\right)}\\right)} - 2.37889676307414 \\operatorname{re}{\\left(\\left(X_{2} X_{9}\\right)^{1.39352907117017} {{}_{2}F_{1}\\left(\\begin{matrix} 1.0, 1.0 \\\\ 1.37298112766615 \\end{matrix}\\middle| {1.49184430653021 X_{2} X_{9} e^{i \\pi}} \\right)}\\right)} - 5.73828248574919 \\operatorname{re}{\\left(\\left(X_{3} X_{4}\\right)^{1.39442480155038} {{}_{2}F_{1}\\left(\\begin{matrix} 1.0, 1.0 \\\\ 1.37410613008223 \\end{matrix}\\middle| {1.49168967601386 X_{3} X_{4} e^{i \\pi}} \\right)}\\right)} - 2.47615446543428 \\operatorname{re}{\\left(\\left(X_{3} X_{5}\\right)^{1.39369374736258} {{}_{2}F_{1}\\left(\\begin{matrix} 1.0, 1.0 \\\\ 1.37317159123225 \\end{matrix}\\middle| {1.4918816470437 X_{3} X_{5} e^{i \\pi}} \\right)}\\right)} - 0.446242047943419 \\operatorname{re}{\\left(\\left(X_{3} X_{6}\\right)^{1.39355208750736} {{}_{2}F_{1}\\left(\\begin{matrix} 1.0, 1.0 \\\\ 1.37302412519612 \\end{matrix}\\middle| {1.49190187381357 X_{3} X_{6} e^{i \\pi}} \\right)}\\right)} - 3.95279055476782 \\operatorname{re}{\\left(\\left(X_{3} X_{7}\\right)^{1.39386190361319} {{}_{2}F_{1}\\left(\\begin{matrix} 1.0, 1.0 \\\\ 1.37330336132893 \\end{matrix}\\middle| {1.49173328515199 X_{3} X_{7} e^{i \\pi}} \\right)}\\right)} - 1.55818131201174 \\operatorname{re}{\\left(\\left(X_{3} X_{8}\\right)^{1.39357406995113} {{}_{2}F_{1}\\left(\\begin{matrix} 1.0, 1.0 \\\\ 1.37302554088442 \\end{matrix}\\middle| {1.49183588709473 X_{3} X_{8} e^{i \\pi}} \\right)}\\right)} - 2.1846069375995 \\operatorname{re}{\\left(\\left(X_{3} X_{9}\\right)^{1.39359241477561} {{}_{2}F_{1}\\left(\\begin{matrix} 1.0, 1.0 \\\\ 1.37305124187774 \\end{matrix}\\middle| {1.49186068242563 X_{3} X_{9} e^{i \\pi}} \\right)}\\right)} + 2.35771392805252 \\operatorname{re}{\\left(\\left(X_{4} X_{5}\\right)^{1.39373910073333} {{}_{2}F_{1}\\left(\\begin{matrix} 1.0, 1.0 \\\\ 1.37345417372341 \\end{matrix}\\middle| {1.49168832196021 X_{4} X_{5} e^{i \\pi}} \\right)}\\right)} + 3.21765720639257 \\operatorname{re}{\\left(\\left(X_{4} X_{6}\\right)^{1.39308436838049} {{}_{2}F_{1}\\left(\\begin{matrix} 1.0, 1.0 \\\\ 1.37249872922416 \\end{matrix}\\middle| {1.49196313226048 X_{4} X_{6} e^{i \\pi}} \\right)}\\right)} - 0.010204150085623 \\operatorname{re}{\\left(\\left(X_{4} X_{7}\\right)^{1.39500462218614} {{}_{2}F_{1}\\left(\\begin{matrix} 1.0, 1.0 \\\\ 1.3769779594296 \\end{matrix}\\middle| {1.48839405851732 X_{4} X_{7} e^{i \\pi}} \\right)}\\right)} + 1.82943216016255 \\operatorname{re}{\\left(\\left(X_{4} X_{8}\\right)^{1.39316996835098} {{}_{2}F_{1}\\left(\\begin{matrix} 1.0, 1.0 \\\\ 1.37262661156589 \\end{matrix}\\middle| {1.49199331306003 X_{4} X_{8} e^{i \\pi}} \\right)}\\right)} - 5.9491459983492 \\operatorname{re}{\\left(\\left(X_{4} X_{9}\\right)^{1.39345637210012} {{}_{2}F_{1}\\left(\\begin{matrix} 1.0, 1.0 \\\\ 1.37290136536025 \\end{matrix}\\middle| {1.49183269394442 X_{4} X_{9} e^{i \\pi}} \\right)}\\right)} - 3.16953508736629 \\operatorname{re}{\\left(\\left(X_{5} X_{6}\\right)^{1.39335314307407} {{}_{2}F_{1}\\left(\\begin{matrix} 1.0, 1.0 \\\\ 1.37272927247646 \\end{matrix}\\middle| {1.49180853375897 X_{5} X_{6} e^{i \\pi}} \\right)}\\right)} + 1.53182199511575 \\operatorname{re}{\\left(\\left(X_{5} X_{7}\\right)^{1.39510079867579} {{}_{2}F_{1}\\left(\\begin{matrix} 1.0, 1.0 \\\\ 1.37584195667339 \\end{matrix}\\middle| {1.48958289229166 X_{5} X_{7} e^{i \\pi}} \\right)}\\right)} - 2.12737855501224 \\operatorname{re}{\\left(\\left(X_{5} X_{8}\\right)^{1.39355890962109} {{}_{2}F_{1}\\left(\\begin{matrix} 1.0, 1.0 \\\\ 1.37300362608099 \\end{matrix}\\middle| {1.49182022479244 X_{5} X_{8} e^{i \\pi}} \\right)}\\right)} - 2.90936741784461 \\operatorname{re}{\\left(\\left(X_{5} X_{9}\\right)^{1.39361933735715} {{}_{2}F_{1}\\left(\\begin{matrix} 1.0, 1.0 \\\\ 1.37306845749744 \\end{matrix}\\middle| {1.49181891873072 X_{5} X_{9} e^{i \\pi}} \\right)}\\right)} + 0.743790118873184 \\operatorname{re}{\\left(\\left(X_{6} X_{7}\\right)^{1.39272150127827} {{}_{2}F_{1}\\left(\\begin{matrix} 1.0, 1.0 \\\\ 1.37201092520566 \\end{matrix}\\middle| {1.49246661316599 X_{6} X_{7} e^{i \\pi}} \\right)}\\right)} - 1.62432468720956 \\operatorname{re}{\\left(\\left(X_{6} X_{8}\\right)^{1.39358914204065} {{}_{2}F_{1}\\left(\\begin{matrix} 1.0, 1.0 \\\\ 1.37303903967596 \\end{matrix}\\middle| {1.49182534057655 X_{6} X_{8} e^{i \\pi}} \\right)}\\right)} - 1.89346170484646 \\operatorname{re}{\\left(\\left(X_{6} X_{9}\\right)^{1.39358153289894} {{}_{2}F_{1}\\left(\\begin{matrix} 1.0, 1.0 \\\\ 1.37303007600295 \\end{matrix}\\middle| {1.49182174426641 X_{6} X_{9} e^{i \\pi}} \\right)}\\right)} - 0.171061323171637 \\operatorname{re}{\\left(\\left(X_{7} X_{8}\\right)^{1.39305248756324} {{}_{2}F_{1}\\left(\\begin{matrix} 1.0, 1.0 \\\\ 1.37226741955156 \\end{matrix}\\middle| {1.49244091907771 X_{7} X_{8} e^{i \\pi}} \\right)}\\right)} - 5.56814262500566 \\operatorname{re}{\\left(\\left(X_{7} X_{9}\\right)^{1.39336136164918} {{}_{2}F_{1}\\left(\\begin{matrix} 1.0, 1.0 \\\\ 1.37282130771326 \\end{matrix}\\middle| {1.49191289494358 X_{7} X_{9} e^{i \\pi}} \\right)}\\right)} - 2.15848506073844 \\operatorname{re}{\\left(\\left(X_{8} X_{9}\\right)^{1.39359121472576} {{}_{2}F_{1}\\left(\\begin{matrix} 1.0, 1.0 \\\\ 1.37304067348881 \\end{matrix}\\middle| {1.49182358083012 X_{8} X_{9} e^{i \\pi}} \\right)}\\right)}} + 1}$"
      ],
      "text/plain": [
       "1/(exp(-0.0196258473697001*re(X0**2.18235949200672*hyper((1.0, 1.0), (2.25688993743311,), 0.220282755075316*X0*exp_polar(I*pi))) - 0.000123796473322882*re(X1**2.52250119536324*hyper((1.0, 1.0), (2.64635542760424,), 0.154025686146726*X1*exp_polar(I*pi))) - 0.00943580270471118*re(X11**2.53947543012199*hyper((1.0, 1.0), (2.64551548284271,), 0.431661491518968*X11*exp_polar(I*pi))) - 9.44861756089406e-20*re(X12**2.35424912481973*hyper((1.0, 1.0), (2.470441074678,), 6.33139680744989e-5*X12*exp_polar(I*pi))) - 5.35698528802525e-20*re(X13**2.35902642116813*hyper((1.0, 1.0), (2.47575251848017,), 7.36800913778118e-5*X13*exp_polar(I*pi))) + 4.21072208633872e-10*re(X14**2.48641082107784*hyper((1.0, 1.0), (2.61224958008481,), 0.0108194785470753*X14*exp_polar(I*pi))) - 6.03864688738545e-22*re(X16**2.30098844426591*hyper((1.0, 1.0), (2.4055904911827,), 1.48146417179392e-5*X16*exp_polar(I*pi))) + 4.50892603136586e-14*re(X17**2.213266977016*hyper((1.0, 1.0), (2.29550426699466,), 0.00114076278868183*X17*exp_polar(I*pi))) + 0.0145388022003374*re(X18**2.56494836762346*hyper((1.0, 1.0), (2.67393186281391,), 0.421077908736004*X18*exp_polar(I*pi))) - 6.58439818270179e-11*re(X19**2.44645442995698*hyper((1.0, 1.0), (2.56794426361775,), 0.00816322004077528*X19*exp_polar(I*pi))) - 0.00207041955510435*re(X2**2.54716295871726*hyper((1.0, 1.0), (2.65079785242252,), 0.451525392518612*X2*exp_polar(I*pi))) + 0.351953518043434*re(X3**2.23929326122072*hyper((1.0, 1.0), (2.30675535318277,), 0.53587402213076*X3*exp_polar(I*pi))) - 3.3575020774973e-16*re(X4**2.37858999048948*hyper((1.0, 1.0), (2.49542297575661,), 0.000387946717645074*X4*exp_polar(I*pi))) + 0.000120575786437361*re(X5**2.43617036743106*hyper((1.0, 1.0), (2.55208584258573,), 0.147764206302891*X5*exp_polar(I*pi))) - 0.000459372478745229*re(X6**2.37296243330773*hyper((1.0, 1.0), (2.48449929566548,), 0.1691276014142*X6*exp_polar(I*pi))) - 1.16542484892965*re(X8**2.25887952672415*hyper((1.0, 1.0), (2.24686340108412,), 1.24628948678981*X8*exp_polar(I*pi))) + 0.000751885772730571*re(X9**2.57548245975546*hyper((1.0, 1.0), (2.68214553427564,), 0.436843376915483*X9*exp_polar(I*pi))) - 8.01028702532719*re((X0*X1)**1.39355563642964*hyper((1.0, 1.0), (1.3730164235468,), 1.4918662526494*X0*X1*exp_polar(I*pi))) + 0.58668016069935*re((X0*X10)**1.39601020992183*hyper((1.0, 1.0), (1.3781726597882,), 1.48722177528566*X0*X10*exp_polar(I*pi))) - 2.52670879971031*re((X0*X11)**1.39315756382535*hyper((1.0, 1.0), (1.37252176846869,), 1.49201432235396*X0*X11*exp_polar(I*pi))) - 1.55511322639227*re((X0*X12)**1.39821026243027*hyper((1.0, 1.0), (1.38169295428245,), 1.48554493192418*X0*X12*exp_polar(I*pi))) - 1.72367608059092*re((X0*X13)**1.39509154098125*hyper((1.0, 1.0), (1.37581099871803,), 1.49054082767167*X0*X13*exp_polar(I*pi))) - 5.07119588070366*re((X0*X14)**1.39464380102263*hyper((1.0, 1.0), (1.37512907150905,), 1.4902288499103*X0*X14*exp_polar(I*pi))) + 0.682625192891451*re((X0*X15)**1.39663769665304*hyper((1.0, 1.0), (1.37956719634208,), 1.48591335066894*X0*X15*exp_polar(I*pi))) - 1.1112942133264*re((X0*X16)**1.39381860567587*hyper((1.0, 1.0), (1.37391999639325,), 1.49206415433985*X0*X16*exp_polar(I*pi))) + 0.67444798821742*re((X0*X17)**1.39057831135809*hyper((1.0, 1.0), (1.36658917584186,), 1.49765089905547*X0*X17*exp_polar(I*pi))) - 0.446378971586203*re((X0*X18)**1.3938908668922*hyper((1.0, 1.0), (1.37377886798325,), 1.49181431192624*X0*X18*exp_polar(I*pi))) + 1.38853816817386*re((X0*X19)**1.39343485840949*hyper((1.0, 1.0), (1.37339725852808,), 1.49171822826751*X0*X19*exp_polar(I*pi))) + 2.16082574828128*re((X0*X2)**1.39353499134863*hyper((1.0, 1.0), (1.37321527015412,), 1.49215322440757*X0*X2*exp_polar(I*pi))) + 0.912039958340167*re((X0*X3)**1.39708381455667*hyper((1.0, 1.0), (1.37953951226089,), 1.48634018080852*X0*X3*exp_polar(I*pi))) + 0.394968626979666*re((X0*X4)**1.39901486688051*hyper((1.0, 1.0), (1.38456495347464,), 1.48033624828548*X0*X4*exp_polar(I*pi))) + 2.05679572953953*re((X0*X5)**1.39379514343923*hyper((1.0, 1.0), (1.37371848184791,), 1.49090910963072*X0*X5*exp_polar(I*pi))) - 1.60935716674107*re((X0*X6)**1.39208900551528*hyper((1.0, 1.0), (1.37073703623361,), 1.49346556645539*X0*X6*exp_polar(I*pi))) - 0.649127042281815*re((X0*X7)**1.39905949475156*hyper((1.0, 1.0), (1.38469214696416,), 1.48133604266112*X0*X7*exp_polar(I*pi))) - 0.918684487226865*re((X0*X8)**1.39280234527704*hyper((1.0, 1.0), (1.37194413860341,), 1.49248638606961*X0*X8*exp_polar(I*pi))) - 6.87531429808793*re((X0*X9)**1.39357675390894*hyper((1.0, 1.0), (1.37302580504953,), 1.49183181111477*X0*X9*exp_polar(I*pi))) + 0.124144839095497*re((X1*X10)**1.39313319701313*hyper((1.0, 1.0), (1.37262984898058,), 1.49206608389415*X1*X10*exp_polar(I*pi))) - 1.69942456886191*re((X1*X11)**1.39354062258707*hyper((1.0, 1.0), (1.37298919326947,), 1.49182578613659*X1*X11*exp_polar(I*pi))) + 4.58576330472338*re((X1*X12)**1.39282646207326*hyper((1.0, 1.0), (1.37231044537383,), 1.49213631214637*X1*X12*exp_polar(I*pi))) + 3.23837761963682*re((X1*X13)**1.39269763407865*hyper((1.0, 1.0), (1.37205383351726,), 1.49224828353738*X1*X13*exp_polar(I*pi))) - 0.0948506497385816*re((X1*X14)**1.39313978771511*hyper((1.0, 1.0), (1.37255127851472,), 1.49195251564757*X1*X14*exp_polar(I*pi))) + 2.46253450621909*re((X1*X15)**1.39327188096856*hyper((1.0, 1.0), (1.37277398898207,), 1.49204027902679*X1*X15*exp_polar(I*pi))) + 6.53999252951729*re((X1*X16)**1.3930719189896*hyper((1.0, 1.0), (1.37256481428381,), 1.49206367313092*X1*X16*exp_polar(I*pi))) + 1.03336807730484*re((X1*X17)**1.39359218240043*hyper((1.0, 1.0), (1.3730509317679,), 1.49185332097612*X1*X17*exp_polar(I*pi))) - 0.711601332589569*re((X1*X18)**1.39342934890013*hyper((1.0, 1.0), (1.37288868399453,), 1.49189007188043*X1*X18*exp_polar(I*pi))) - 0.922595580889181*re((X1*X19)**1.39214555097001*hyper((1.0, 1.0), (1.37084267408274,), 1.49344076490647*X1*X19*exp_polar(I*pi))) - 0.894084480736553*re((X1*X2)**1.39345624811964*hyper((1.0, 1.0), (1.37290912630211,), 1.491860210048*X1*X2*exp_polar(I*pi))) - 1.66387763550447*re((X1*X3)**1.39357389313196*hyper((1.0, 1.0), (1.37303444115221,), 1.49186792583943*X1*X3*exp_polar(I*pi))) + 2.10069347515916*re((X1*X4)**1.39263133504522*hyper((1.0, 1.0), (1.37188249042503,), 1.49239613316127*X1*X4*exp_polar(I*pi))) - 2.62167601859589*re((X1*X5)**1.39356679543692*hyper((1.0, 1.0), (1.37301028830474,), 1.49181426974553*X1*X5*exp_polar(I*pi))) - 1.12103277782643*re((X1*X6)**1.39354139089501*hyper((1.0, 1.0), (1.37299112667671,), 1.49183256816873*X1*X6*exp_polar(I*pi))) + 4.96660993277683*re((X1*X7)**1.39301957127154*hyper((1.0, 1.0), (1.37253826799212,), 1.49215939367664*X1*X7*exp_polar(I*pi))) - 2.07742233519383*re((X1*X8)**1.39358218408123*hyper((1.0, 1.0), (1.37303242174043,), 1.49182749374748*X1*X8*exp_polar(I*pi))) - 1.31070204162863*re((X1*X9)**1.39351215875992*hyper((1.0, 1.0), (1.37296285662234,), 1.49184104085325*X1*X9*exp_polar(I*pi))) - 2.61057651341529*re((X10*X11)**1.39327776228075*hyper((1.0, 1.0), (1.3728160526674,), 1.49203313605902*X10*X11*exp_polar(I*pi))) + 1.33439861407204*re((X10*X12)**1.391904975262*hyper((1.0, 1.0), (1.37032831341807,), 1.49621544140381*X10*X12*exp_polar(I*pi))) + 0.46700398599825*re((X10*X13)**1.39361005281579*hyper((1.0, 1.0), (1.37355491854702,), 1.49366856484474*X10*X13*exp_polar(I*pi))) - 1.12056209250467*re((X10*X14)**1.39310017485064*hyper((1.0, 1.0), (1.37280624757097,), 1.49255991946298*X10*X14*exp_polar(I*pi))) - 1.48176607321283*re((X10*X15)**1.39590316790469*hyper((1.0, 1.0), (1.37794900372721,), 1.4874188915002*X10*X15*exp_polar(I*pi))) + 0.120030208017759*re((X10*X16)**1.39585876744591*hyper((1.0, 1.0), (1.37780206501508,), 1.48815859131025*X10*X16*exp_polar(I*pi))) - 1.36968176488365*re((X10*X17)**1.39571202413158*hyper((1.0, 1.0), (1.37753101642013,), 1.48780475615453*X10*X17*exp_polar(I*pi))) + 3.61023854466933*re((X10*X18)**1.39324419740998*hyper((1.0, 1.0), (1.37274047179843,), 1.49200978877215*X10*X18*exp_polar(I*pi))) - 0.0509426668166503*re((X10*X19)**1.39456565820671*hyper((1.0, 1.0), (1.37627152136838,), 1.48811353495545*X10*X19*exp_polar(I*pi))) - 0.914490589699315*re((X10*X2)**1.39352942708782*hyper((1.0, 1.0), (1.37306420041071,), 1.49199000791515*X10*X2*exp_polar(I*pi))) - 1.77091679028676*re((X10*X3)**1.39350096877116*hyper((1.0, 1.0), (1.37295751200443,), 1.49186564242791*X10*X3*exp_polar(I*pi))) - 0.0307709827793529*re((X10*X4)**1.39418923572363*hyper((1.0, 1.0), (1.37472649747219,), 1.49159283250376*X10*X4*exp_polar(I*pi))) - 4.00353364442121*re((X10*X5)**1.39352880529503*hyper((1.0, 1.0), (1.37300678084057,), 1.49190626153088*X10*X5*exp_polar(I*pi))) - 5.90323107582714*re((X10*X6)**1.39338062019074*hyper((1.0, 1.0), (1.37271474403571,), 1.49181495024548*X10*X6*exp_polar(I*pi))) + 1.40610815227262*re((X10*X7)**1.40058309963728*hyper((1.0, 1.0), (1.3879199359112,), 1.47845038662728*X10*X7*exp_polar(I*pi))) + 2.8271999591622*re((X10*X8)**1.39351082142325*hyper((1.0, 1.0), (1.37302186633237,), 1.49195332981192*X10*X8*exp_polar(I*pi))) + 0.803960758686424*re((X10*X9)**1.39312139070744*hyper((1.0, 1.0), (1.37261516485193,), 1.49206372274103*X10*X9*exp_polar(I*pi))) - 1.98777861097791*re((X11*X12)**1.39291483601032*hyper((1.0, 1.0), (1.37230974347867,), 1.49192518450085*X11*X12*exp_polar(I*pi))) - 4.90975255936911*re((X11*X13)**1.39312096594152*hyper((1.0, 1.0), (1.37252008031462,), 1.49186089657925*X11*X13*exp_polar(I*pi))) + 1.54723740238135*re((X11*X14)**1.39330688731431*hyper((1.0, 1.0), (1.37276665042888,), 1.49192347570158*X11*X14*exp_polar(I*pi))) + 2.50576878584488*re((X11*X15)**1.39304291864708*hyper((1.0, 1.0), (1.37250187793645,), 1.49215611580705*X11*X15*exp_polar(I*pi))) + 5.4593397148892*re((X11*X16)**1.39289003973036*hyper((1.0, 1.0), (1.37233604572867,), 1.49207302508972*X11*X16*exp_polar(I*pi))) + 3.786767349868*re((X11*X17)**1.39351801295572*hyper((1.0, 1.0), (1.37298094156906,), 1.49193827738237*X11*X17*exp_polar(I*pi))) + 0.748750965848977*re((X11*X18)**1.39339524767439*hyper((1.0, 1.0), (1.37285623001924,), 1.49190170069883*X11*X18*exp_polar(I*pi))) - 0.122391955411399*re((X11*X19)**1.39322659193111*hyper((1.0, 1.0), (1.37270445524447,), 1.49195639008182*X11*X19*exp_polar(I*pi))) - 3.42240566887272*re((X11*X2)**1.39357114428752*hyper((1.0, 1.0), (1.37302000743077,), 1.49182100994433*X11*X2*exp_polar(I*pi))) - 1.71276503619585*re((X11*X3)**1.39358024988753*hyper((1.0, 1.0), (1.37303395097263,), 1.49184426727674*X11*X3*exp_polar(I*pi))) + 0.146362952401508*re((X11*X4)**1.39311727177772*hyper((1.0, 1.0), (1.37255072238519,), 1.49195447893269*X11*X4*exp_polar(I*pi))) - 4.58255807484222*re((X11*X5)**1.39358667188431*hyper((1.0, 1.0), (1.37298313386356,), 1.49171164183204*X11*X5*exp_polar(I*pi))) - 1.34138584031652*re((X11*X6)**1.39358909639708*hyper((1.0, 1.0), (1.37303632234826,), 1.49181645019113*X11*X6*exp_polar(I*pi))) - 0.122470214026819*re((X11*X7)**1.39307380842639*hyper((1.0, 1.0), (1.37263562485652,), 1.49218139670602*X11*X7*exp_polar(I*pi))) - 0.713815915945023*re((X11*X8)**1.39351951011153*hyper((1.0, 1.0), (1.37297323623024,), 1.49185460091004*X11*X8*exp_polar(I*pi))) - 2.30180321409831*re((X11*X9)**1.39357801456176*hyper((1.0, 1.0), (1.37302762199556,), 1.49182482925598*X11*X9*exp_polar(I*pi))) + 2.1251651894811*re((X12*X13)**1.39282093549111*hyper((1.0, 1.0), (1.37257899903568,), 1.49353488540854*X12*X13*exp_polar(I*pi))) + 0.766041288814408*re((X12*X14)**1.39328542344873*hyper((1.0, 1.0), (1.37319074887416,), 1.4920110506475*X12*X14*exp_polar(I*pi))) - 4.07390171906026*re((X12*X15)**1.39414051375085*hyper((1.0, 1.0), (1.37369654216801,), 1.49320080224061*X12*X15*exp_polar(I*pi))) + 0.212932399079846*re((X12*X16)**1.39108259770741*hyper((1.0, 1.0), (1.36939874271097,), 1.4953145696993*X12*X16*exp_polar(I*pi))) - 6.59638899207816*re((X12*X17)**1.3903689766802*hyper((1.0, 1.0), (1.36631893553517,), 1.49838901822223*X12*X17*exp_polar(I*pi))) - 4.14714873375651*re((X12*X18)**1.39329631406407*hyper((1.0, 1.0), (1.37280400572002,), 1.49206093440494*X12*X18*exp_polar(I*pi))) - 0.313959927488521*re((X12*X19)**1.39248223373362*hyper((1.0, 1.0), (1.37240989718462,), 1.49293797202815*X12*X19*exp_polar(I*pi))) + 0.502870379896101*re((X12*X2)**1.39307984512467*hyper((1.0, 1.0), (1.37264204847602,), 1.4922342786597*X12*X2*exp_polar(I*pi))) - 4.24780797623146*re((X12*X3)**1.39396271883581*hyper((1.0, 1.0), (1.37351949228602,), 1.49188328430305*X12*X3*exp_polar(I*pi))) + 2.5947616388266*re((X12*X4)**1.39512347723458*hyper((1.0, 1.0), (1.37660171108405,), 1.49014093165113*X12*X4*exp_polar(I*pi))) + 1.51862732368425*re((X12*X5)**1.39368406998122*hyper((1.0, 1.0), (1.37338371659927,), 1.49180489687057*X12*X5*exp_polar(I*pi))) + 1.49937187436523*re((X12*X6)**1.39303741055664*hyper((1.0, 1.0), (1.37245975246296,), 1.49197119781919*X12*X6*exp_polar(I*pi))) - 0.0723696974769861*re((X12*X7)**1.39135652080377*hyper((1.0, 1.0), (1.36808306769709,), 1.49997325756274*X12*X7*exp_polar(I*pi))) + 0.858418694569209*re((X12*X8)**1.39314649168208*hyper((1.0, 1.0), (1.37254361725637,), 1.49209041423863*X12*X8*exp_polar(I*pi))) - 3.71206820344525*re((X12*X9)**1.39323007031325*hyper((1.0, 1.0), (1.3726958922783,), 1.49195307086617*X12*X9*exp_polar(I*pi))) + 0.588667682229057*re((X13*X14)**1.3931711971192*hyper((1.0, 1.0), (1.37289884740637,), 1.49209326533495*X13*X14*exp_polar(I*pi))) + 3.07839881280651*re((X13*X15)**1.39276733156655*hyper((1.0, 1.0), (1.37152675237841,), 1.49443620633691*X13*X15*exp_polar(I*pi))) + 0.766166262952406*re((X13*X16)**1.39307899567388*hyper((1.0, 1.0), (1.3736822822095,), 1.48997631776982*X13*X16*exp_polar(I*pi))) + 1.06900727087244*re((X13*X17)**1.39432258890187*hyper((1.0, 1.0), (1.37467370692135,), 1.48953653936683*X13*X17*exp_polar(I*pi))) + 2.06366086714449*re((X13*X18)**1.39310655254324*hyper((1.0, 1.0), (1.37266190832656,), 1.49224199258031*X13*X18*exp_polar(I*pi))) - 1.4393557000533*re((X13*X19)**1.39230572753063*hyper((1.0, 1.0), (1.37199289983659,), 1.49279408408273*X13*X19*exp_polar(I*pi))) - 1.7240105654249*re((X13*X2)**1.3928416479661*hyper((1.0, 1.0), (1.37219490736272,), 1.49235927126395*X13*X2*exp_polar(I*pi))) - 2.31190328618587*re((X13*X3)**1.39436614644276*hyper((1.0, 1.0), (1.37410342741951,), 1.49166951712542*X13*X3*exp_polar(I*pi))) + 1.90981427311428*re((X13*X4)**1.39568808574109*hyper((1.0, 1.0), (1.3777338954432,), 1.48812850811329*X13*X4*exp_polar(I*pi))) - 0.84461634445629*re((X13*X5)**1.39355974565741*hyper((1.0, 1.0), (1.37320855902652,), 1.49155540483452*X13*X5*exp_polar(I*pi))) + 2.63113624821791*re((X13*X6)**1.39281178308004*hyper((1.0, 1.0), (1.37212199458671,), 1.49217350027388*X13*X6*exp_polar(I*pi))) - 4.31949385525057*re((X13*X7)**1.39311727245817*hyper((1.0, 1.0), (1.37240646935927,), 1.49377909437249*X13*X7*exp_polar(I*pi))) + 0.739632055294301*re((X13*X8)**1.39317292065019*hyper((1.0, 1.0), (1.37259002980249,), 1.49202240640331*X13*X8*exp_polar(I*pi))) - 3.5350722844013*re((X13*X9)**1.3933262409086*hyper((1.0, 1.0), (1.37278470302341,), 1.49190707623734*X13*X9*exp_polar(I*pi))) + 2.54677028161995*re((X14*X15)**1.3939382034553*hyper((1.0, 1.0), (1.37368283489912,), 1.4921525539679*X14*X15*exp_polar(I*pi))) + 5.20683240868846*re((X14*X16)**1.39356587033533*hyper((1.0, 1.0), (1.3735686415535,), 1.49167773376215*X14*X16*exp_polar(I*pi))) - 2.16520107398823*re((X14*X17)**1.39406803465133*hyper((1.0, 1.0), (1.37406502663527,), 1.49016290290666*X14*X17*exp_polar(I*pi))) - 0.898683132860516*re((X14*X18)**1.39328920168162*hyper((1.0, 1.0), (1.37278396150567,), 1.49204132017154*X14*X18*exp_polar(I*pi))) + 8.43393049988434*re((X14*X19)**1.39280037023777*hyper((1.0, 1.0), (1.37248362103354,), 1.49254609205843*X14*X19*exp_polar(I*pi))) + 1.5098010385754*re((X14*X2)**1.39319167926327*hyper((1.0, 1.0), (1.37268770066506,), 1.4920600600599*X14*X2*exp_polar(I*pi))) - 3.14538281575448*re((X14*X3)**1.39386322772703*hyper((1.0, 1.0), (1.37338713820634,), 1.49189806717085*X14*X3*exp_polar(I*pi))) - 5.12076258291249*re((X14*X4)**1.39400847875412*hyper((1.0, 1.0), (1.37405611984884,), 1.49132360309614*X14*X4*exp_polar(I*pi))) + 5.20900425649393*re((X14*X5)**1.39384107480911*hyper((1.0, 1.0), (1.37364193148326,), 1.49153602496769*X14*X5*exp_polar(I*pi))) - 0.225327307513035*re((X14*X6)**1.39331661890327*hyper((1.0, 1.0), (1.37274963325142,), 1.49187227020185*X14*X6*exp_polar(I*pi))) + 3.58845610141352*re((X14*X7)**1.39387594344868*hyper((1.0, 1.0), (1.37423527469414,), 1.4906397952569*X14*X7*exp_polar(I*pi))) - 3.21933384212137*re((X14*X8)**1.39344950484945*hyper((1.0, 1.0), (1.37287830155317,), 1.49183857383192*X14*X8*exp_polar(I*pi))) - 2.49900556718074*re((X14*X9)**1.39345868625854*hyper((1.0, 1.0), (1.37291567981208,), 1.49187349194104*X14*X9*exp_polar(I*pi))) + 1.65417545691806*re((X15*X16)**1.39222647630628*hyper((1.0, 1.0), (1.37054748897153,), 1.49482814853366*X15*X16*exp_polar(I*pi))) + 1.68909028871669*re((X15*X17)**1.39260011328282*hyper((1.0, 1.0), (1.37090576471395,), 1.4937595968601*X15*X17*exp_polar(I*pi))) + 1.97068292787512*re((X15*X18)**1.39349360261513*hyper((1.0, 1.0), (1.37322232055384,), 1.49240099914708*X15*X18*exp_polar(I*pi))) + 0.992929679855195*re((X15*X19)**1.3934401207507*hyper((1.0, 1.0), (1.37361457637757,), 1.49126282755862*X15*X19*exp_polar(I*pi))) + 0.0494125740480397*re((X15*X2)**1.39339906773779*hyper((1.0, 1.0), (1.37302678738662,), 1.49210852343065*X15*X2*exp_polar(I*pi))) + 1.42621301180517*re((X15*X3)**1.39704725191793*hyper((1.0, 1.0), (1.37951407430994,), 1.48638324128904*X15*X3*exp_polar(I*pi))) - 0.523113236945394*re((X15*X4)**1.39917922479915*hyper((1.0, 1.0), (1.38539695660094,), 1.47864070588352*X15*X4*exp_polar(I*pi))) - 2.77740030777666*re((X15*X5)**1.39312583701353*hyper((1.0, 1.0), (1.37223281125023,), 1.4924323829571*X15*X5*exp_polar(I*pi))) + 3.3916964481812*re((X15*X6)**1.39222507990151*hyper((1.0, 1.0), (1.37094985296553,), 1.493419021334*X15*X6*exp_polar(I*pi))) - 0.358450162176772*re((X15*X7)**1.3981154460044*hyper((1.0, 1.0), (1.38268880369604,), 1.48313024564998*X15*X7*exp_polar(I*pi))) + 0.701852139568118*re((X15*X8)**1.39282873500796*hyper((1.0, 1.0), (1.37198988254184,), 1.49249795422204*X15*X8*exp_polar(I*pi))) - 4.28045916392962*re((X15*X9)**1.3934809590921*hyper((1.0, 1.0), (1.37293517525946,), 1.49186930239933*X15*X9*exp_polar(I*pi))) + 1.55089246550225*re((X16*X17)**1.390239090409*hyper((1.0, 1.0), (1.36589025325486,), 1.5002845920014*X16*X17*exp_polar(I*pi))) - 3.38332615506232*re((X16*X18)**1.39375366310332*hyper((1.0, 1.0), (1.37349536631614,), 1.49157975474795*X16*X18*exp_polar(I*pi))) - 2.22816825647152*re((X16*X19)**1.39370242686959*hyper((1.0, 1.0), (1.37437272546461,), 1.49055667625604*X16*X19*exp_polar(I*pi))) - 0.375701184872446*re((X16*X2)**1.39284057279792*hyper((1.0, 1.0), (1.3717770723189,), 1.49284631864472*X16*X2*exp_polar(I*pi))) - 0.228668411625109*re((X16*X3)**1.39366150960994*hyper((1.0, 1.0), (1.37317859376503,), 1.49189354027793*X16*X3*exp_polar(I*pi))) - 7.09277933011788*re((X16*X4)**1.39259794888687*hyper((1.0, 1.0), (1.37303712889629,), 1.49034031580065*X16*X4*exp_polar(I*pi))) + 1.98829432481988*re((X16*X5)**1.39419987893426*hyper((1.0, 1.0), (1.37450486798742,), 1.49058527740338*X16*X5*exp_polar(I*pi))) - 3.11229525603487*re((X16*X6)**1.39317642187028*hyper((1.0, 1.0), (1.37257149666322,), 1.49175508336531*X16*X6*exp_polar(I*pi))) + 2.67810970228388*re((X16*X7)**1.38908221992056*hyper((1.0, 1.0), (1.36401136414518,), 1.50368076757937*X16*X7*exp_polar(I*pi))) + 2.15810606965646*re((X16*X8)**1.39338718902972*hyper((1.0, 1.0), (1.37287229096002,), 1.49195853849758*X16*X8*exp_polar(I*pi))) - 0.0387883716625246*re((X16*X9)**1.39326345562167*hyper((1.0, 1.0), (1.37272859874754,), 1.49193829436397*X16*X9*exp_polar(I*pi))) - 0.490914562342516*re((X17*X18)**1.39365027774381*hyper((1.0, 1.0), (1.37318107979689,), 1.4919600621079*X17*X18*exp_polar(I*pi))) + 3.99168946584312*re((X17*X19)**1.39525016894072*hyper((1.0, 1.0), (1.37671083262848,), 1.48810402005937*X17*X19*exp_polar(I*pi))) + 0.56650204796928*re((X17*X2)**1.39349871108691*hyper((1.0, 1.0), (1.37300867966644,), 1.49197686902374*X17*X2*exp_polar(I*pi))) - 14.2505730709197*re((X17*X3)**1.39418409262238*hyper((1.0, 1.0), (1.3735794239328,), 1.49152810799102*X17*X3*exp_polar(I*pi))) + 1.20809789847522*re((X17*X4)**1.39530458779692*hyper((1.0, 1.0), (1.37697670789484,), 1.48703594523623*X17*X4*exp_polar(I*pi))) - 1.95480613988063*re((X17*X5)**1.39352160888921*hyper((1.0, 1.0), (1.37309124829351,), 1.4915845926814*X17*X5*exp_polar(I*pi))) - 5.84496799420883*re((X17*X6)**1.39329407663994*hyper((1.0, 1.0), (1.37259635126472,), 1.49204592851656*X17*X6*exp_polar(I*pi))) + 1.56936890315159*re((X17*X7)**1.39000787559432*hyper((1.0, 1.0), (1.36534975182769,), 1.4987877629648*X17*X7*exp_polar(I*pi))) - 2.51888957022892*re((X17*X8)**1.39340540242255*hyper((1.0, 1.0), (1.37280126135136,), 1.49185993533136*X17*X8*exp_polar(I*pi))) - 3.37595292395956*re((X17*X9)**1.39370934484935*hyper((1.0, 1.0), (1.37314392833964,), 1.49175796953816*X17*X9*exp_polar(I*pi))) + 3.00412512280782*re((X18*X19)**1.39298479333238*hyper((1.0, 1.0), (1.37248328912932,), 1.4921144247128*X18*X19*exp_polar(I*pi))) - 1.60420237394374*re((X18*X2)**1.39346683957978*hyper((1.0, 1.0), (1.37292759084248,), 1.4918839380705*X18*X2*exp_polar(I*pi))) + 4.0365941475552*re((X18*X3)**1.3935304615194*hyper((1.0, 1.0), (1.37308352256423,), 1.49202643426653*X18*X3*exp_polar(I*pi))) - 0.326969832721292*re((X18*X4)**1.39335157953808*hyper((1.0, 1.0), (1.37299025305779,), 1.49227624899476*X18*X4*exp_polar(I*pi))) - 1.46226723200713*re((X18*X5)**1.39340025900336*hyper((1.0, 1.0), (1.37287136725719,), 1.49193348211351*X18*X5*exp_polar(I*pi))) - 1.20252223102296*re((X18*X6)**1.39348596256599*hyper((1.0, 1.0), (1.37294391583513,), 1.49187510792348*X18*X6*exp_polar(I*pi))) + 2.66775786641125*re((X18*X7)**1.39364110835849*hyper((1.0, 1.0), (1.37342482688392,), 1.4916979774192*X18*X7*exp_polar(I*pi))) - 1.81923601166942*re((X18*X8)**1.39351433391664*hyper((1.0, 1.0), (1.37295035136234,), 1.4918304130522*X18*X8*exp_polar(I*pi))) - 1.55502328319716*re((X18*X9)**1.39347448531083*hyper((1.0, 1.0), (1.37293191145997,), 1.49187573053491*X18*X9*exp_polar(I*pi))) - 0.817275223604167*re((X19*X2)**1.3932035768128*hyper((1.0, 1.0), (1.3727112938956,), 1.49206125141914*X19*X2*exp_polar(I*pi))) + 3.787400817334*re((X19*X3)**1.39368097767378*hyper((1.0, 1.0), (1.37329040910743,), 1.49200377301364*X19*X3*exp_polar(I*pi))) - 6.75199047435979*re((X19*X4)**1.39273803993461*hyper((1.0, 1.0), (1.37249072161603,), 1.49239691946111*X19*X4*exp_polar(I*pi))) + 1.30532165644947*re((X19*X5)**1.39319316039631*hyper((1.0, 1.0), (1.37268915559334,), 1.49209301484851*X19*X5*exp_polar(I*pi))) - 0.35775088028219*re((X19*X6)**1.3933284800969*hyper((1.0, 1.0), (1.37277636159248,), 1.49188292196316*X19*X6*exp_polar(I*pi))) - 2.11373239136981*re((X19*X7)**1.39415177478594*hyper((1.0, 1.0), (1.375149761501,), 1.49072511239321*X19*X7*exp_polar(I*pi))) + 2.15325331126835*re((X19*X8)**1.3932845017145*hyper((1.0, 1.0), (1.37274357896875,), 1.49197964246163*X19*X8*exp_polar(I*pi))) - 2.28235074610797*re((X19*X9)**1.39325893435503*hyper((1.0, 1.0), (1.37272583243859,), 1.49194523330157*X19*X9*exp_polar(I*pi))) - 1.83763386939358*re((X2*X3)**1.39356804812732*hyper((1.0, 1.0), (1.37302538045203,), 1.49185829920618*X2*X3*exp_polar(I*pi))) - 1.45815552453374*re((X2*X4)**1.39326207124765*hyper((1.0, 1.0), (1.37278415674149,), 1.49217681139112*X2*X4*exp_polar(I*pi))) - 2.9169927900803*re((X2*X5)**1.39350156247481*hyper((1.0, 1.0), (1.37295445782921,), 1.49185883817138*X2*X5*exp_polar(I*pi))) - 1.57451129023444*re((X2*X6)**1.39350789005309*hyper((1.0, 1.0), (1.37293904881062,), 1.49182485500692*X2*X6*exp_polar(I*pi))) + 1.88275585415047*re((X2*X7)**1.39299293985464*hyper((1.0, 1.0), (1.37250814340372,), 1.49220625045839*X2*X7*exp_polar(I*pi))) - 1.64086760760387*re((X2*X8)**1.39350747873392*hyper((1.0, 1.0), (1.37295111089138,), 1.4918321742885*X2*X8*exp_polar(I*pi))) - 2.37889676307414*re((X2*X9)**1.39352907117017*hyper((1.0, 1.0), (1.37298112766615,), 1.49184430653021*X2*X9*exp_polar(I*pi))) - 5.73828248574919*re((X3*X4)**1.39442480155038*hyper((1.0, 1.0), (1.37410613008223,), 1.49168967601386*X3*X4*exp_polar(I*pi))) - 2.47615446543428*re((X3*X5)**1.39369374736258*hyper((1.0, 1.0), (1.37317159123225,), 1.4918816470437*X3*X5*exp_polar(I*pi))) - 0.446242047943419*re((X3*X6)**1.39355208750736*hyper((1.0, 1.0), (1.37302412519612,), 1.49190187381357*X3*X6*exp_polar(I*pi))) - 3.95279055476782*re((X3*X7)**1.39386190361319*hyper((1.0, 1.0), (1.37330336132893,), 1.49173328515199*X3*X7*exp_polar(I*pi))) - 1.55818131201174*re((X3*X8)**1.39357406995113*hyper((1.0, 1.0), (1.37302554088442,), 1.49183588709473*X3*X8*exp_polar(I*pi))) - 2.1846069375995*re((X3*X9)**1.39359241477561*hyper((1.0, 1.0), (1.37305124187774,), 1.49186068242563*X3*X9*exp_polar(I*pi))) + 2.35771392805252*re((X4*X5)**1.39373910073333*hyper((1.0, 1.0), (1.37345417372341,), 1.49168832196021*X4*X5*exp_polar(I*pi))) + 3.21765720639257*re((X4*X6)**1.39308436838049*hyper((1.0, 1.0), (1.37249872922416,), 1.49196313226048*X4*X6*exp_polar(I*pi))) - 0.010204150085623*re((X4*X7)**1.39500462218614*hyper((1.0, 1.0), (1.3769779594296,), 1.48839405851732*X4*X7*exp_polar(I*pi))) + 1.82943216016255*re((X4*X8)**1.39316996835098*hyper((1.0, 1.0), (1.37262661156589,), 1.49199331306003*X4*X8*exp_polar(I*pi))) - 5.9491459983492*re((X4*X9)**1.39345637210012*hyper((1.0, 1.0), (1.37290136536025,), 1.49183269394442*X4*X9*exp_polar(I*pi))) - 3.16953508736629*re((X5*X6)**1.39335314307407*hyper((1.0, 1.0), (1.37272927247646,), 1.49180853375897*X5*X6*exp_polar(I*pi))) + 1.53182199511575*re((X5*X7)**1.39510079867579*hyper((1.0, 1.0), (1.37584195667339,), 1.48958289229166*X5*X7*exp_polar(I*pi))) - 2.12737855501224*re((X5*X8)**1.39355890962109*hyper((1.0, 1.0), (1.37300362608099,), 1.49182022479244*X5*X8*exp_polar(I*pi))) - 2.90936741784461*re((X5*X9)**1.39361933735715*hyper((1.0, 1.0), (1.37306845749744,), 1.49181891873072*X5*X9*exp_polar(I*pi))) + 0.743790118873184*re((X6*X7)**1.39272150127827*hyper((1.0, 1.0), (1.37201092520566,), 1.49246661316599*X6*X7*exp_polar(I*pi))) - 1.62432468720956*re((X6*X8)**1.39358914204065*hyper((1.0, 1.0), (1.37303903967596,), 1.49182534057655*X6*X8*exp_polar(I*pi))) - 1.89346170484646*re((X6*X9)**1.39358153289894*hyper((1.0, 1.0), (1.37303007600295,), 1.49182174426641*X6*X9*exp_polar(I*pi))) - 0.171061323171637*re((X7*X8)**1.39305248756324*hyper((1.0, 1.0), (1.37226741955156,), 1.49244091907771*X7*X8*exp_polar(I*pi))) - 5.56814262500566*re((X7*X9)**1.39336136164918*hyper((1.0, 1.0), (1.37282130771326,), 1.49191289494358*X7*X9*exp_polar(I*pi))) - 2.15848506073844*re((X8*X9)**1.39359121472576*hyper((1.0, 1.0), (1.37304067348881,), 1.49182358083012*X8*X9*exp_polar(I*pi)))) + 1)"
      ]
     },
     "execution_count": 23,
     "metadata": {},
     "output_type": "execute_result"
    }
   ],
   "source": [
    "metamodel.exact_expression"
   ]
  },
  {
   "cell_type": "markdown",
   "metadata": {
    "collapsed": true
   },
   "source": [
    "Because this equation involves Hypergeometric functions, we might prefer to work with the polynomial approximation..."
   ]
  },
  {
   "cell_type": "code",
   "execution_count": 24,
   "metadata": {},
   "outputs": [
    {
     "data": {
      "text/latex": [
       "$\\displaystyle \\frac{1}{14.0210932200166 e^{0.413545642799709 X_{0}^{3} X_{1}^{3} - 0.0315907375334982 X_{0}^{3} X_{10}^{3} + 0.129776439375461 X_{0}^{3} X_{11}^{3} + 0.0862613201190399 X_{0}^{3} X_{12}^{3} + 0.0910453552843781 X_{0}^{3} X_{13}^{3} + 0.266506600332646 X_{0}^{3} X_{14}^{3} - 0.0371569174525707 X_{0}^{3} X_{15}^{3} + 0.0576116635312745 X_{0}^{3} X_{16}^{3} - 0.0329705346357533 X_{0}^{3} X_{17}^{3} + 0.0231597390886027 X_{0}^{3} X_{18}^{3} - 0.0716853999945646 X_{0}^{3} X_{19}^{3} - 0.111527925241405 X_{0}^{3} X_{2}^{3} - 0.0498016579566518 X_{0}^{3} X_{3}^{3} - 0.0223826827035112 X_{0}^{3} X_{4}^{3} - 0.106776127543977 X_{0}^{3} X_{5}^{3} + 0.0812699116491364 X_{0}^{3} X_{6}^{3} + 0.0367488320721435 X_{0}^{3} X_{7}^{3} + 0.0469243779038286 X_{0}^{3} X_{8}^{3} + 0.355050534893921 X_{0}^{3} X_{9}^{3} - 0.000867702244736045 X_{0}^{3} - 0.183826404895062 X_{0}^{2} X_{1}^{2} + 0.0169667566905229 X_{0}^{2} X_{10}^{2} - 0.0561439782289651 X_{0}^{2} X_{11}^{2} - 0.0519069222561799 X_{0}^{2} X_{12}^{2} - 0.0451731031795968 X_{0}^{2} X_{13}^{2} - 0.129061436698867 X_{0}^{2} X_{14}^{2} + 0.0208178714152486 X_{0}^{2} X_{15}^{2} - 0.0261763967668976 X_{0}^{2} X_{16}^{2} + 0.0105312274657035 X_{0}^{2} X_{17}^{2} - 0.0105610459420204 X_{0}^{2} X_{18}^{2} + 0.0318554783134946 X_{0}^{2} X_{19}^{2} + 0.0495363104049435 X_{0}^{2} X_{2}^{2} + 0.0282696300879839 X_{0}^{2} X_{3}^{2} + 0.0144208776706692 X_{0}^{2} X_{4}^{2} + 0.0487535757453865 X_{0}^{2} X_{5}^{2} - 0.0320115136254991 X_{0}^{2} X_{6}^{2} - 0.0236257463936693 X_{0}^{2} X_{7}^{2} - 0.0197087635367942 X_{0}^{2} X_{8}^{2} - 0.158046998267003 X_{0}^{2} X_{9}^{2} - 0.018418685945001 X_{0}^{2} - 4.47267172333113 X_{0} X_{1} + 0.326492437992949 X_{0} X_{10} - 1.41165413363637 X_{0} X_{11} - 0.862668050744347 X_{0} X_{12} - 0.960334277631636 X_{0} X_{13} - 2.82732831964865 X_{0} X_{14} + 0.37956426839611 X_{0} X_{15} - 0.620266491463633 X_{0} X_{16} + 0.378087533017261 X_{0} X_{17} - 0.249121026543303 X_{0} X_{18} + 0.775470970040346 X_{0} X_{19} + 1.20655361998011 X_{0} X_{2} + 0.506764904981373 X_{0} X_{3} + 0.218912810012266 X_{0} X_{4} + 1.14811695715632 X_{0} X_{5} - 0.900473562556255 X_{0} X_{6} - 0.359735268244029 X_{0} X_{7} - 0.513517002119819 X_{0} X_{8} - 3.83882720719392 X_{0} X_{9} + 0.0014310875504261 X_{0} - 0.00637581929548466 X_{1}^{3} X_{10}^{3} + 0.0877244392727457 X_{1}^{3} X_{11}^{3} - 0.234630161556573 X_{1}^{3} X_{12}^{3} - 0.165357412555455 X_{1}^{3} X_{13}^{3} + 0.00487175669419107 X_{1}^{3} X_{14}^{3} - 0.126683983638162 X_{1}^{3} X_{15}^{3} - 0.335637240659685 X_{1}^{3} X_{16}^{3} - 0.0533732505363754 X_{1}^{3} X_{17}^{3} + 0.036681870908462 X_{1}^{3} X_{18}^{3} + 0.0466285483767144 X_{1}^{3} X_{19}^{3} + 0.0461048620187727 X_{1}^{3} X_{2}^{3} + 0.0859187090039003 X_{1}^{3} X_{3}^{3} - 0.107126492794558 X_{1}^{3} X_{4}^{3} + 0.135373712960253 X_{1}^{3} X_{5}^{3} + 0.0578677751527144 X_{1}^{3} X_{6}^{3} - 0.254704347352084 X_{1}^{3} X_{7}^{3} + 0.107288816101776 X_{1}^{3} X_{8}^{3} + 0.0676345467891645 X_{1}^{3} X_{9}^{3} - 4.76158121250693 \\cdot 10^{-5} X_{1}^{3} + 0.00275745599322086 X_{1}^{2} X_{10}^{2} - 0.038964952544555 X_{1}^{2} X_{11}^{2} + 0.099417221538349 X_{1}^{2} X_{12}^{2} + 0.0692967235774267 X_{1}^{2} X_{13}^{2} - 0.00210748937316405 X_{1}^{2} X_{14}^{2} + 0.0552858260477878 X_{1}^{2} X_{15}^{2} + 0.144588865605499 X_{1}^{2} X_{16}^{2} + 0.0237798450007527 X_{1}^{2} X_{17}^{2} - 0.0161761944457655 X_{1}^{2} X_{18}^{2} - 0.018458156192803 X_{1}^{2} X_{19}^{2} - 0.0203684324240519 X_{1}^{2} X_{2}^{2} - 0.0382340449705072 X_{1}^{2} X_{3}^{2} + 0.0445809626170667 X_{1}^{2} X_{4}^{2} - 0.0602274389870847 X_{1}^{2} X_{5}^{2} - 0.0257036472792934 X_{1}^{2} X_{6}^{2} + 0.109309728048922 X_{1}^{2} X_{7}^{2} - 0.0477765324793734 X_{1}^{2} X_{8}^{2} - 0.029986475261322 X_{1}^{2} X_{9}^{2} - 8.37092048481648 \\cdot 10^{-5} X_{1}^{2} + 0.0693613840641245 X_{1} X_{10} - 0.948924429026377 X_{1} X_{11} + 2.56329359813223 X_{1} X_{12} + 1.81047854353998 X_{1} X_{13} - 0.0529940737177497 X_{1} X_{14} + 1.37556725948103 X_{1} X_{15} + 3.65431749944823 X_{1} X_{16} + 0.57696636218852 X_{1} X_{17} - 0.397408685287474 X_{1} X_{18} - 0.516172025408988 X_{1} X_{19} - 0.499300944337407 X_{1} X_{2} - 0.929027081975789 X_{1} X_{3} + 1.17453586645116 X_{1} X_{4} - 1.46383441493007 X_{1} X_{5} - 0.625961131784979 X_{1} X_{6} + 2.77536925950076 X_{1} X_{7} - 1.1599182951609 X_{1} X_{8} - 0.731900200893576 X_{1} X_{9} + 1.49145663353821 \\cdot 10^{-5} X_{1} + 0.134321996974788 X_{10}^{3} X_{11}^{3} - 0.066862209477115 X_{10}^{3} X_{12}^{3} - 0.0240739411311954 X_{10}^{3} X_{13}^{3} + 0.0575037679679053 X_{10}^{3} X_{14}^{3} + 0.0796459305761574 X_{10}^{3} X_{15}^{3} - 0.00643885852056177 X_{10}^{3} X_{16}^{3} + 0.0733793586050045 X_{10}^{3} X_{17}^{3} - 0.185674561963567 X_{10}^{3} X_{18}^{3} + 0.00269202959292192 X_{10}^{3} X_{19}^{3} + 0.0471952624780576 X_{10}^{3} X_{2}^{3} + 0.0913676853214683 X_{10}^{3} X_{3}^{3} + 0.00160500161998625 X_{10}^{3} X_{4}^{3} + 0.206618235151396 X_{10}^{3} X_{5}^{3} + 0.304082760492517 X_{10}^{3} X_{6}^{3} - 0.0815257709813855 X_{10}^{3} X_{7}^{3} - 0.145876884063866 X_{10}^{3} X_{8}^{3} - 0.0412839235968492 X_{10}^{3} X_{9}^{3} - 0.0586699000397275 X_{10}^{2} X_{11}^{2} + 0.0252563166664805 X_{10}^{2} X_{12}^{2} + 0.0106543205436505 X_{10}^{2} X_{13}^{2} - 0.0247864021166481 X_{10}^{2} X_{14}^{2} - 0.0424691168820038 X_{10}^{2} X_{15}^{2} + 0.0034082952936645 X_{10}^{2} X_{16}^{2} - 0.0386054592060223 X_{10}^{2} X_{17}^{2} + 0.0809021071835769 X_{10}^{2} X_{18}^{2} - 0.00133306304519391 X_{10}^{2} X_{19}^{2} - 0.0209443409233584 X_{10}^{2} X_{2}^{2} - 0.0404763196651477 X_{10}^{2} X_{3}^{2} - 0.000751318590728208 X_{10}^{2} X_{4}^{2} - 0.0916849966765403 X_{10}^{2} X_{5}^{2} - 0.13356539027454 X_{10}^{2} X_{6}^{2} + 0.0563970382055797 X_{10}^{2} X_{7}^{2} + 0.0646628933097492 X_{10}^{2} X_{8}^{2} + 0.0178410344302857 X_{10}^{2} X_{9}^{2} - 1.45825248431367 X_{10} X_{11} + 0.746693130511397 X_{10} X_{12} + 0.260710721941951 X_{10} X_{13} - 0.626087488501855 X_{10} X_{14} - 0.824736121676442 X_{10} X_{15} + 0.0668087961417838 X_{10} X_{16} - 0.762548507283455 X_{10} X_{17} + 2.01676008826005 X_{10} X_{18} - 0.0284099967650409 X_{10} X_{19} - 0.510637438427158 X_{10} X_{2} - 0.988900775052204 X_{10} X_{3} - 0.0171659117410768 X_{10} X_{4} - 2.23552225624315 X_{10} X_{5} - 3.2970293048446 X_{10} X_{6} + 0.777591198571748 X_{10} X_{7} + 1.57871169842782 X_{10} X_{8} + 0.449191631611385 X_{10} X_{9} + 0.101828533062878 X_{11}^{3} X_{12}^{3} + 0.252155416345447 X_{11}^{3} X_{13}^{3} - 0.0796386178679756 X_{11}^{3} X_{14}^{3} - 0.128522672682213 X_{11}^{3} X_{15}^{3} - 0.279543650691844 X_{11}^{3} X_{16}^{3} - 0.19538863135543 X_{11}^{3} X_{17}^{3} - 0.0385808234559854 X_{11}^{3} X_{18}^{3} + 0.00629365918307647 X_{11}^{3} X_{19}^{3} + 0.1767294370689 X_{11}^{3} X_{2}^{3} + 0.0884520722209362 X_{11}^{3} X_{3}^{3} - 0.0075159152689564 X_{11}^{3} X_{4}^{3} + 0.23669957554431 X_{11}^{3} X_{5}^{3} + 0.0692825741376905 X_{11}^{3} X_{6}^{3} + 0.00628505809183584 X_{11}^{3} X_{7}^{3} + 0.0368366856290982 X_{11}^{3} X_{8}^{3} + 0.118871618063438 X_{11}^{3} X_{9}^{3} - 0.00277230955005472 X_{11}^{3} - 0.0434194693186673 X_{11}^{2} X_{12}^{2} - 0.109011271318975 X_{11}^{2} X_{13}^{2} + 0.0348443563099284 X_{11}^{2} X_{14}^{2} + 0.0552000774428339 X_{11}^{2} X_{15}^{2} + 0.118942389554644 X_{11}^{2} X_{16}^{2} + 0.0866081396517612 X_{11}^{2} X_{17}^{2} + 0.0169765401744925 X_{11}^{2} X_{18}^{2} - 0.00273974328338991 X_{11}^{2} X_{19}^{2} - 0.0786484642021146 X_{11}^{2} X_{2}^{2} - 0.0393804284139409 X_{11}^{2} X_{3}^{2} + 0.0032475177740504 X_{11}^{2} X_{4}^{2} - 0.105456703858139 X_{11}^{2} X_{5}^{2} - 0.0308665127674979 X_{11}^{2} X_{6}^{2} - 0.0027076937400418 X_{11}^{2} X_{7}^{2} - 0.0163382258997882 X_{11}^{2} X_{8}^{2} - 0.0529216281030097 X_{11}^{2} X_{9}^{2} - 0.00656513054859386 X_{11}^{2} - 1.11096943872984 X_{11} X_{12} - 2.74322422298627 X_{11} X_{13} + 0.864244147398473 X_{11} X_{14} + 1.40018653646781 X_{11} X_{15} + 3.05131317685472 X_{11} X_{16} + 2.11451173054375 X_{11} X_{17} + 0.418176785433885 X_{11} X_{18} - 0.0683728963958034 X_{11} X_{19} - 1.9109153759906 X_{11} X_{2} - 0.95631555518684 X_{11} X_{3} + 0.081777349167731 X_{11} X_{4} - 2.55864651136778 X_{11} X_{5} - 0.748948728102128 X_{11} X_{6} - 0.0684314518691424 X_{11} X_{7} - 0.398592366416509 X_{11} X_{8} - 1.28520847591431 X_{11} X_{9} + 0.00121669781901744 X_{11} - 0.108520395676625 X_{12}^{3} X_{13}^{3} - 0.039453192026052 X_{12}^{3} X_{14}^{3} + 0.211300352729612 X_{12}^{3} X_{15}^{3} - 0.0105783641226339 X_{12}^{3} X_{16}^{3} + 0.321130831355805 X_{12}^{3} X_{17}^{3} + 0.213404083890689 X_{12}^{3} X_{18}^{3} + 0.0159915872463925 X_{12}^{3} X_{19}^{3} - 0.0258062367836623 X_{12}^{3} X_{2}^{3} + 0.220383383692999 X_{12}^{3} X_{3}^{3} - 0.137431748385732 X_{12}^{3} X_{4}^{3} - 0.0785705264416022 X_{12}^{3} X_{5}^{3} - 0.0769180784394853 X_{12}^{3} X_{6}^{3} + 0.003562596393378 X_{12}^{3} X_{7}^{3} - 0.0440815150762047 X_{12}^{3} X_{8}^{3} + 0.190886260682876 X_{12}^{3} X_{9}^{3} - 2.78236740060084 \\cdot 10^{-20} X_{12}^{3} + 0.0456113220925116 X_{12}^{2} X_{13}^{2} + 0.0173209519956335 X_{12}^{2} X_{14}^{2} - 0.0964434504625382 X_{12}^{2} X_{15}^{2} + 0.00377026369729621 X_{12}^{2} X_{16}^{2} - 0.0995295549575499 X_{12}^{2} X_{17}^{2} - 0.0932654914521946 X_{12}^{2} X_{18}^{2} - 0.0066176443078252 X_{12}^{2} X_{19}^{2} + 0.0111174458991824 X_{12}^{2} X_{2}^{2} - 0.100490096226818 X_{12}^{2} X_{3}^{2} + 0.0690016207489159 X_{12}^{2} X_{4}^{2} + 0.0353147175022292 X_{12}^{2} X_{5}^{2} + 0.0330572167772206 X_{12}^{2} X_{6}^{2} - 0.00120582409342586 X_{12}^{2} X_{7}^{2} + 0.0190536591693469 X_{12}^{2} X_{8}^{2} - 0.0831042757582426 X_{12}^{2} X_{9}^{2} - 7.60890581218066 \\cdot 10^{-20} X_{12}^{2} + 1.18780904089464 X_{12} X_{13} + 0.42790602854843 X_{12} X_{14} - 2.27253952831725 X_{12} X_{15} + 0.119304289152013 X_{12} X_{16} - 3.69881904943352 X_{12} X_{17} - 2.3165019786252 X_{12} X_{18} - 0.175576951125657 X_{12} X_{19} + 0.280980324662311 X_{12} X_{2} - 2.37038487809372 X_{12} X_{3} + 1.4456491463683 X_{12} X_{4} + 0.847795078913952 X_{12} X_{5} + 0.837843005666934 X_{12} X_{6} - 0.0405171680364933 X_{12} X_{7} + 0.479598403208056 X_{12} X_{8} - 2.07369431586106 X_{12} X_{9} + 9.95202595267355 \\cdot 10^{-21} X_{12} - 0.0302606990574912 X_{13}^{3} X_{14}^{3} - 0.156479635155748 X_{13}^{3} X_{15}^{3} - 0.0395712136254652 X_{13}^{3} X_{16}^{3} - 0.0560248651324223 X_{13}^{3} X_{17}^{3} - 0.105932786713102 X_{13}^{3} X_{18}^{3} + 0.0731388503902973 X_{13}^{3} X_{19}^{3} + 0.0881626277781755 X_{13}^{3} X_{2}^{3} + 0.120601252912978 X_{13}^{3} X_{3}^{3} - 0.102282114224722 X_{13}^{3} X_{4}^{3} + 0.0436498469553389 X_{13}^{3} X_{5}^{3} - 0.134535811141649 X_{13}^{3} X_{6}^{3} + 0.221009507088354 X_{13}^{3} X_{7}^{3} - 0.0379997578792154 X_{13}^{3} X_{8}^{3} + 0.182001510281156 X_{13}^{3} X_{9}^{3} - 1.60231585341737 \\cdot 10^{-20} X_{13}^{3} + 0.0131535607972618 X_{13}^{2} X_{14}^{2} + 0.0642032499091662 X_{13}^{2} X_{15}^{2} + 0.0175653144876373 X_{13}^{2} X_{16}^{2} + 0.0267436255461547 X_{13}^{2} X_{17}^{2} + 0.0457075434140151 X_{13}^{2} X_{18}^{2} - 0.0298448946815182 X_{13}^{2} X_{19}^{2} - 0.0372643769229476 X_{13}^{2} X_{2}^{2} - 0.0564923513428549 X_{13}^{2} X_{3}^{2} + 0.0537613309928022 X_{13}^{2} X_{4}^{2} - 0.0194963394709476 X_{13}^{2} X_{5}^{2} + 0.0568073849843678 X_{13}^{2} X_{6}^{2} - 0.093963568146181 X_{13}^{2} X_{7}^{2} + 0.0164652477251006 X_{13}^{2} X_{8}^{2} - 0.0797363672121653 X_{13}^{2} X_{9}^{2} - 4.29163239214413 \\cdot 10^{-20} X_{13}^{2} + 0.32887924038599 X_{13} X_{14} + 1.72058513869802 X_{13} X_{15} + 0.428173012452014 X_{13} X_{16} + 0.596313135581758 X_{13} X_{17} + 1.15302967934923 X_{13} X_{18} - 0.805151174126073 X_{13} X_{19} - 0.963626849166644 X_{13} X_{2} - 1.28934243899358 X_{13} X_{3} + 1.06328137417833 X_{13} X_{4} - 0.471614003815078 X_{13} X_{5} + 1.47074202748039 X_{13} X_{6} - 2.41313371682111 X_{13} X_{7} + 0.413217992908945 X_{13} X_{8} - 1.97453857978984 X_{13} X_{9} + 5.66893646795475 \\cdot 10^{-21} X_{13} - 0.132085730854844 X_{14}^{3} X_{15}^{3} - 0.269265771124863 X_{14}^{3} X_{16}^{3} + 0.112927746801629 X_{14}^{3} X_{17}^{3} + 0.0462408734899146 X_{14}^{3} X_{18}^{3} - 0.43126616035845 X_{14}^{3} X_{19}^{3} - 0.0775941936949369 X_{14}^{3} X_{2}^{3} + 0.162982891523029 X_{14}^{3} X_{3}^{3} + 0.266374130331456 X_{14}^{3} X_{4}^{3} - 0.270186548130575 X_{14}^{3} X_{5}^{3} + 0.0115996150070651 X_{14}^{3} X_{6}^{3} - 0.18673754754418 X_{14}^{3} X_{7}^{3} + 0.165994245727269 X_{14}^{3} X_{8}^{3} + 0.128866930728428 X_{14}^{3} X_{9}^{3} + 1.77455703974255 \\cdot 10^{-10} X_{14}^{3} + 0.0601542355509873 X_{14}^{2} X_{15}^{2} + 0.120707592045876 X_{14}^{2} X_{16}^{2} - 0.0527072369732464 X_{14}^{2} X_{17}^{2} - 0.0201998171466079 X_{14}^{2} X_{18}^{2} + 0.182288726378462 X_{14}^{2} X_{19}^{2} + 0.0336843831320181 X_{14}^{2} X_{2}^{2} - 0.0738434731261208 X_{14}^{2} X_{3}^{2} - 0.122961886615909 X_{14}^{2} X_{4}^{2} + 0.122969080963291 X_{14}^{2} X_{5}^{2} - 0.00507861148361348 X_{14}^{2} X_{6}^{2} + 0.0862594193070993 X_{14}^{2} X_{7}^{2} - 0.0732939679300431 X_{14}^{2} X_{8}^{2} - 0.0569371425496934 X_{14}^{2} X_{9}^{2} + 2.8654360240907 \\cdot 10^{-10} X_{14}^{2} + 1.4211972941226 X_{14} X_{15} + 2.90735113166872 X_{14} X_{16} - 1.20819427256995 X_{14} X_{17} - 0.501989568504388 X_{14} X_{18} + 4.71437879406562 X_{14} X_{19} + 0.843472366551224 X_{14} X_{2} - 1.75546282678587 X_{14} X_{3} - 2.85745981939991 X_{14} X_{4} + 2.90737250831419 X_{14} X_{5} - 0.125860110393036 X_{14} X_{6} + 2.00291458145008 X_{14} X_{7} - 1.79785462339033 X_{14} X_{8} - 1.39556200939619 X_{14} X_{9} - 4.70574415916217 \\cdot 10^{-11} X_{14} - 0.0833985981197854 X_{15}^{3} X_{16}^{3} - 0.0857039029558381 X_{15}^{3} X_{17}^{3} - 0.10163087034981 X_{15}^{3} X_{18}^{3} - 0.051331151972687 X_{15}^{3} X_{19}^{3} - 0.00254621180732919 X_{15}^{3} X_{2}^{3} - 0.0778428960004678 X_{15}^{3} X_{3}^{3} + 0.029818129101607 X_{15}^{3} X_{4}^{3} + 0.142408035457703 X_{15}^{3} X_{5}^{3} - 0.171599280712947 X_{15}^{3} X_{6}^{3} + 0.0199880839623715 X_{15}^{3} X_{7}^{3} - 0.0358610812573126 X_{15}^{3} X_{8}^{3} + 0.22078937332062 X_{15}^{3} X_{9}^{3} + 0.032629047033539 X_{15}^{2} X_{16}^{2} + 0.0347477295684178 X_{15}^{2} X_{17}^{2} + 0.0449682081273308 X_{15}^{2} X_{18}^{2} + 0.022953077259633 X_{15}^{2} X_{19}^{2} + 0.00112116403390227 X_{15}^{2} X_{2}^{2} + 0.0441119087839219 X_{15}^{2} X_{3}^{2} - 0.0195477248616328 X_{15}^{2} X_{4}^{2} - 0.0610872735486872 X_{15}^{2} X_{5}^{2} + 0.0683544634619522 X_{15}^{2} X_{6}^{2} - 0.0122206090763757 X_{15}^{2} X_{7}^{2} + 0.0150906893538952 X_{15}^{2} X_{8}^{2} - 0.0976849847038775 X_{15}^{2} X_{9}^{2} + 0.925268803032578 X_{15} X_{16} + 0.944336351057036 X_{15} X_{17} + 1.10043451500266 X_{15} X_{18} + 0.554546632082005 X_{15} X_{19} + 0.0275964760107051 X_{15} X_{2} + 0.792501490128002 X_{15} X_{3} - 0.289898773080859 X_{15} X_{4} - 1.55173447157283 X_{15} X_{5} + 1.89735828566599 X_{15} X_{6} - 0.198906485441743 X_{15} X_{7} + 0.39229863456869 X_{15} X_{8} - 2.39032985938468 X_{15} X_{9} - 0.0750534209783265 X_{16}^{3} X_{17}^{3} + 0.17527498885199 X_{16}^{3} X_{18}^{3} + 0.115815769422984 X_{16}^{3} X_{19}^{3} + 0.0191770886725146 X_{16}^{3} X_{2}^{3} + 0.01182094013087 X_{16}^{3} X_{3}^{3} + 0.363897205248492 X_{16}^{3} X_{4}^{3} - 0.103852648327868 X_{16}^{3} X_{5}^{3} + 0.159974545927584 X_{16}^{3} X_{6}^{3} - 0.126652127749452 X_{16}^{3} X_{7}^{3} - 0.111184812387452 X_{16}^{3} X_{8}^{3} + 0.00199545110746897 X_{16}^{3} X_{9}^{3} - 1.47209169516913 \\cdot 10^{-22} X_{16}^{3} + 0.0222927147726736 X_{16}^{2} X_{17}^{2} - 0.0792792147469481 X_{16}^{2} X_{18}^{2} - 0.0531793784231498 X_{16}^{2} X_{19}^{2} - 0.00803015066793651 X_{16}^{2} X_{2}^{2} - 0.00529100386341884 X_{16}^{2} X_{3}^{2} - 0.155974167705768 X_{16}^{2} X_{4}^{2} + 0.0488591768699031 X_{16}^{2} X_{5}^{2} - 0.06945691623886 X_{16}^{2} X_{6}^{2} + 0.0307647575053811 X_{16}^{2} X_{7}^{2} + 0.048892837023475 X_{16}^{2} X_{8}^{2} - 0.000870657114349901 X_{16}^{2} X_{9}^{2} - 5.12833966494074 \\cdot 10^{-22} X_{16}^{2} + 0.86968721046224 X_{16} X_{17} - 1.88862164789618 X_{16} X_{18} - 1.24400454844014 X_{16} X_{19} - 0.209987518502678 X_{16} X_{2} - 0.127660328179924 X_{16} X_{3} - 3.96655992218534 X_{16} X_{4} + 1.10923807488969 X_{16} X_{5} - 1.73879868077602 X_{16} X_{6} + 1.50399061516372 X_{16} X_{7} + 1.20531133935876 X_{16} X_{8} - 0.0216675092691125 X_{16} X_{9} + 5.93232969015657 \\cdot 10^{-23} X_{16} + 0.0253721179649623 X_{17}^{3} X_{18}^{3} - 0.212468113111032 X_{17}^{3} X_{19}^{3} - 0.0292247375456579 X_{17}^{3} X_{2}^{3} + 0.741441238844389 X_{17}^{3} X_{3}^{3} - 0.064492913032151 X_{17}^{3} X_{4}^{3} + 0.100956219605158 X_{17}^{3} X_{5}^{3} + 0.300629906045977 X_{17}^{3} X_{6}^{3} - 0.075886039477038 X_{17}^{3} X_{7}^{3} + 0.129796507820583 X_{17}^{3} X_{8}^{3} + 0.174625774143103 X_{17}^{3} X_{9}^{3} + 7.39671522391469 \\cdot 10^{-15} X_{17}^{3} - 0.011344966311605 X_{17}^{2} X_{18}^{2} + 0.108709496829393 X_{17}^{2} X_{19}^{2} + 0.0129423634942397 X_{17}^{2} X_{2}^{2} - 0.342725967278957 X_{17}^{2} X_{3}^{2} + 0.033370326647743 X_{17}^{2} X_{4}^{2} - 0.0449357277997422 X_{17}^{2} X_{5}^{2} - 0.131053414429208 X_{17}^{2} X_{6}^{2} + 0.0222857314200754 X_{17}^{2} X_{7}^{2} - 0.057122857496744 X_{17}^{2} X_{8}^{2} - 0.078390549837873 X_{17}^{2} X_{9}^{2} + 4.10901850031898 \\cdot 10^{-14} X_{17}^{2} - 0.274069879631411 X_{17} X_{18} + 2.22379806137892 X_{17} X_{19} + 0.316340652374054 X_{17} X_{2} - 7.94968465657428 X_{17} X_{3} + 0.673033751766545 X_{17} X_{4} - 1.09157614116606 X_{17} X_{5} - 3.26486084425189 X_{17} X_{6} + 0.880431177848372 X_{17} X_{7} - 1.40677761583846 X_{17} X_{8} - 1.884594058019 X_{17} X_{9} - 3.61275545625934 \\cdot 10^{-15} X_{17} - 0.154003929029024 X_{18}^{3} X_{19}^{3} + 0.0827313989228483 X_{18}^{3} X_{2}^{3} - 0.208319145586013 X_{18}^{3} X_{3}^{3} + 0.0168346255854416 X_{18}^{3} X_{4}^{3} + 0.0753479658682652 X_{18}^{3} X_{5}^{3} + 0.0620305277543556 X_{18}^{3} X_{6}^{3} - 0.138007703084182 X_{18}^{3} X_{7}^{3} + 0.0938768422617217 X_{18}^{3} X_{8}^{3} + 0.08020289012811 X_{18}^{3} X_{9}^{3} + 0.00468837521980476 X_{18}^{3} + 0.0659517713321313 X_{18}^{2} X_{19}^{2} - 0.0365702854158641 X_{18}^{2} X_{2}^{2} + 0.0924488120850239 X_{18}^{2} X_{3}^{2} - 0.00738243808923666 X_{18}^{2} X_{4}^{2} - 0.0331613880056381 X_{18}^{2} X_{5}^{2} - 0.0274529741791654 X_{18}^{2} X_{6}^{2} + 0.0619791753653637 X_{18}^{2} X_{7}^{2} - 0.0416228356904998 X_{18}^{2} X_{8}^{2} - 0.0354700814761024 X_{18}^{2} X_{9}^{2} + 0.00975044072598449 X_{18}^{2} + 1.67881338668122 X_{18} X_{19} - 0.895850422455807 X_{18} X_{2} + 2.25396418164602 X_{18} X_{3} - 0.18262077678437 X_{18} X_{4} - 0.81666741416704 X_{18} X_{5} - 0.67151730649831 X_{18} X_{6} + 1.4894231594794 X_{18} X_{7} - 1.0158641744051 X_{18} X_{8} - 0.868377279128138 X_{18} X_{9} - 0.00186795016812278 X_{18} + 0.0420096547300021 X_{19}^{3} X_{2}^{3} - 0.195835258837909 X_{19}^{3} X_{3}^{3} + 0.345154960249995 X_{19}^{3} X_{4}^{3} - 0.0670824338146878 X_{19}^{3} X_{5}^{3} + 0.0184194717147837 X_{19}^{3} X_{6}^{3} + 0.110487205234903 X_{19}^{3} X_{7}^{3} - 0.110790743331213 X_{19}^{3} X_{8}^{3} + 0.11740733691267 X_{19}^{3} X_{9}^{3} - 2.51358561040643 \\cdot 10^{-11} X_{19}^{3} - 0.0182529685795225 X_{19}^{2} X_{2}^{2} + 0.0877824437617346 X_{19}^{2} X_{3}^{2} - 0.145598601616381 X_{19}^{2} X_{4}^{2} + 0.0291164232912718 X_{19}^{2} X_{5}^{2} - 0.00807130026821583 X_{19}^{2} X_{6}^{2} - 0.0521850987856263 X_{19}^{2} X_{7}^{2} + 0.0483852472889439 X_{19}^{2} X_{8}^{2} - 0.0512111093506397 X_{19}^{2} X_{9}^{2} - 4.74670250076971 \\cdot 10^{-11} X_{19}^{2} - 0.456574680112577 X_{19} X_{2} + 2.11434727938272 X_{19} X_{3} - 3.7746083988558 X_{19} X_{4} + 0.729233793653205 X_{19} X_{5} - 0.199823763598833 X_{19} X_{6} - 1.17931419782601 X_{19} X_{7} + 1.20278391569084 X_{19} X_{8} - 1.27494837708545 X_{19} X_{9} + 7.34548856181381 \\cdot 10^{-12} X_{19} + 0.0948855423287359 X_{2}^{3} X_{3}^{3} + 0.0749905374699609 X_{2}^{3} X_{4}^{3} + 0.150499318186495 X_{2}^{3} X_{5}^{3} + 0.0812422718711372 X_{2}^{3} X_{6}^{3} - 0.096514835741906 X_{2}^{3} X_{7}^{3} + 0.084667033908961 X_{2}^{3} X_{8}^{3} + 0.122779189821399 X_{2}^{3} X_{9}^{3} - 0.000610595521594905 X_{2}^{3} - 0.0422106506757635 X_{2}^{2} X_{3}^{2} - 0.0326799605582607 X_{2}^{2} X_{4}^{2} - 0.0666748439798329 X_{2}^{2} X_{5}^{2} - 0.0360061132324776 X_{2}^{2} X_{6}^{2} + 0.0413326691542717 X_{2}^{2} X_{7}^{2} - 0.0375265414326519 X_{2}^{2} X_{8}^{2} - 0.0544914912357449 X_{2}^{2} X_{9}^{2} - 0.00142897607317638 X_{2}^{2} - 1.02605353802477 X_{2} X_{3} - 0.814528200786989 X_{2} X_{4} - 1.62888220766763 X_{2} X_{5} - 0.879218224158744 X_{2} X_{6} + 1.05213315521937 X_{2} X_{7} - 0.916272497929143 X_{2} X_{8} - 1.32834957565509 X_{2} X_{9} + 0.000267529706331029 X_{2} + 0.299493733915757 X_{3}^{3} X_{4}^{3} + 0.128043432769556 X_{3}^{3} X_{5}^{3} + 0.0230362216964854 X_{3}^{3} X_{6}^{3} + 0.204838887100136 X_{3}^{3} X_{7}^{3} + 0.0804639264294166 X_{3}^{3} X_{8}^{3} + 0.11283334120926 X_{3}^{3} X_{9}^{3} + 0.00177564195436954 X_{3}^{3} - 0.140650643390546 X_{3}^{2} X_{4}^{2} - 0.0574021295463445 X_{3}^{2} X_{5}^{2} - 0.0102363208171259 X_{3}^{2} X_{6}^{2} - 0.0928225660539631 X_{3}^{2} X_{7}^{2} - 0.0358117387962326 X_{3}^{2} X_{8}^{2} - 0.0502696115988954 X_{3}^{2} X_{9}^{2} + 0.315023139931042 X_{3}^{2} - 3.19993391770139 X_{3} X_{4} - 1.38231291068239 X_{3} X_{5} - 0.249167203213847 X_{3} X_{6} - 2.20610649676051 X_{3} X_{7} - 0.870012841524575 X_{3} X_{8} - 1.21974319330732 X_{3} X_{9} - 0.0289301483637378 X_{3} - 0.122090899591533 X_{4}^{3} X_{5}^{3} - 0.165156973860295 X_{4}^{3} X_{6}^{3} + 0.000541973735878554 X_{4}^{3} X_{7}^{3} - 0.0940001005275538 X_{4}^{3} X_{8}^{3} + 0.306787087701272 X_{4}^{3} X_{9}^{3} - 1.06794937096972 \\cdot 10^{-16} X_{4}^{3} + 0.0551143934453104 X_{4}^{2} X_{5}^{2} + 0.0711907455707823 X_{4}^{2} X_{6}^{2} - 0.000274779427447046 X_{4}^{2} X_{7}^{2} + 0.0407515839128071 X_{4}^{2} X_{8}^{2} - 0.135550233597446 X_{4}^{2} X_{9}^{2} - 2.63149572076388 \\cdot 10^{-16} X_{4}^{2} + 1.31612865985349 X_{4} X_{5} + 1.79788789505072 X_{4} X_{6} - 0.00568687940578345 X_{4} X_{7} + 1.02207559492456 X_{4} X_{8} - 3.32230164284964 X_{4} X_{9} + 3.61378727389417 \\cdot 10^{-17} X_{4} + 0.163231688032875 X_{5}^{3} X_{6}^{3} - 0.0810597066835528 X_{5}^{3} X_{7}^{3} + 0.109839034104997 X_{5}^{3} X_{8}^{3} + 0.150321806133794 X_{5}^{3} X_{9}^{3} + 3.6190831585502 \\cdot 10^{-5} X_{5}^{3} - 0.0716153872173313 X_{5}^{2} X_{6}^{2} + 0.0404929214733459 X_{5}^{2} X_{7}^{2} - 0.0488421085229128 X_{5}^{2} X_{8}^{2} - 0.067094559613871 X_{5}^{2} X_{9}^{2} + 9.15739343594063 \\cdot 10^{-5} X_{5}^{2} - 1.77030122954644 X_{5} X_{6} + 0.853484932460992 X_{5} X_{7} - 1.18785299762847 X_{5} X_{8} - 1.62434086396478 X_{5} X_{9} - 1.4372975442568 \\cdot 10^{-5} X_{5} - 0.037969127933645 X_{6}^{3} X_{7}^{3} + 0.083895582197307 X_{6}^{3} X_{8}^{3} + 0.0977880272875411 X_{6}^{3} X_{9}^{3} - 0.00010550362087267 X_{6}^{3} + 0.0158950548430753 X_{6}^{2} X_{7}^{2} - 0.0373756583164533 X_{6}^{2} X_{8}^{2} - 0.0435450184076628 X_{6}^{2} X_{9}^{2} - 0.000375236295238397 X_{6}^{2} + 0.415808899252704 X_{6} X_{7} - 0.906924148232715 X_{6} X_{8} - 1.0572061840505 X_{6} X_{9} + 5.26528000462046 \\cdot 10^{-5} X_{6} + 0.00876543952562811 X_{7}^{3} X_{8}^{3} + 0.286789015422898 X_{7}^{3} X_{9}^{3} - 0.00374711850696364 X_{7}^{2} X_{8}^{2} - 0.125916679443956 X_{7}^{2} X_{9}^{2} - 0.0955827587605636 X_{7} X_{8} - 3.10995880727667 X_{7} X_{9} + 0.111487642168606 X_{8}^{3} X_{9}^{3} + 0.0811572672868349 X_{8}^{3} - 0.0496746506093022 X_{8}^{2} X_{9}^{2} - 0.931659922811272 X_{8}^{2} - 1.20516319671035 X_{8} X_{9} + 0.0670196501222648 X_{8} + 0.000246356847193825 X_{9}^{3} + 0.000497685841837276 X_{9}^{2} - 9.6624552169958 \\cdot 10^{-5} X_{9}} + 1}$"
      ],
      "text/plain": [
       "1/(14.0210932200166*exp(0.413545642799709*X0**3*X1**3 - 0.0315907375334982*X0**3*X10**3 + 0.129776439375461*X0**3*X11**3 + 0.0862613201190399*X0**3*X12**3 + 0.0910453552843781*X0**3*X13**3 + 0.266506600332646*X0**3*X14**3 - 0.0371569174525707*X0**3*X15**3 + 0.0576116635312745*X0**3*X16**3 - 0.0329705346357533*X0**3*X17**3 + 0.0231597390886027*X0**3*X18**3 - 0.0716853999945646*X0**3*X19**3 - 0.111527925241405*X0**3*X2**3 - 0.0498016579566518*X0**3*X3**3 - 0.0223826827035112*X0**3*X4**3 - 0.106776127543977*X0**3*X5**3 + 0.0812699116491364*X0**3*X6**3 + 0.0367488320721435*X0**3*X7**3 + 0.0469243779038286*X0**3*X8**3 + 0.355050534893921*X0**3*X9**3 - 0.000867702244736045*X0**3 - 0.183826404895062*X0**2*X1**2 + 0.0169667566905229*X0**2*X10**2 - 0.0561439782289651*X0**2*X11**2 - 0.0519069222561799*X0**2*X12**2 - 0.0451731031795968*X0**2*X13**2 - 0.129061436698867*X0**2*X14**2 + 0.0208178714152486*X0**2*X15**2 - 0.0261763967668976*X0**2*X16**2 + 0.0105312274657035*X0**2*X17**2 - 0.0105610459420204*X0**2*X18**2 + 0.0318554783134946*X0**2*X19**2 + 0.0495363104049435*X0**2*X2**2 + 0.0282696300879839*X0**2*X3**2 + 0.0144208776706692*X0**2*X4**2 + 0.0487535757453865*X0**2*X5**2 - 0.0320115136254991*X0**2*X6**2 - 0.0236257463936693*X0**2*X7**2 - 0.0197087635367942*X0**2*X8**2 - 0.158046998267003*X0**2*X9**2 - 0.018418685945001*X0**2 - 4.47267172333113*X0*X1 + 0.326492437992949*X0*X10 - 1.41165413363637*X0*X11 - 0.862668050744347*X0*X12 - 0.960334277631636*X0*X13 - 2.82732831964865*X0*X14 + 0.37956426839611*X0*X15 - 0.620266491463633*X0*X16 + 0.378087533017261*X0*X17 - 0.249121026543303*X0*X18 + 0.775470970040346*X0*X19 + 1.20655361998011*X0*X2 + 0.506764904981373*X0*X3 + 0.218912810012266*X0*X4 + 1.14811695715632*X0*X5 - 0.900473562556255*X0*X6 - 0.359735268244029*X0*X7 - 0.513517002119819*X0*X8 - 3.83882720719392*X0*X9 + 0.0014310875504261*X0 - 0.00637581929548466*X1**3*X10**3 + 0.0877244392727457*X1**3*X11**3 - 0.234630161556573*X1**3*X12**3 - 0.165357412555455*X1**3*X13**3 + 0.00487175669419107*X1**3*X14**3 - 0.126683983638162*X1**3*X15**3 - 0.335637240659685*X1**3*X16**3 - 0.0533732505363754*X1**3*X17**3 + 0.036681870908462*X1**3*X18**3 + 0.0466285483767144*X1**3*X19**3 + 0.0461048620187727*X1**3*X2**3 + 0.0859187090039003*X1**3*X3**3 - 0.107126492794558*X1**3*X4**3 + 0.135373712960253*X1**3*X5**3 + 0.0578677751527144*X1**3*X6**3 - 0.254704347352084*X1**3*X7**3 + 0.107288816101776*X1**3*X8**3 + 0.0676345467891645*X1**3*X9**3 - 4.76158121250693e-5*X1**3 + 0.00275745599322086*X1**2*X10**2 - 0.038964952544555*X1**2*X11**2 + 0.099417221538349*X1**2*X12**2 + 0.0692967235774267*X1**2*X13**2 - 0.00210748937316405*X1**2*X14**2 + 0.0552858260477878*X1**2*X15**2 + 0.144588865605499*X1**2*X16**2 + 0.0237798450007527*X1**2*X17**2 - 0.0161761944457655*X1**2*X18**2 - 0.018458156192803*X1**2*X19**2 - 0.0203684324240519*X1**2*X2**2 - 0.0382340449705072*X1**2*X3**2 + 0.0445809626170667*X1**2*X4**2 - 0.0602274389870847*X1**2*X5**2 - 0.0257036472792934*X1**2*X6**2 + 0.109309728048922*X1**2*X7**2 - 0.0477765324793734*X1**2*X8**2 - 0.029986475261322*X1**2*X9**2 - 8.37092048481648e-5*X1**2 + 0.0693613840641245*X1*X10 - 0.948924429026377*X1*X11 + 2.56329359813223*X1*X12 + 1.81047854353998*X1*X13 - 0.0529940737177497*X1*X14 + 1.37556725948103*X1*X15 + 3.65431749944823*X1*X16 + 0.57696636218852*X1*X17 - 0.397408685287474*X1*X18 - 0.516172025408988*X1*X19 - 0.499300944337407*X1*X2 - 0.929027081975789*X1*X3 + 1.17453586645116*X1*X4 - 1.46383441493007*X1*X5 - 0.625961131784979*X1*X6 + 2.77536925950076*X1*X7 - 1.1599182951609*X1*X8 - 0.731900200893576*X1*X9 + 1.49145663353821e-5*X1 + 0.134321996974788*X10**3*X11**3 - 0.066862209477115*X10**3*X12**3 - 0.0240739411311954*X10**3*X13**3 + 0.0575037679679053*X10**3*X14**3 + 0.0796459305761574*X10**3*X15**3 - 0.00643885852056177*X10**3*X16**3 + 0.0733793586050045*X10**3*X17**3 - 0.185674561963567*X10**3*X18**3 + 0.00269202959292192*X10**3*X19**3 + 0.0471952624780576*X10**3*X2**3 + 0.0913676853214683*X10**3*X3**3 + 0.00160500161998625*X10**3*X4**3 + 0.206618235151396*X10**3*X5**3 + 0.304082760492517*X10**3*X6**3 - 0.0815257709813855*X10**3*X7**3 - 0.145876884063866*X10**3*X8**3 - 0.0412839235968492*X10**3*X9**3 - 0.0586699000397275*X10**2*X11**2 + 0.0252563166664805*X10**2*X12**2 + 0.0106543205436505*X10**2*X13**2 - 0.0247864021166481*X10**2*X14**2 - 0.0424691168820038*X10**2*X15**2 + 0.0034082952936645*X10**2*X16**2 - 0.0386054592060223*X10**2*X17**2 + 0.0809021071835769*X10**2*X18**2 - 0.00133306304519391*X10**2*X19**2 - 0.0209443409233584*X10**2*X2**2 - 0.0404763196651477*X10**2*X3**2 - 0.000751318590728208*X10**2*X4**2 - 0.0916849966765403*X10**2*X5**2 - 0.13356539027454*X10**2*X6**2 + 0.0563970382055797*X10**2*X7**2 + 0.0646628933097492*X10**2*X8**2 + 0.0178410344302857*X10**2*X9**2 - 1.45825248431367*X10*X11 + 0.746693130511397*X10*X12 + 0.260710721941951*X10*X13 - 0.626087488501855*X10*X14 - 0.824736121676442*X10*X15 + 0.0668087961417838*X10*X16 - 0.762548507283455*X10*X17 + 2.01676008826005*X10*X18 - 0.0284099967650409*X10*X19 - 0.510637438427158*X10*X2 - 0.988900775052204*X10*X3 - 0.0171659117410768*X10*X4 - 2.23552225624315*X10*X5 - 3.2970293048446*X10*X6 + 0.777591198571748*X10*X7 + 1.57871169842782*X10*X8 + 0.449191631611385*X10*X9 + 0.101828533062878*X11**3*X12**3 + 0.252155416345447*X11**3*X13**3 - 0.0796386178679756*X11**3*X14**3 - 0.128522672682213*X11**3*X15**3 - 0.279543650691844*X11**3*X16**3 - 0.19538863135543*X11**3*X17**3 - 0.0385808234559854*X11**3*X18**3 + 0.00629365918307647*X11**3*X19**3 + 0.1767294370689*X11**3*X2**3 + 0.0884520722209362*X11**3*X3**3 - 0.0075159152689564*X11**3*X4**3 + 0.23669957554431*X11**3*X5**3 + 0.0692825741376905*X11**3*X6**3 + 0.00628505809183584*X11**3*X7**3 + 0.0368366856290982*X11**3*X8**3 + 0.118871618063438*X11**3*X9**3 - 0.00277230955005472*X11**3 - 0.0434194693186673*X11**2*X12**2 - 0.109011271318975*X11**2*X13**2 + 0.0348443563099284*X11**2*X14**2 + 0.0552000774428339*X11**2*X15**2 + 0.118942389554644*X11**2*X16**2 + 0.0866081396517612*X11**2*X17**2 + 0.0169765401744925*X11**2*X18**2 - 0.00273974328338991*X11**2*X19**2 - 0.0786484642021146*X11**2*X2**2 - 0.0393804284139409*X11**2*X3**2 + 0.0032475177740504*X11**2*X4**2 - 0.105456703858139*X11**2*X5**2 - 0.0308665127674979*X11**2*X6**2 - 0.0027076937400418*X11**2*X7**2 - 0.0163382258997882*X11**2*X8**2 - 0.0529216281030097*X11**2*X9**2 - 0.00656513054859386*X11**2 - 1.11096943872984*X11*X12 - 2.74322422298627*X11*X13 + 0.864244147398473*X11*X14 + 1.40018653646781*X11*X15 + 3.05131317685472*X11*X16 + 2.11451173054375*X11*X17 + 0.418176785433885*X11*X18 - 0.0683728963958034*X11*X19 - 1.9109153759906*X11*X2 - 0.95631555518684*X11*X3 + 0.081777349167731*X11*X4 - 2.55864651136778*X11*X5 - 0.748948728102128*X11*X6 - 0.0684314518691424*X11*X7 - 0.398592366416509*X11*X8 - 1.28520847591431*X11*X9 + 0.00121669781901744*X11 - 0.108520395676625*X12**3*X13**3 - 0.039453192026052*X12**3*X14**3 + 0.211300352729612*X12**3*X15**3 - 0.0105783641226339*X12**3*X16**3 + 0.321130831355805*X12**3*X17**3 + 0.213404083890689*X12**3*X18**3 + 0.0159915872463925*X12**3*X19**3 - 0.0258062367836623*X12**3*X2**3 + 0.220383383692999*X12**3*X3**3 - 0.137431748385732*X12**3*X4**3 - 0.0785705264416022*X12**3*X5**3 - 0.0769180784394853*X12**3*X6**3 + 0.003562596393378*X12**3*X7**3 - 0.0440815150762047*X12**3*X8**3 + 0.190886260682876*X12**3*X9**3 - 2.78236740060084e-20*X12**3 + 0.0456113220925116*X12**2*X13**2 + 0.0173209519956335*X12**2*X14**2 - 0.0964434504625382*X12**2*X15**2 + 0.00377026369729621*X12**2*X16**2 - 0.0995295549575499*X12**2*X17**2 - 0.0932654914521946*X12**2*X18**2 - 0.0066176443078252*X12**2*X19**2 + 0.0111174458991824*X12**2*X2**2 - 0.100490096226818*X12**2*X3**2 + 0.0690016207489159*X12**2*X4**2 + 0.0353147175022292*X12**2*X5**2 + 0.0330572167772206*X12**2*X6**2 - 0.00120582409342586*X12**2*X7**2 + 0.0190536591693469*X12**2*X8**2 - 0.0831042757582426*X12**2*X9**2 - 7.60890581218066e-20*X12**2 + 1.18780904089464*X12*X13 + 0.42790602854843*X12*X14 - 2.27253952831725*X12*X15 + 0.119304289152013*X12*X16 - 3.69881904943352*X12*X17 - 2.3165019786252*X12*X18 - 0.175576951125657*X12*X19 + 0.280980324662311*X12*X2 - 2.37038487809372*X12*X3 + 1.4456491463683*X12*X4 + 0.847795078913952*X12*X5 + 0.837843005666934*X12*X6 - 0.0405171680364933*X12*X7 + 0.479598403208056*X12*X8 - 2.07369431586106*X12*X9 + 9.95202595267355e-21*X12 - 0.0302606990574912*X13**3*X14**3 - 0.156479635155748*X13**3*X15**3 - 0.0395712136254652*X13**3*X16**3 - 0.0560248651324223*X13**3*X17**3 - 0.105932786713102*X13**3*X18**3 + 0.0731388503902973*X13**3*X19**3 + 0.0881626277781755*X13**3*X2**3 + 0.120601252912978*X13**3*X3**3 - 0.102282114224722*X13**3*X4**3 + 0.0436498469553389*X13**3*X5**3 - 0.134535811141649*X13**3*X6**3 + 0.221009507088354*X13**3*X7**3 - 0.0379997578792154*X13**3*X8**3 + 0.182001510281156*X13**3*X9**3 - 1.60231585341737e-20*X13**3 + 0.0131535607972618*X13**2*X14**2 + 0.0642032499091662*X13**2*X15**2 + 0.0175653144876373*X13**2*X16**2 + 0.0267436255461547*X13**2*X17**2 + 0.0457075434140151*X13**2*X18**2 - 0.0298448946815182*X13**2*X19**2 - 0.0372643769229476*X13**2*X2**2 - 0.0564923513428549*X13**2*X3**2 + 0.0537613309928022*X13**2*X4**2 - 0.0194963394709476*X13**2*X5**2 + 0.0568073849843678*X13**2*X6**2 - 0.093963568146181*X13**2*X7**2 + 0.0164652477251006*X13**2*X8**2 - 0.0797363672121653*X13**2*X9**2 - 4.29163239214413e-20*X13**2 + 0.32887924038599*X13*X14 + 1.72058513869802*X13*X15 + 0.428173012452014*X13*X16 + 0.596313135581758*X13*X17 + 1.15302967934923*X13*X18 - 0.805151174126073*X13*X19 - 0.963626849166644*X13*X2 - 1.28934243899358*X13*X3 + 1.06328137417833*X13*X4 - 0.471614003815078*X13*X5 + 1.47074202748039*X13*X6 - 2.41313371682111*X13*X7 + 0.413217992908945*X13*X8 - 1.97453857978984*X13*X9 + 5.66893646795475e-21*X13 - 0.132085730854844*X14**3*X15**3 - 0.269265771124863*X14**3*X16**3 + 0.112927746801629*X14**3*X17**3 + 0.0462408734899146*X14**3*X18**3 - 0.43126616035845*X14**3*X19**3 - 0.0775941936949369*X14**3*X2**3 + 0.162982891523029*X14**3*X3**3 + 0.266374130331456*X14**3*X4**3 - 0.270186548130575*X14**3*X5**3 + 0.0115996150070651*X14**3*X6**3 - 0.18673754754418*X14**3*X7**3 + 0.165994245727269*X14**3*X8**3 + 0.128866930728428*X14**3*X9**3 + 1.77455703974255e-10*X14**3 + 0.0601542355509873*X14**2*X15**2 + 0.120707592045876*X14**2*X16**2 - 0.0527072369732464*X14**2*X17**2 - 0.0201998171466079*X14**2*X18**2 + 0.182288726378462*X14**2*X19**2 + 0.0336843831320181*X14**2*X2**2 - 0.0738434731261208*X14**2*X3**2 - 0.122961886615909*X14**2*X4**2 + 0.122969080963291*X14**2*X5**2 - 0.00507861148361348*X14**2*X6**2 + 0.0862594193070993*X14**2*X7**2 - 0.0732939679300431*X14**2*X8**2 - 0.0569371425496934*X14**2*X9**2 + 2.8654360240907e-10*X14**2 + 1.4211972941226*X14*X15 + 2.90735113166872*X14*X16 - 1.20819427256995*X14*X17 - 0.501989568504388*X14*X18 + 4.71437879406562*X14*X19 + 0.843472366551224*X14*X2 - 1.75546282678587*X14*X3 - 2.85745981939991*X14*X4 + 2.90737250831419*X14*X5 - 0.125860110393036*X14*X6 + 2.00291458145008*X14*X7 - 1.79785462339033*X14*X8 - 1.39556200939619*X14*X9 - 4.70574415916217e-11*X14 - 0.0833985981197854*X15**3*X16**3 - 0.0857039029558381*X15**3*X17**3 - 0.10163087034981*X15**3*X18**3 - 0.051331151972687*X15**3*X19**3 - 0.00254621180732919*X15**3*X2**3 - 0.0778428960004678*X15**3*X3**3 + 0.029818129101607*X15**3*X4**3 + 0.142408035457703*X15**3*X5**3 - 0.171599280712947*X15**3*X6**3 + 0.0199880839623715*X15**3*X7**3 - 0.0358610812573126*X15**3*X8**3 + 0.22078937332062*X15**3*X9**3 + 0.032629047033539*X15**2*X16**2 + 0.0347477295684178*X15**2*X17**2 + 0.0449682081273308*X15**2*X18**2 + 0.022953077259633*X15**2*X19**2 + 0.00112116403390227*X15**2*X2**2 + 0.0441119087839219*X15**2*X3**2 - 0.0195477248616328*X15**2*X4**2 - 0.0610872735486872*X15**2*X5**2 + 0.0683544634619522*X15**2*X6**2 - 0.0122206090763757*X15**2*X7**2 + 0.0150906893538952*X15**2*X8**2 - 0.0976849847038775*X15**2*X9**2 + 0.925268803032578*X15*X16 + 0.944336351057036*X15*X17 + 1.10043451500266*X15*X18 + 0.554546632082005*X15*X19 + 0.0275964760107051*X15*X2 + 0.792501490128002*X15*X3 - 0.289898773080859*X15*X4 - 1.55173447157283*X15*X5 + 1.89735828566599*X15*X6 - 0.198906485441743*X15*X7 + 0.39229863456869*X15*X8 - 2.39032985938468*X15*X9 - 0.0750534209783265*X16**3*X17**3 + 0.17527498885199*X16**3*X18**3 + 0.115815769422984*X16**3*X19**3 + 0.0191770886725146*X16**3*X2**3 + 0.01182094013087*X16**3*X3**3 + 0.363897205248492*X16**3*X4**3 - 0.103852648327868*X16**3*X5**3 + 0.159974545927584*X16**3*X6**3 - 0.126652127749452*X16**3*X7**3 - 0.111184812387452*X16**3*X8**3 + 0.00199545110746897*X16**3*X9**3 - 1.47209169516913e-22*X16**3 + 0.0222927147726736*X16**2*X17**2 - 0.0792792147469481*X16**2*X18**2 - 0.0531793784231498*X16**2*X19**2 - 0.00803015066793651*X16**2*X2**2 - 0.00529100386341884*X16**2*X3**2 - 0.155974167705768*X16**2*X4**2 + 0.0488591768699031*X16**2*X5**2 - 0.06945691623886*X16**2*X6**2 + 0.0307647575053811*X16**2*X7**2 + 0.048892837023475*X16**2*X8**2 - 0.000870657114349901*X16**2*X9**2 - 5.12833966494074e-22*X16**2 + 0.86968721046224*X16*X17 - 1.88862164789618*X16*X18 - 1.24400454844014*X16*X19 - 0.209987518502678*X16*X2 - 0.127660328179924*X16*X3 - 3.96655992218534*X16*X4 + 1.10923807488969*X16*X5 - 1.73879868077602*X16*X6 + 1.50399061516372*X16*X7 + 1.20531133935876*X16*X8 - 0.0216675092691125*X16*X9 + 5.93232969015657e-23*X16 + 0.0253721179649623*X17**3*X18**3 - 0.212468113111032*X17**3*X19**3 - 0.0292247375456579*X17**3*X2**3 + 0.741441238844389*X17**3*X3**3 - 0.064492913032151*X17**3*X4**3 + 0.100956219605158*X17**3*X5**3 + 0.300629906045977*X17**3*X6**3 - 0.075886039477038*X17**3*X7**3 + 0.129796507820583*X17**3*X8**3 + 0.174625774143103*X17**3*X9**3 + 7.39671522391469e-15*X17**3 - 0.011344966311605*X17**2*X18**2 + 0.108709496829393*X17**2*X19**2 + 0.0129423634942397*X17**2*X2**2 - 0.342725967278957*X17**2*X3**2 + 0.033370326647743*X17**2*X4**2 - 0.0449357277997422*X17**2*X5**2 - 0.131053414429208*X17**2*X6**2 + 0.0222857314200754*X17**2*X7**2 - 0.057122857496744*X17**2*X8**2 - 0.078390549837873*X17**2*X9**2 + 4.10901850031898e-14*X17**2 - 0.274069879631411*X17*X18 + 2.22379806137892*X17*X19 + 0.316340652374054*X17*X2 - 7.94968465657428*X17*X3 + 0.673033751766545*X17*X4 - 1.09157614116606*X17*X5 - 3.26486084425189*X17*X6 + 0.880431177848372*X17*X7 - 1.40677761583846*X17*X8 - 1.884594058019*X17*X9 - 3.61275545625934e-15*X17 - 0.154003929029024*X18**3*X19**3 + 0.0827313989228483*X18**3*X2**3 - 0.208319145586013*X18**3*X3**3 + 0.0168346255854416*X18**3*X4**3 + 0.0753479658682652*X18**3*X5**3 + 0.0620305277543556*X18**3*X6**3 - 0.138007703084182*X18**3*X7**3 + 0.0938768422617217*X18**3*X8**3 + 0.08020289012811*X18**3*X9**3 + 0.00468837521980476*X18**3 + 0.0659517713321313*X18**2*X19**2 - 0.0365702854158641*X18**2*X2**2 + 0.0924488120850239*X18**2*X3**2 - 0.00738243808923666*X18**2*X4**2 - 0.0331613880056381*X18**2*X5**2 - 0.0274529741791654*X18**2*X6**2 + 0.0619791753653637*X18**2*X7**2 - 0.0416228356904998*X18**2*X8**2 - 0.0354700814761024*X18**2*X9**2 + 0.00975044072598449*X18**2 + 1.67881338668122*X18*X19 - 0.895850422455807*X18*X2 + 2.25396418164602*X18*X3 - 0.18262077678437*X18*X4 - 0.81666741416704*X18*X5 - 0.67151730649831*X18*X6 + 1.4894231594794*X18*X7 - 1.0158641744051*X18*X8 - 0.868377279128138*X18*X9 - 0.00186795016812278*X18 + 0.0420096547300021*X19**3*X2**3 - 0.195835258837909*X19**3*X3**3 + 0.345154960249995*X19**3*X4**3 - 0.0670824338146878*X19**3*X5**3 + 0.0184194717147837*X19**3*X6**3 + 0.110487205234903*X19**3*X7**3 - 0.110790743331213*X19**3*X8**3 + 0.11740733691267*X19**3*X9**3 - 2.51358561040643e-11*X19**3 - 0.0182529685795225*X19**2*X2**2 + 0.0877824437617346*X19**2*X3**2 - 0.145598601616381*X19**2*X4**2 + 0.0291164232912718*X19**2*X5**2 - 0.00807130026821583*X19**2*X6**2 - 0.0521850987856263*X19**2*X7**2 + 0.0483852472889439*X19**2*X8**2 - 0.0512111093506397*X19**2*X9**2 - 4.74670250076971e-11*X19**2 - 0.456574680112577*X19*X2 + 2.11434727938272*X19*X3 - 3.7746083988558*X19*X4 + 0.729233793653205*X19*X5 - 0.199823763598833*X19*X6 - 1.17931419782601*X19*X7 + 1.20278391569084*X19*X8 - 1.27494837708545*X19*X9 + 7.34548856181381e-12*X19 + 0.0948855423287359*X2**3*X3**3 + 0.0749905374699609*X2**3*X4**3 + 0.150499318186495*X2**3*X5**3 + 0.0812422718711372*X2**3*X6**3 - 0.096514835741906*X2**3*X7**3 + 0.084667033908961*X2**3*X8**3 + 0.122779189821399*X2**3*X9**3 - 0.000610595521594905*X2**3 - 0.0422106506757635*X2**2*X3**2 - 0.0326799605582607*X2**2*X4**2 - 0.0666748439798329*X2**2*X5**2 - 0.0360061132324776*X2**2*X6**2 + 0.0413326691542717*X2**2*X7**2 - 0.0375265414326519*X2**2*X8**2 - 0.0544914912357449*X2**2*X9**2 - 0.00142897607317638*X2**2 - 1.02605353802477*X2*X3 - 0.814528200786989*X2*X4 - 1.62888220766763*X2*X5 - 0.879218224158744*X2*X6 + 1.05213315521937*X2*X7 - 0.916272497929143*X2*X8 - 1.32834957565509*X2*X9 + 0.000267529706331029*X2 + 0.299493733915757*X3**3*X4**3 + 0.128043432769556*X3**3*X5**3 + 0.0230362216964854*X3**3*X6**3 + 0.204838887100136*X3**3*X7**3 + 0.0804639264294166*X3**3*X8**3 + 0.11283334120926*X3**3*X9**3 + 0.00177564195436954*X3**3 - 0.140650643390546*X3**2*X4**2 - 0.0574021295463445*X3**2*X5**2 - 0.0102363208171259*X3**2*X6**2 - 0.0928225660539631*X3**2*X7**2 - 0.0358117387962326*X3**2*X8**2 - 0.0502696115988954*X3**2*X9**2 + 0.315023139931042*X3**2 - 3.19993391770139*X3*X4 - 1.38231291068239*X3*X5 - 0.249167203213847*X3*X6 - 2.20610649676051*X3*X7 - 0.870012841524575*X3*X8 - 1.21974319330732*X3*X9 - 0.0289301483637378*X3 - 0.122090899591533*X4**3*X5**3 - 0.165156973860295*X4**3*X6**3 + 0.000541973735878554*X4**3*X7**3 - 0.0940001005275538*X4**3*X8**3 + 0.306787087701272*X4**3*X9**3 - 1.06794937096972e-16*X4**3 + 0.0551143934453104*X4**2*X5**2 + 0.0711907455707823*X4**2*X6**2 - 0.000274779427447046*X4**2*X7**2 + 0.0407515839128071*X4**2*X8**2 - 0.135550233597446*X4**2*X9**2 - 2.63149572076388e-16*X4**2 + 1.31612865985349*X4*X5 + 1.79788789505072*X4*X6 - 0.00568687940578345*X4*X7 + 1.02207559492456*X4*X8 - 3.32230164284964*X4*X9 + 3.61378727389417e-17*X4 + 0.163231688032875*X5**3*X6**3 - 0.0810597066835528*X5**3*X7**3 + 0.109839034104997*X5**3*X8**3 + 0.150321806133794*X5**3*X9**3 + 3.6190831585502e-5*X5**3 - 0.0716153872173313*X5**2*X6**2 + 0.0404929214733459*X5**2*X7**2 - 0.0488421085229128*X5**2*X8**2 - 0.067094559613871*X5**2*X9**2 + 9.15739343594063e-5*X5**2 - 1.77030122954644*X5*X6 + 0.853484932460992*X5*X7 - 1.18785299762847*X5*X8 - 1.62434086396478*X5*X9 - 1.4372975442568e-5*X5 - 0.037969127933645*X6**3*X7**3 + 0.083895582197307*X6**3*X8**3 + 0.0977880272875411*X6**3*X9**3 - 0.00010550362087267*X6**3 + 0.0158950548430753*X6**2*X7**2 - 0.0373756583164533*X6**2*X8**2 - 0.0435450184076628*X6**2*X9**2 - 0.000375236295238397*X6**2 + 0.415808899252704*X6*X7 - 0.906924148232715*X6*X8 - 1.0572061840505*X6*X9 + 5.26528000462046e-5*X6 + 0.00876543952562811*X7**3*X8**3 + 0.286789015422898*X7**3*X9**3 - 0.00374711850696364*X7**2*X8**2 - 0.125916679443956*X7**2*X9**2 - 0.0955827587605636*X7*X8 - 3.10995880727667*X7*X9 + 0.111487642168606*X8**3*X9**3 + 0.0811572672868349*X8**3 - 0.0496746506093022*X8**2*X9**2 - 0.931659922811272*X8**2 - 1.20516319671035*X8*X9 + 0.0670196501222648*X8 + 0.000246356847193825*X9**3 + 0.000497685841837276*X9**2 - 9.6624552169958e-5*X9) + 1)"
      ]
     },
     "execution_count": 24,
     "metadata": {},
     "output_type": "execute_result"
    }
   ],
   "source": [
    "metamodel.approx_expression"
   ]
  },
  {
   "cell_type": "code",
   "execution_count": 30,
   "metadata": {},
   "outputs": [
    {
     "data": {
      "text/plain": [
       "'\\\\frac{1}{14.0210932200166 e^{0.413545642799709 X_{0}^{3} X_{1}^{3} - 0.0315907375334982 X_{0}^{3} X_{10}^{3} + 0.129776439375461 X_{0}^{3} X_{11}^{3} + 0.0862613201190399 X_{0}^{3} X_{12}^{3} + 0.0910453552843781 X_{0}^{3} X_{13}^{3} + 0.266506600332646 X_{0}^{3} X_{14}^{3} - 0.0371569174525707 X_{0}^{3} X_{15}^{3} + 0.0576116635312745 X_{0}^{3} X_{16}^{3} - 0.0329705346357533 X_{0}^{3} X_{17}^{3} + 0.0231597390886027 X_{0}^{3} X_{18}^{3} - 0.0716853999945646 X_{0}^{3} X_{19}^{3} - 0.111527925241405 X_{0}^{3} X_{2}^{3} - 0.0498016579566518 X_{0}^{3} X_{3}^{3} - 0.0223826827035112 X_{0}^{3} X_{4}^{3} - 0.106776127543977 X_{0}^{3} X_{5}^{3} + 0.0812699116491364 X_{0}^{3} X_{6}^{3} + 0.0367488320721435 X_{0}^{3} X_{7}^{3} + 0.0469243779038286 X_{0}^{3} X_{8}^{3} + 0.355050534893921 X_{0}^{3} X_{9}^{3} - 0.000867702244736045 X_{0}^{3} - 0.183826404895062 X_{0}^{2} X_{1}^{2} + 0.0169667566905229 X_{0}^{2} X_{10}^{2} - 0.0561439782289651 X_{0}^{2} X_{11}^{2} - 0.0519069222561799 X_{0}^{2} X_{12}^{2} - 0.0451731031795968 X_{0}^{2} X_{13}^{2} - 0.129061436698867 X_{0}^{2} X_{14}^{2} + 0.0208178714152486 X_{0}^{2} X_{15}^{2} - 0.0261763967668976 X_{0}^{2} X_{16}^{2} + 0.0105312274657035 X_{0}^{2} X_{17}^{2} - 0.0105610459420204 X_{0}^{2} X_{18}^{2} + 0.0318554783134946 X_{0}^{2} X_{19}^{2} + 0.0495363104049435 X_{0}^{2} X_{2}^{2} + 0.0282696300879839 X_{0}^{2} X_{3}^{2} + 0.0144208776706692 X_{0}^{2} X_{4}^{2} + 0.0487535757453865 X_{0}^{2} X_{5}^{2} - 0.0320115136254991 X_{0}^{2} X_{6}^{2} - 0.0236257463936693 X_{0}^{2} X_{7}^{2} - 0.0197087635367942 X_{0}^{2} X_{8}^{2} - 0.158046998267003 X_{0}^{2} X_{9}^{2} - 0.018418685945001 X_{0}^{2} - 4.47267172333113 X_{0} X_{1} + 0.326492437992949 X_{0} X_{10} - 1.41165413363637 X_{0} X_{11} - 0.862668050744347 X_{0} X_{12} - 0.960334277631636 X_{0} X_{13} - 2.82732831964865 X_{0} X_{14} + 0.37956426839611 X_{0} X_{15} - 0.620266491463633 X_{0} X_{16} + 0.378087533017261 X_{0} X_{17} - 0.249121026543303 X_{0} X_{18} + 0.775470970040346 X_{0} X_{19} + 1.20655361998011 X_{0} X_{2} + 0.506764904981373 X_{0} X_{3} + 0.218912810012266 X_{0} X_{4} + 1.14811695715632 X_{0} X_{5} - 0.900473562556255 X_{0} X_{6} - 0.359735268244029 X_{0} X_{7} - 0.513517002119819 X_{0} X_{8} - 3.83882720719392 X_{0} X_{9} + 0.0014310875504261 X_{0} - 0.00637581929548466 X_{1}^{3} X_{10}^{3} + 0.0877244392727457 X_{1}^{3} X_{11}^{3} - 0.234630161556573 X_{1}^{3} X_{12}^{3} - 0.165357412555455 X_{1}^{3} X_{13}^{3} + 0.00487175669419107 X_{1}^{3} X_{14}^{3} - 0.126683983638162 X_{1}^{3} X_{15}^{3} - 0.335637240659685 X_{1}^{3} X_{16}^{3} - 0.0533732505363754 X_{1}^{3} X_{17}^{3} + 0.036681870908462 X_{1}^{3} X_{18}^{3} + 0.0466285483767144 X_{1}^{3} X_{19}^{3} + 0.0461048620187727 X_{1}^{3} X_{2}^{3} + 0.0859187090039003 X_{1}^{3} X_{3}^{3} - 0.107126492794558 X_{1}^{3} X_{4}^{3} + 0.135373712960253 X_{1}^{3} X_{5}^{3} + 0.0578677751527144 X_{1}^{3} X_{6}^{3} - 0.254704347352084 X_{1}^{3} X_{7}^{3} + 0.107288816101776 X_{1}^{3} X_{8}^{3} + 0.0676345467891645 X_{1}^{3} X_{9}^{3} - 4.76158121250693 \\\\cdot 10^{-5} X_{1}^{3} + 0.00275745599322086 X_{1}^{2} X_{10}^{2} - 0.038964952544555 X_{1}^{2} X_{11}^{2} + 0.099417221538349 X_{1}^{2} X_{12}^{2} + 0.0692967235774267 X_{1}^{2} X_{13}^{2} - 0.00210748937316405 X_{1}^{2} X_{14}^{2} + 0.0552858260477878 X_{1}^{2} X_{15}^{2} + 0.144588865605499 X_{1}^{2} X_{16}^{2} + 0.0237798450007527 X_{1}^{2} X_{17}^{2} - 0.0161761944457655 X_{1}^{2} X_{18}^{2} - 0.018458156192803 X_{1}^{2} X_{19}^{2} - 0.0203684324240519 X_{1}^{2} X_{2}^{2} - 0.0382340449705072 X_{1}^{2} X_{3}^{2} + 0.0445809626170667 X_{1}^{2} X_{4}^{2} - 0.0602274389870847 X_{1}^{2} X_{5}^{2} - 0.0257036472792934 X_{1}^{2} X_{6}^{2} + 0.109309728048922 X_{1}^{2} X_{7}^{2} - 0.0477765324793734 X_{1}^{2} X_{8}^{2} - 0.029986475261322 X_{1}^{2} X_{9}^{2} - 8.37092048481648 \\\\cdot 10^{-5} X_{1}^{2} + 0.0693613840641245 X_{1} X_{10} - 0.948924429026377 X_{1} X_{11} + 2.56329359813223 X_{1} X_{12} + 1.81047854353998 X_{1} X_{13} - 0.0529940737177497 X_{1} X_{14} + 1.37556725948103 X_{1} X_{15} + 3.65431749944823 X_{1} X_{16} + 0.57696636218852 X_{1} X_{17} - 0.397408685287474 X_{1} X_{18} - 0.516172025408988 X_{1} X_{19} - 0.499300944337407 X_{1} X_{2} - 0.929027081975789 X_{1} X_{3} + 1.17453586645116 X_{1} X_{4} - 1.46383441493007 X_{1} X_{5} - 0.625961131784979 X_{1} X_{6} + 2.77536925950076 X_{1} X_{7} - 1.1599182951609 X_{1} X_{8} - 0.731900200893576 X_{1} X_{9} + 1.49145663353821 \\\\cdot 10^{-5} X_{1} + 0.134321996974788 X_{10}^{3} X_{11}^{3} - 0.066862209477115 X_{10}^{3} X_{12}^{3} - 0.0240739411311954 X_{10}^{3} X_{13}^{3} + 0.0575037679679053 X_{10}^{3} X_{14}^{3} + 0.0796459305761574 X_{10}^{3} X_{15}^{3} - 0.00643885852056177 X_{10}^{3} X_{16}^{3} + 0.0733793586050045 X_{10}^{3} X_{17}^{3} - 0.185674561963567 X_{10}^{3} X_{18}^{3} + 0.00269202959292192 X_{10}^{3} X_{19}^{3} + 0.0471952624780576 X_{10}^{3} X_{2}^{3} + 0.0913676853214683 X_{10}^{3} X_{3}^{3} + 0.00160500161998625 X_{10}^{3} X_{4}^{3} + 0.206618235151396 X_{10}^{3} X_{5}^{3} + 0.304082760492517 X_{10}^{3} X_{6}^{3} - 0.0815257709813855 X_{10}^{3} X_{7}^{3} - 0.145876884063866 X_{10}^{3} X_{8}^{3} - 0.0412839235968492 X_{10}^{3} X_{9}^{3} - 0.0586699000397275 X_{10}^{2} X_{11}^{2} + 0.0252563166664805 X_{10}^{2} X_{12}^{2} + 0.0106543205436505 X_{10}^{2} X_{13}^{2} - 0.0247864021166481 X_{10}^{2} X_{14}^{2} - 0.0424691168820038 X_{10}^{2} X_{15}^{2} + 0.0034082952936645 X_{10}^{2} X_{16}^{2} - 0.0386054592060223 X_{10}^{2} X_{17}^{2} + 0.0809021071835769 X_{10}^{2} X_{18}^{2} - 0.00133306304519391 X_{10}^{2} X_{19}^{2} - 0.0209443409233584 X_{10}^{2} X_{2}^{2} - 0.0404763196651477 X_{10}^{2} X_{3}^{2} - 0.000751318590728208 X_{10}^{2} X_{4}^{2} - 0.0916849966765403 X_{10}^{2} X_{5}^{2} - 0.13356539027454 X_{10}^{2} X_{6}^{2} + 0.0563970382055797 X_{10}^{2} X_{7}^{2} + 0.0646628933097492 X_{10}^{2} X_{8}^{2} + 0.0178410344302857 X_{10}^{2} X_{9}^{2} - 1.45825248431367 X_{10} X_{11} + 0.746693130511397 X_{10} X_{12} + 0.260710721941951 X_{10} X_{13} - 0.626087488501855 X_{10} X_{14} - 0.824736121676442 X_{10} X_{15} + 0.0668087961417838 X_{10} X_{16} - 0.762548507283455 X_{10} X_{17} + 2.01676008826005 X_{10} X_{18} - 0.0284099967650409 X_{10} X_{19} - 0.510637438427158 X_{10} X_{2} - 0.988900775052204 X_{10} X_{3} - 0.0171659117410768 X_{10} X_{4} - 2.23552225624315 X_{10} X_{5} - 3.2970293048446 X_{10} X_{6} + 0.777591198571748 X_{10} X_{7} + 1.57871169842782 X_{10} X_{8} + 0.449191631611385 X_{10} X_{9} + 0.101828533062878 X_{11}^{3} X_{12}^{3} + 0.252155416345447 X_{11}^{3} X_{13}^{3} - 0.0796386178679756 X_{11}^{3} X_{14}^{3} - 0.128522672682213 X_{11}^{3} X_{15}^{3} - 0.279543650691844 X_{11}^{3} X_{16}^{3} - 0.19538863135543 X_{11}^{3} X_{17}^{3} - 0.0385808234559854 X_{11}^{3} X_{18}^{3} + 0.00629365918307647 X_{11}^{3} X_{19}^{3} + 0.1767294370689 X_{11}^{3} X_{2}^{3} + 0.0884520722209362 X_{11}^{3} X_{3}^{3} - 0.0075159152689564 X_{11}^{3} X_{4}^{3} + 0.23669957554431 X_{11}^{3} X_{5}^{3} + 0.0692825741376905 X_{11}^{3} X_{6}^{3} + 0.00628505809183584 X_{11}^{3} X_{7}^{3} + 0.0368366856290982 X_{11}^{3} X_{8}^{3} + 0.118871618063438 X_{11}^{3} X_{9}^{3} - 0.00277230955005472 X_{11}^{3} - 0.0434194693186673 X_{11}^{2} X_{12}^{2} - 0.109011271318975 X_{11}^{2} X_{13}^{2} + 0.0348443563099284 X_{11}^{2} X_{14}^{2} + 0.0552000774428339 X_{11}^{2} X_{15}^{2} + 0.118942389554644 X_{11}^{2} X_{16}^{2} + 0.0866081396517612 X_{11}^{2} X_{17}^{2} + 0.0169765401744925 X_{11}^{2} X_{18}^{2} - 0.00273974328338991 X_{11}^{2} X_{19}^{2} - 0.0786484642021146 X_{11}^{2} X_{2}^{2} - 0.0393804284139409 X_{11}^{2} X_{3}^{2} + 0.0032475177740504 X_{11}^{2} X_{4}^{2} - 0.105456703858139 X_{11}^{2} X_{5}^{2} - 0.0308665127674979 X_{11}^{2} X_{6}^{2} - 0.0027076937400418 X_{11}^{2} X_{7}^{2} - 0.0163382258997882 X_{11}^{2} X_{8}^{2} - 0.0529216281030097 X_{11}^{2} X_{9}^{2} - 0.00656513054859386 X_{11}^{2} - 1.11096943872984 X_{11} X_{12} - 2.74322422298627 X_{11} X_{13} + 0.864244147398473 X_{11} X_{14} + 1.40018653646781 X_{11} X_{15} + 3.05131317685472 X_{11} X_{16} + 2.11451173054375 X_{11} X_{17} + 0.418176785433885 X_{11} X_{18} - 0.0683728963958034 X_{11} X_{19} - 1.9109153759906 X_{11} X_{2} - 0.95631555518684 X_{11} X_{3} + 0.081777349167731 X_{11} X_{4} - 2.55864651136778 X_{11} X_{5} - 0.748948728102128 X_{11} X_{6} - 0.0684314518691424 X_{11} X_{7} - 0.398592366416509 X_{11} X_{8} - 1.28520847591431 X_{11} X_{9} + 0.00121669781901744 X_{11} - 0.108520395676625 X_{12}^{3} X_{13}^{3} - 0.039453192026052 X_{12}^{3} X_{14}^{3} + 0.211300352729612 X_{12}^{3} X_{15}^{3} - 0.0105783641226339 X_{12}^{3} X_{16}^{3} + 0.321130831355805 X_{12}^{3} X_{17}^{3} + 0.213404083890689 X_{12}^{3} X_{18}^{3} + 0.0159915872463925 X_{12}^{3} X_{19}^{3} - 0.0258062367836623 X_{12}^{3} X_{2}^{3} + 0.220383383692999 X_{12}^{3} X_{3}^{3} - 0.137431748385732 X_{12}^{3} X_{4}^{3} - 0.0785705264416022 X_{12}^{3} X_{5}^{3} - 0.0769180784394853 X_{12}^{3} X_{6}^{3} + 0.003562596393378 X_{12}^{3} X_{7}^{3} - 0.0440815150762047 X_{12}^{3} X_{8}^{3} + 0.190886260682876 X_{12}^{3} X_{9}^{3} - 2.78236740060084 \\\\cdot 10^{-20} X_{12}^{3} + 0.0456113220925116 X_{12}^{2} X_{13}^{2} + 0.0173209519956335 X_{12}^{2} X_{14}^{2} - 0.0964434504625382 X_{12}^{2} X_{15}^{2} + 0.00377026369729621 X_{12}^{2} X_{16}^{2} - 0.0995295549575499 X_{12}^{2} X_{17}^{2} - 0.0932654914521946 X_{12}^{2} X_{18}^{2} - 0.0066176443078252 X_{12}^{2} X_{19}^{2} + 0.0111174458991824 X_{12}^{2} X_{2}^{2} - 0.100490096226818 X_{12}^{2} X_{3}^{2} + 0.0690016207489159 X_{12}^{2} X_{4}^{2} + 0.0353147175022292 X_{12}^{2} X_{5}^{2} + 0.0330572167772206 X_{12}^{2} X_{6}^{2} - 0.00120582409342586 X_{12}^{2} X_{7}^{2} + 0.0190536591693469 X_{12}^{2} X_{8}^{2} - 0.0831042757582426 X_{12}^{2} X_{9}^{2} - 7.60890581218066 \\\\cdot 10^{-20} X_{12}^{2} + 1.18780904089464 X_{12} X_{13} + 0.42790602854843 X_{12} X_{14} - 2.27253952831725 X_{12} X_{15} + 0.119304289152013 X_{12} X_{16} - 3.69881904943352 X_{12} X_{17} - 2.3165019786252 X_{12} X_{18} - 0.175576951125657 X_{12} X_{19} + 0.280980324662311 X_{12} X_{2} - 2.37038487809372 X_{12} X_{3} + 1.4456491463683 X_{12} X_{4} + 0.847795078913952 X_{12} X_{5} + 0.837843005666934 X_{12} X_{6} - 0.0405171680364933 X_{12} X_{7} + 0.479598403208056 X_{12} X_{8} - 2.07369431586106 X_{12} X_{9} + 9.95202595267355 \\\\cdot 10^{-21} X_{12} - 0.0302606990574912 X_{13}^{3} X_{14}^{3} - 0.156479635155748 X_{13}^{3} X_{15}^{3} - 0.0395712136254652 X_{13}^{3} X_{16}^{3} - 0.0560248651324223 X_{13}^{3} X_{17}^{3} - 0.105932786713102 X_{13}^{3} X_{18}^{3} + 0.0731388503902973 X_{13}^{3} X_{19}^{3} + 0.0881626277781755 X_{13}^{3} X_{2}^{3} + 0.120601252912978 X_{13}^{3} X_{3}^{3} - 0.102282114224722 X_{13}^{3} X_{4}^{3} + 0.0436498469553389 X_{13}^{3} X_{5}^{3} - 0.134535811141649 X_{13}^{3} X_{6}^{3} + 0.221009507088354 X_{13}^{3} X_{7}^{3} - 0.0379997578792154 X_{13}^{3} X_{8}^{3} + 0.182001510281156 X_{13}^{3} X_{9}^{3} - 1.60231585341737 \\\\cdot 10^{-20} X_{13}^{3} + 0.0131535607972618 X_{13}^{2} X_{14}^{2} + 0.0642032499091662 X_{13}^{2} X_{15}^{2} + 0.0175653144876373 X_{13}^{2} X_{16}^{2} + 0.0267436255461547 X_{13}^{2} X_{17}^{2} + 0.0457075434140151 X_{13}^{2} X_{18}^{2} - 0.0298448946815182 X_{13}^{2} X_{19}^{2} - 0.0372643769229476 X_{13}^{2} X_{2}^{2} - 0.0564923513428549 X_{13}^{2} X_{3}^{2} + 0.0537613309928022 X_{13}^{2} X_{4}^{2} - 0.0194963394709476 X_{13}^{2} X_{5}^{2} + 0.0568073849843678 X_{13}^{2} X_{6}^{2} - 0.093963568146181 X_{13}^{2} X_{7}^{2} + 0.0164652477251006 X_{13}^{2} X_{8}^{2} - 0.0797363672121653 X_{13}^{2} X_{9}^{2} - 4.29163239214413 \\\\cdot 10^{-20} X_{13}^{2} + 0.32887924038599 X_{13} X_{14} + 1.72058513869802 X_{13} X_{15} + 0.428173012452014 X_{13} X_{16} + 0.596313135581758 X_{13} X_{17} + 1.15302967934923 X_{13} X_{18} - 0.805151174126073 X_{13} X_{19} - 0.963626849166644 X_{13} X_{2} - 1.28934243899358 X_{13} X_{3} + 1.06328137417833 X_{13} X_{4} - 0.471614003815078 X_{13} X_{5} + 1.47074202748039 X_{13} X_{6} - 2.41313371682111 X_{13} X_{7} + 0.413217992908945 X_{13} X_{8} - 1.97453857978984 X_{13} X_{9} + 5.66893646795475 \\\\cdot 10^{-21} X_{13} - 0.132085730854844 X_{14}^{3} X_{15}^{3} - 0.269265771124863 X_{14}^{3} X_{16}^{3} + 0.112927746801629 X_{14}^{3} X_{17}^{3} + 0.0462408734899146 X_{14}^{3} X_{18}^{3} - 0.43126616035845 X_{14}^{3} X_{19}^{3} - 0.0775941936949369 X_{14}^{3} X_{2}^{3} + 0.162982891523029 X_{14}^{3} X_{3}^{3} + 0.266374130331456 X_{14}^{3} X_{4}^{3} - 0.270186548130575 X_{14}^{3} X_{5}^{3} + 0.0115996150070651 X_{14}^{3} X_{6}^{3} - 0.18673754754418 X_{14}^{3} X_{7}^{3} + 0.165994245727269 X_{14}^{3} X_{8}^{3} + 0.128866930728428 X_{14}^{3} X_{9}^{3} + 1.77455703974255 \\\\cdot 10^{-10} X_{14}^{3} + 0.0601542355509873 X_{14}^{2} X_{15}^{2} + 0.120707592045876 X_{14}^{2} X_{16}^{2} - 0.0527072369732464 X_{14}^{2} X_{17}^{2} - 0.0201998171466079 X_{14}^{2} X_{18}^{2} + 0.182288726378462 X_{14}^{2} X_{19}^{2} + 0.0336843831320181 X_{14}^{2} X_{2}^{2} - 0.0738434731261208 X_{14}^{2} X_{3}^{2} - 0.122961886615909 X_{14}^{2} X_{4}^{2} + 0.122969080963291 X_{14}^{2} X_{5}^{2} - 0.00507861148361348 X_{14}^{2} X_{6}^{2} + 0.0862594193070993 X_{14}^{2} X_{7}^{2} - 0.0732939679300431 X_{14}^{2} X_{8}^{2} - 0.0569371425496934 X_{14}^{2} X_{9}^{2} + 2.8654360240907 \\\\cdot 10^{-10} X_{14}^{2} + 1.4211972941226 X_{14} X_{15} + 2.90735113166872 X_{14} X_{16} - 1.20819427256995 X_{14} X_{17} - 0.501989568504388 X_{14} X_{18} + 4.71437879406562 X_{14} X_{19} + 0.843472366551224 X_{14} X_{2} - 1.75546282678587 X_{14} X_{3} - 2.85745981939991 X_{14} X_{4} + 2.90737250831419 X_{14} X_{5} - 0.125860110393036 X_{14} X_{6} + 2.00291458145008 X_{14} X_{7} - 1.79785462339033 X_{14} X_{8} - 1.39556200939619 X_{14} X_{9} - 4.70574415916217 \\\\cdot 10^{-11} X_{14} - 0.0833985981197854 X_{15}^{3} X_{16}^{3} - 0.0857039029558381 X_{15}^{3} X_{17}^{3} - 0.10163087034981 X_{15}^{3} X_{18}^{3} - 0.051331151972687 X_{15}^{3} X_{19}^{3} - 0.00254621180732919 X_{15}^{3} X_{2}^{3} - 0.0778428960004678 X_{15}^{3} X_{3}^{3} + 0.029818129101607 X_{15}^{3} X_{4}^{3} + 0.142408035457703 X_{15}^{3} X_{5}^{3} - 0.171599280712947 X_{15}^{3} X_{6}^{3} + 0.0199880839623715 X_{15}^{3} X_{7}^{3} - 0.0358610812573126 X_{15}^{3} X_{8}^{3} + 0.22078937332062 X_{15}^{3} X_{9}^{3} + 0.032629047033539 X_{15}^{2} X_{16}^{2} + 0.0347477295684178 X_{15}^{2} X_{17}^{2} + 0.0449682081273308 X_{15}^{2} X_{18}^{2} + 0.022953077259633 X_{15}^{2} X_{19}^{2} + 0.00112116403390227 X_{15}^{2} X_{2}^{2} + 0.0441119087839219 X_{15}^{2} X_{3}^{2} - 0.0195477248616328 X_{15}^{2} X_{4}^{2} - 0.0610872735486872 X_{15}^{2} X_{5}^{2} + 0.0683544634619522 X_{15}^{2} X_{6}^{2} - 0.0122206090763757 X_{15}^{2} X_{7}^{2} + 0.0150906893538952 X_{15}^{2} X_{8}^{2} - 0.0976849847038775 X_{15}^{2} X_{9}^{2} + 0.925268803032578 X_{15} X_{16} + 0.944336351057036 X_{15} X_{17} + 1.10043451500266 X_{15} X_{18} + 0.554546632082005 X_{15} X_{19} + 0.0275964760107051 X_{15} X_{2} + 0.792501490128002 X_{15} X_{3} - 0.289898773080859 X_{15} X_{4} - 1.55173447157283 X_{15} X_{5} + 1.89735828566599 X_{15} X_{6} - 0.198906485441743 X_{15} X_{7} + 0.39229863456869 X_{15} X_{8} - 2.39032985938468 X_{15} X_{9} - 0.0750534209783265 X_{16}^{3} X_{17}^{3} + 0.17527498885199 X_{16}^{3} X_{18}^{3} + 0.115815769422984 X_{16}^{3} X_{19}^{3} + 0.0191770886725146 X_{16}^{3} X_{2}^{3} + 0.01182094013087 X_{16}^{3} X_{3}^{3} + 0.363897205248492 X_{16}^{3} X_{4}^{3} - 0.103852648327868 X_{16}^{3} X_{5}^{3} + 0.159974545927584 X_{16}^{3} X_{6}^{3} - 0.126652127749452 X_{16}^{3} X_{7}^{3} - 0.111184812387452 X_{16}^{3} X_{8}^{3} + 0.00199545110746897 X_{16}^{3} X_{9}^{3} - 1.47209169516913 \\\\cdot 10^{-22} X_{16}^{3} + 0.0222927147726736 X_{16}^{2} X_{17}^{2} - 0.0792792147469481 X_{16}^{2} X_{18}^{2} - 0.0531793784231498 X_{16}^{2} X_{19}^{2} - 0.00803015066793651 X_{16}^{2} X_{2}^{2} - 0.00529100386341884 X_{16}^{2} X_{3}^{2} - 0.155974167705768 X_{16}^{2} X_{4}^{2} + 0.0488591768699031 X_{16}^{2} X_{5}^{2} - 0.06945691623886 X_{16}^{2} X_{6}^{2} + 0.0307647575053811 X_{16}^{2} X_{7}^{2} + 0.048892837023475 X_{16}^{2} X_{8}^{2} - 0.000870657114349901 X_{16}^{2} X_{9}^{2} - 5.12833966494074 \\\\cdot 10^{-22} X_{16}^{2} + 0.86968721046224 X_{16} X_{17} - 1.88862164789618 X_{16} X_{18} - 1.24400454844014 X_{16} X_{19} - 0.209987518502678 X_{16} X_{2} - 0.127660328179924 X_{16} X_{3} - 3.96655992218534 X_{16} X_{4} + 1.10923807488969 X_{16} X_{5} - 1.73879868077602 X_{16} X_{6} + 1.50399061516372 X_{16} X_{7} + 1.20531133935876 X_{16} X_{8} - 0.0216675092691125 X_{16} X_{9} + 5.93232969015657 \\\\cdot 10^{-23} X_{16} + 0.0253721179649623 X_{17}^{3} X_{18}^{3} - 0.212468113111032 X_{17}^{3} X_{19}^{3} - 0.0292247375456579 X_{17}^{3} X_{2}^{3} + 0.741441238844389 X_{17}^{3} X_{3}^{3} - 0.064492913032151 X_{17}^{3} X_{4}^{3} + 0.100956219605158 X_{17}^{3} X_{5}^{3} + 0.300629906045977 X_{17}^{3} X_{6}^{3} - 0.075886039477038 X_{17}^{3} X_{7}^{3} + 0.129796507820583 X_{17}^{3} X_{8}^{3} + 0.174625774143103 X_{17}^{3} X_{9}^{3} + 7.39671522391469 \\\\cdot 10^{-15} X_{17}^{3} - 0.011344966311605 X_{17}^{2} X_{18}^{2} + 0.108709496829393 X_{17}^{2} X_{19}^{2} + 0.0129423634942397 X_{17}^{2} X_{2}^{2} - 0.342725967278957 X_{17}^{2} X_{3}^{2} + 0.033370326647743 X_{17}^{2} X_{4}^{2} - 0.0449357277997422 X_{17}^{2} X_{5}^{2} - 0.131053414429208 X_{17}^{2} X_{6}^{2} + 0.0222857314200754 X_{17}^{2} X_{7}^{2} - 0.057122857496744 X_{17}^{2} X_{8}^{2} - 0.078390549837873 X_{17}^{2} X_{9}^{2} + 4.10901850031898 \\\\cdot 10^{-14} X_{17}^{2} - 0.274069879631411 X_{17} X_{18} + 2.22379806137892 X_{17} X_{19} + 0.316340652374054 X_{17} X_{2} - 7.94968465657428 X_{17} X_{3} + 0.673033751766545 X_{17} X_{4} - 1.09157614116606 X_{17} X_{5} - 3.26486084425189 X_{17} X_{6} + 0.880431177848372 X_{17} X_{7} - 1.40677761583846 X_{17} X_{8} - 1.884594058019 X_{17} X_{9} - 3.61275545625934 \\\\cdot 10^{-15} X_{17} - 0.154003929029024 X_{18}^{3} X_{19}^{3} + 0.0827313989228483 X_{18}^{3} X_{2}^{3} - 0.208319145586013 X_{18}^{3} X_{3}^{3} + 0.0168346255854416 X_{18}^{3} X_{4}^{3} + 0.0753479658682652 X_{18}^{3} X_{5}^{3} + 0.0620305277543556 X_{18}^{3} X_{6}^{3} - 0.138007703084182 X_{18}^{3} X_{7}^{3} + 0.0938768422617217 X_{18}^{3} X_{8}^{3} + 0.08020289012811 X_{18}^{3} X_{9}^{3} + 0.00468837521980476 X_{18}^{3} + 0.0659517713321313 X_{18}^{2} X_{19}^{2} - 0.0365702854158641 X_{18}^{2} X_{2}^{2} + 0.0924488120850239 X_{18}^{2} X_{3}^{2} - 0.00738243808923666 X_{18}^{2} X_{4}^{2} - 0.0331613880056381 X_{18}^{2} X_{5}^{2} - 0.0274529741791654 X_{18}^{2} X_{6}^{2} + 0.0619791753653637 X_{18}^{2} X_{7}^{2} - 0.0416228356904998 X_{18}^{2} X_{8}^{2} - 0.0354700814761024 X_{18}^{2} X_{9}^{2} + 0.00975044072598449 X_{18}^{2} + 1.67881338668122 X_{18} X_{19} - 0.895850422455807 X_{18} X_{2} + 2.25396418164602 X_{18} X_{3} - 0.18262077678437 X_{18} X_{4} - 0.81666741416704 X_{18} X_{5} - 0.67151730649831 X_{18} X_{6} + 1.4894231594794 X_{18} X_{7} - 1.0158641744051 X_{18} X_{8} - 0.868377279128138 X_{18} X_{9} - 0.00186795016812278 X_{18} + 0.0420096547300021 X_{19}^{3} X_{2}^{3} - 0.195835258837909 X_{19}^{3} X_{3}^{3} + 0.345154960249995 X_{19}^{3} X_{4}^{3} - 0.0670824338146878 X_{19}^{3} X_{5}^{3} + 0.0184194717147837 X_{19}^{3} X_{6}^{3} + 0.110487205234903 X_{19}^{3} X_{7}^{3} - 0.110790743331213 X_{19}^{3} X_{8}^{3} + 0.11740733691267 X_{19}^{3} X_{9}^{3} - 2.51358561040643 \\\\cdot 10^{-11} X_{19}^{3} - 0.0182529685795225 X_{19}^{2} X_{2}^{2} + 0.0877824437617346 X_{19}^{2} X_{3}^{2} - 0.145598601616381 X_{19}^{2} X_{4}^{2} + 0.0291164232912718 X_{19}^{2} X_{5}^{2} - 0.00807130026821583 X_{19}^{2} X_{6}^{2} - 0.0521850987856263 X_{19}^{2} X_{7}^{2} + 0.0483852472889439 X_{19}^{2} X_{8}^{2} - 0.0512111093506397 X_{19}^{2} X_{9}^{2} - 4.74670250076971 \\\\cdot 10^{-11} X_{19}^{2} - 0.456574680112577 X_{19} X_{2} + 2.11434727938272 X_{19} X_{3} - 3.7746083988558 X_{19} X_{4} + 0.729233793653205 X_{19} X_{5} - 0.199823763598833 X_{19} X_{6} - 1.17931419782601 X_{19} X_{7} + 1.20278391569084 X_{19} X_{8} - 1.27494837708545 X_{19} X_{9} + 7.34548856181381 \\\\cdot 10^{-12} X_{19} + 0.0948855423287359 X_{2}^{3} X_{3}^{3} + 0.0749905374699609 X_{2}^{3} X_{4}^{3} + 0.150499318186495 X_{2}^{3} X_{5}^{3} + 0.0812422718711372 X_{2}^{3} X_{6}^{3} - 0.096514835741906 X_{2}^{3} X_{7}^{3} + 0.084667033908961 X_{2}^{3} X_{8}^{3} + 0.122779189821399 X_{2}^{3} X_{9}^{3} - 0.000610595521594905 X_{2}^{3} - 0.0422106506757635 X_{2}^{2} X_{3}^{2} - 0.0326799605582607 X_{2}^{2} X_{4}^{2} - 0.0666748439798329 X_{2}^{2} X_{5}^{2} - 0.0360061132324776 X_{2}^{2} X_{6}^{2} + 0.0413326691542717 X_{2}^{2} X_{7}^{2} - 0.0375265414326519 X_{2}^{2} X_{8}^{2} - 0.0544914912357449 X_{2}^{2} X_{9}^{2} - 0.00142897607317638 X_{2}^{2} - 1.02605353802477 X_{2} X_{3} - 0.814528200786989 X_{2} X_{4} - 1.62888220766763 X_{2} X_{5} - 0.879218224158744 X_{2} X_{6} + 1.05213315521937 X_{2} X_{7} - 0.916272497929143 X_{2} X_{8} - 1.32834957565509 X_{2} X_{9} + 0.000267529706331029 X_{2} + 0.299493733915757 X_{3}^{3} X_{4}^{3} + 0.128043432769556 X_{3}^{3} X_{5}^{3} + 0.0230362216964854 X_{3}^{3} X_{6}^{3} + 0.204838887100136 X_{3}^{3} X_{7}^{3} + 0.0804639264294166 X_{3}^{3} X_{8}^{3} + 0.11283334120926 X_{3}^{3} X_{9}^{3} + 0.00177564195436954 X_{3}^{3} - 0.140650643390546 X_{3}^{2} X_{4}^{2} - 0.0574021295463445 X_{3}^{2} X_{5}^{2} - 0.0102363208171259 X_{3}^{2} X_{6}^{2} - 0.0928225660539631 X_{3}^{2} X_{7}^{2} - 0.0358117387962326 X_{3}^{2} X_{8}^{2} - 0.0502696115988954 X_{3}^{2} X_{9}^{2} + 0.315023139931042 X_{3}^{2} - 3.19993391770139 X_{3} X_{4} - 1.38231291068239 X_{3} X_{5} - 0.249167203213847 X_{3} X_{6} - 2.20610649676051 X_{3} X_{7} - 0.870012841524575 X_{3} X_{8} - 1.21974319330732 X_{3} X_{9} - 0.0289301483637378 X_{3} - 0.122090899591533 X_{4}^{3} X_{5}^{3} - 0.165156973860295 X_{4}^{3} X_{6}^{3} + 0.000541973735878554 X_{4}^{3} X_{7}^{3} - 0.0940001005275538 X_{4}^{3} X_{8}^{3} + 0.306787087701272 X_{4}^{3} X_{9}^{3} - 1.06794937096972 \\\\cdot 10^{-16} X_{4}^{3} + 0.0551143934453104 X_{4}^{2} X_{5}^{2} + 0.0711907455707823 X_{4}^{2} X_{6}^{2} - 0.000274779427447046 X_{4}^{2} X_{7}^{2} + 0.0407515839128071 X_{4}^{2} X_{8}^{2} - 0.135550233597446 X_{4}^{2} X_{9}^{2} - 2.63149572076388 \\\\cdot 10^{-16} X_{4}^{2} + 1.31612865985349 X_{4} X_{5} + 1.79788789505072 X_{4} X_{6} - 0.00568687940578345 X_{4} X_{7} + 1.02207559492456 X_{4} X_{8} - 3.32230164284964 X_{4} X_{9} + 3.61378727389417 \\\\cdot 10^{-17} X_{4} + 0.163231688032875 X_{5}^{3} X_{6}^{3} - 0.0810597066835528 X_{5}^{3} X_{7}^{3} + 0.109839034104997 X_{5}^{3} X_{8}^{3} + 0.150321806133794 X_{5}^{3} X_{9}^{3} + 3.6190831585502 \\\\cdot 10^{-5} X_{5}^{3} - 0.0716153872173313 X_{5}^{2} X_{6}^{2} + 0.0404929214733459 X_{5}^{2} X_{7}^{2} - 0.0488421085229128 X_{5}^{2} X_{8}^{2} - 0.067094559613871 X_{5}^{2} X_{9}^{2} + 9.15739343594063 \\\\cdot 10^{-5} X_{5}^{2} - 1.77030122954644 X_{5} X_{6} + 0.853484932460992 X_{5} X_{7} - 1.18785299762847 X_{5} X_{8} - 1.62434086396478 X_{5} X_{9} - 1.4372975442568 \\\\cdot 10^{-5} X_{5} - 0.037969127933645 X_{6}^{3} X_{7}^{3} + 0.083895582197307 X_{6}^{3} X_{8}^{3} + 0.0977880272875411 X_{6}^{3} X_{9}^{3} - 0.00010550362087267 X_{6}^{3} + 0.0158950548430753 X_{6}^{2} X_{7}^{2} - 0.0373756583164533 X_{6}^{2} X_{8}^{2} - 0.0435450184076628 X_{6}^{2} X_{9}^{2} - 0.000375236295238397 X_{6}^{2} + 0.415808899252704 X_{6} X_{7} - 0.906924148232715 X_{6} X_{8} - 1.0572061840505 X_{6} X_{9} + 5.26528000462046 \\\\cdot 10^{-5} X_{6} + 0.00876543952562811 X_{7}^{3} X_{8}^{3} + 0.286789015422898 X_{7}^{3} X_{9}^{3} - 0.00374711850696364 X_{7}^{2} X_{8}^{2} - 0.125916679443956 X_{7}^{2} X_{9}^{2} - 0.0955827587605636 X_{7} X_{8} - 3.10995880727667 X_{7} X_{9} + 0.111487642168606 X_{8}^{3} X_{9}^{3} + 0.0811572672868349 X_{8}^{3} - 0.0496746506093022 X_{8}^{2} X_{9}^{2} - 0.931659922811272 X_{8}^{2} - 1.20516319671035 X_{8} X_{9} + 0.0670196501222648 X_{8} + 0.000246356847193825 X_{9}^{3} + 0.000497685841837276 X_{9}^{2} - 9.6624552169958 \\\\cdot 10^{-5} X_{9}} + 1}'"
      ]
     },
     "execution_count": 30,
     "metadata": {},
     "output_type": "execute_result"
    }
   ],
   "source": [
    "from sympy.printing.latex import latex\n",
    "latex(metamodel.approx_expression)"
   ]
  },
  {
   "cell_type": "code",
   "execution_count": 25,
   "metadata": {
    "scrolled": true
   },
   "outputs": [
    {
     "data": {
      "image/png": "[encoded data removed]",
      "text/plain": [
       "<Figure size 1440x720 with 1 Axes>"
      ]
     },
     "metadata": {
      "needs_background": "light"
     },
     "output_type": "display_data"
    },
    {
     "data": {
      "text/plain": [
       "<Figure size 432x288 with 0 Axes>"
      ]
     },
     "metadata": {},
     "output_type": "display_data"
    }
   ],
   "source": [
    "# code reference from https://www.kaggle.com/ashishpatel26/feature-importance-of-lightgbm\n",
    "import matplotlib.pyplot as plt\n",
    "import seaborn as sns\n",
    "import warnings\n",
    "warnings.simplefilter(action='ignore', category=FutureWarning)\n",
    "\n",
    "# sorted(zip(clf.feature_importances_, X.columns), reverse=True)\n",
    "feature_imp = pd.DataFrame(sorted(zip(model.feature_importances_,X.columns)), columns=['Value','Feature'])\n",
    "\n",
    "plt.figure(figsize=(20, 10))\n",
    "sns.barplot(x=\"Value\", y=\"Feature\", data=feature_imp.sort_values(by=\"Value\", ascending=False))\n",
    "plt.title('LightGBM Features (avg over folds)')\n",
    "plt.tight_layout()\n",
    "plt.show()\n",
    "plt.savefig('lgbm_importances-01.png')"
   ]
  },
  {
   "cell_type": "code",
   "execution_count": 26,
   "metadata": {},
   "outputs": [
    {
     "data": {
      "text/plain": [
       "Index(['AKI', 'ALB_I', 'ALK_I', 'AST_I', 'Age', 'BUN', 'CR', 'CXR2', 'DIMER',\n",
       "       'EKG', 'GFR_BIN', 'Glucose', 'Hct', 'MCV', 'NA_I', 'Prior_Co1',\n",
       "       'RACE_E', 'SYMP20', 'TBILI', 'WBC'],\n",
       "      dtype='object')"
      ]
     },
     "execution_count": 26,
     "metadata": {},
     "output_type": "execute_result"
    }
   ],
   "source": [
    "all_data.columns"
   ]
  },
  {
   "cell_type": "code",
   "execution_count": null,
   "metadata": {},
   "outputs": [],
   "source": []
  }
 ],
 "metadata": {
  "kernelspec": {
   "display_name": "Python 3",
   "language": "python",
   "name": "python3"
  },
  "language_info": {
   "codemirror_mode": {
    "name": "ipython",
    "version": 3
   },
   "file_extension": ".py",
   "mimetype": "text/x-python",
   "name": "python",
   "nbconvert_exporter": "python",
   "pygments_lexer": "ipython3",
   "version": "3.7.7"
  }
 },
 "nbformat": 4,
 "nbformat_minor": 2
}
